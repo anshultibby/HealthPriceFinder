{
 "cells": [
  {
   "cell_type": "code",
   "execution_count": 25,
   "id": "323231eb-9acf-4629-8ceb-6446347c151a",
   "metadata": {},
   "outputs": [],
   "source": [
    "import torch\n",
    "import torchvision\n",
    "import json\n",
    "import pandas as pd\n",
    "from healthpricefinder.utils import iterate_for_df\n",
    "import ijson\n",
    "import os\n"
   ]
  },
  {
   "cell_type": "code",
   "execution_count": 2,
   "id": "98a4bc37-8d21-4e5d-bfd3-8d7da8e7cc93",
   "metadata": {},
   "outputs": [],
   "source": [
    "# !pip install -e ../../."
   ]
  },
  {
   "cell_type": "code",
   "execution_count": 3,
   "id": "138badd1-29f7-4651-a07a-6a19d3592df7",
   "metadata": {},
   "outputs": [],
   "source": [
    "df_row_base = {\"negotiation_arrangement\": [None], \"name\": [None], \"billing_code_type\": [None], \"billing_code_type_version\": [None], \"billing_code\": [None],\n",
    "              \"description\": [None], \"negotiated_rate\": [None], \"expiration\": [None], \"provider_references\": [None], \"negotiated_type\": [None], \"billing_class\": [None]}\n"
   ]
  },
  {
   "cell_type": "code",
   "execution_count": 31,
   "id": "2e8c962a-9cea-4f12-b6d1-0445bae9ca39",
   "metadata": {
    "tags": []
   },
   "outputs": [],
   "source": [
    "\n",
    "\n"
   ]
  },
  {
   "cell_type": "markdown",
   "id": "fd017988-c24b-486c-b65f-ebe9a19d3fd9",
   "metadata": {},
   "source": [
    "## Extract provider reference id to NPI relationship"
   ]
  },
  {
   "cell_type": "code",
   "execution_count": 32,
   "id": "29969bea-b057-49c4-834a-7c10d9d072a6",
   "metadata": {},
   "outputs": [],
   "source": [
    "provider_reference = next(f)"
   ]
  },
  {
   "cell_type": "code",
   "execution_count": 44,
   "id": "32fe3289-e845-47e2-a51e-b960b65ddc19",
   "metadata": {},
   "outputs": [],
   "source": [
    "prov_dict = provider_reference[:3090816]\n",
    "prov_dict += \"}\""
   ]
  },
  {
   "cell_type": "code",
   "execution_count": 64,
   "id": "85046617-87f4-4c0f-988b-9eef12fcb78d",
   "metadata": {
    "tags": []
   },
   "outputs": [],
   "source": [
    "providers = json.loads(prov_dict)[\"provider_references\"]\n",
    "provider_df = pd.DataFrame()\n",
    "for p in providers:\n",
    "    provider_dict = {\"provider_id\": [], \"npi_list\": [], \"tin\": [], \"tin_type\": []}\n",
    "    provider_dict[\"provider_id\"].append(p[\"provider_group_id\"])\n",
    "    provider_dict[\"npi_list\"].append(str(p[\"provider_groups\"][0][\"npi\"]))\n",
    "    provider_dict[\"tin\"].append(p[\"provider_groups\"][0][\"tin\"][\"value\"])\n",
    "    provider_dict[\"tin_type\"].append(p[\"provider_groups\"][0][\"tin\"][\"type\"])\n",
    "    provider_row = pd.DataFrame.from_dict(provider_dict)\n",
    "    provider_df = pd.concat([provider_df, provider_row])\n",
    "provider_df = provider_df.reset_index(drop=True)"
   ]
  },
  {
   "cell_type": "code",
   "execution_count": 65,
   "id": "297ea85c-68bc-45c4-a9d1-affd78580312",
   "metadata": {},
   "outputs": [],
   "source": [
    "provider_df.to_csv(\"../../data/aetna_piecewise/provider_references.csv\")"
   ]
  },
  {
   "cell_type": "markdown",
   "id": "f77d2875-23db-492c-b1bc-aa73b932ebe4",
   "metadata": {},
   "source": [
    "## Extract price per procedure csv"
   ]
  },
  {
   "cell_type": "code",
   "execution_count": 4,
   "id": "eb08eb43-d877-4f09-a63b-48ddaa5619b9",
   "metadata": {},
   "outputs": [],
   "source": [
    "def extract_dictlike(s):\n",
    "    start_idx = s.find(\"negotiation_arrangement\")\n",
    "    end_idx = s.find(\"negotiated_rates\")\n",
    "    first_dictlike = s[start_idx-1:end_idx-2]\n",
    "    first_dict = \"{\" + first_dictlike + \"}\"\n",
    "    first_dict = json.loads(first_dict)\n",
    "    return first_dict"
   ]
  },
  {
   "cell_type": "code",
   "execution_count": 23,
   "id": "5cff3238-6f5f-49c9-b96d-f61a4a8cce71",
   "metadata": {},
   "outputs": [],
   "source": [
    "def update_df(fileobj, df_row_base, prices_df, num_iters=1000):\n",
    "    for i in range(num_iters):\n",
    "        line = next(f)\n",
    "        if line.find(\"negotiation_arrangement\") != -1:\n",
    "            procedure_row = extract_dictlike(line)\n",
    "            df_row_base.update(procedure_row)\n",
    "        else:\n",
    "            start_idx = line.find(\"provider_references\")\n",
    "            line = line[start_idx:]\n",
    "            dictlike = '{\"'+ line\n",
    "            prices = json.loads(dictlike)\n",
    "            df_row_base[\"provider_references\"] = str(prices[\"provider_references\"])\n",
    "            df_row_base[\"negotiated_rate\"] = prices[\"negotiated_prices\"][0][\"negotiated_rate\"]\n",
    "            df_row_base[\"expiration_date\"] = prices[\"negotiated_prices\"][0][\"expiration_date\"]\n",
    "            df_row_base[\"billing_class\"] = prices[\"negotiated_prices\"][0][\"billing_class\"]\n",
    "            df = pd.DataFrame(df_row_base)\n",
    "            prices_df = pd.concat([prices_df, df])\n",
    "    return prices_df"
   ]
  },
  {
   "cell_type": "code",
   "execution_count": 21,
   "id": "1bde3b8e-1675-4f70-a906-1c33acd9e109",
   "metadata": {},
   "outputs": [
    {
     "data": {
      "text/plain": [
       "9523394"
      ]
     },
     "execution_count": 21,
     "metadata": {},
     "output_type": "execute_result"
    }
   ],
   "source": [
    "len(f.readlines())"
   ]
  },
  {
   "cell_type": "code",
   "execution_count": 30,
   "id": "3509b034-3368-45b8-bfed-de1923f3d814",
   "metadata": {},
   "outputs": [
    {
     "ename": "KeyboardInterrupt",
     "evalue": "",
     "output_type": "error",
     "traceback": [
      "\u001b[0;31m---------------------------------------------------------------------------\u001b[0m",
      "\u001b[0;31mKeyboardInterrupt\u001b[0m                         Traceback (most recent call last)",
      "Input \u001b[0;32mIn [30]\u001b[0m, in \u001b[0;36m<cell line: 10>\u001b[0;34m()\u001b[0m\n\u001b[1;32m      9\u001b[0m num_iters \u001b[38;5;241m=\u001b[39m \u001b[38;5;241m10000\u001b[39m\n\u001b[1;32m     10\u001b[0m \u001b[38;5;28;01mfor\u001b[39;00m k \u001b[38;5;129;01min\u001b[39;00m \u001b[38;5;28mrange\u001b[39m(num_pieces):\n\u001b[0;32m---> 11\u001b[0m     prices_df_intermediate \u001b[38;5;241m=\u001b[39m \u001b[43mupdate_df\u001b[49m\u001b[43m(\u001b[49m\u001b[43mf\u001b[49m\u001b[43m,\u001b[49m\u001b[43m \u001b[49m\u001b[43mdf_row_base\u001b[49m\u001b[43m,\u001b[49m\u001b[43m \u001b[49m\u001b[43mprices_df\u001b[49m\u001b[43m,\u001b[49m\u001b[43m \u001b[49m\u001b[43mnum_iters\u001b[49m\u001b[43m)\u001b[49m\n\u001b[1;32m     12\u001b[0m     prices_df \u001b[38;5;241m=\u001b[39m pd\u001b[38;5;241m.\u001b[39mconcat([prices_df, prices_df_intermediate])\n\u001b[1;32m     13\u001b[0m     prices_df\u001b[38;5;241m.\u001b[39mreset_index(drop\u001b[38;5;241m=\u001b[39m\u001b[38;5;28;01mTrue\u001b[39;00m)\u001b[38;5;241m.\u001b[39mto_csv(\u001b[38;5;124mf\u001b[39m\u001b[38;5;124m\"\u001b[39m\u001b[38;5;124m../../data/aetna_piecewise/procedure_costs_\u001b[39m\u001b[38;5;132;01m{\u001b[39;00m(k\u001b[38;5;241m+\u001b[39m\u001b[38;5;241m1\u001b[39m)\u001b[38;5;241m*\u001b[39mnum_iters\u001b[38;5;132;01m}\u001b[39;00m\u001b[38;5;124m.csv\u001b[39m\u001b[38;5;124m\"\u001b[39m)\n",
      "Input \u001b[0;32mIn [23]\u001b[0m, in \u001b[0;36mupdate_df\u001b[0;34m(fileobj, df_row_base, prices_df, num_iters)\u001b[0m\n\u001b[1;32m     15\u001b[0m         df_row_base[\u001b[38;5;124m\"\u001b[39m\u001b[38;5;124mbilling_class\u001b[39m\u001b[38;5;124m\"\u001b[39m] \u001b[38;5;241m=\u001b[39m prices[\u001b[38;5;124m\"\u001b[39m\u001b[38;5;124mnegotiated_prices\u001b[39m\u001b[38;5;124m\"\u001b[39m][\u001b[38;5;241m0\u001b[39m][\u001b[38;5;124m\"\u001b[39m\u001b[38;5;124mbilling_class\u001b[39m\u001b[38;5;124m\"\u001b[39m]\n\u001b[1;32m     16\u001b[0m         df \u001b[38;5;241m=\u001b[39m pd\u001b[38;5;241m.\u001b[39mDataFrame(df_row_base)\n\u001b[0;32m---> 17\u001b[0m         prices_df \u001b[38;5;241m=\u001b[39m \u001b[43mpd\u001b[49m\u001b[38;5;241;43m.\u001b[39;49m\u001b[43mconcat\u001b[49m\u001b[43m(\u001b[49m\u001b[43m[\u001b[49m\u001b[43mprices_df\u001b[49m\u001b[43m,\u001b[49m\u001b[43m \u001b[49m\u001b[43mdf\u001b[49m\u001b[43m]\u001b[49m\u001b[43m)\u001b[49m\n\u001b[1;32m     18\u001b[0m \u001b[38;5;28;01mreturn\u001b[39;00m prices_df\n",
      "File \u001b[0;32m~/code/HealthPriceFinder/develop/lib/python3.10/site-packages/pandas/util/_decorators.py:311\u001b[0m, in \u001b[0;36mdeprecate_nonkeyword_arguments.<locals>.decorate.<locals>.wrapper\u001b[0;34m(*args, **kwargs)\u001b[0m\n\u001b[1;32m    305\u001b[0m \u001b[38;5;28;01mif\u001b[39;00m \u001b[38;5;28mlen\u001b[39m(args) \u001b[38;5;241m>\u001b[39m num_allow_args:\n\u001b[1;32m    306\u001b[0m     warnings\u001b[38;5;241m.\u001b[39mwarn(\n\u001b[1;32m    307\u001b[0m         msg\u001b[38;5;241m.\u001b[39mformat(arguments\u001b[38;5;241m=\u001b[39marguments),\n\u001b[1;32m    308\u001b[0m         \u001b[38;5;167;01mFutureWarning\u001b[39;00m,\n\u001b[1;32m    309\u001b[0m         stacklevel\u001b[38;5;241m=\u001b[39mstacklevel,\n\u001b[1;32m    310\u001b[0m     )\n\u001b[0;32m--> 311\u001b[0m \u001b[38;5;28;01mreturn\u001b[39;00m \u001b[43mfunc\u001b[49m\u001b[43m(\u001b[49m\u001b[38;5;241;43m*\u001b[39;49m\u001b[43margs\u001b[49m\u001b[43m,\u001b[49m\u001b[43m \u001b[49m\u001b[38;5;241;43m*\u001b[39;49m\u001b[38;5;241;43m*\u001b[39;49m\u001b[43mkwargs\u001b[49m\u001b[43m)\u001b[49m\n",
      "File \u001b[0;32m~/code/HealthPriceFinder/develop/lib/python3.10/site-packages/pandas/core/reshape/concat.py:360\u001b[0m, in \u001b[0;36mconcat\u001b[0;34m(objs, axis, join, ignore_index, keys, levels, names, verify_integrity, sort, copy)\u001b[0m\n\u001b[1;32m    156\u001b[0m \u001b[38;5;124;03m\"\"\"\u001b[39;00m\n\u001b[1;32m    157\u001b[0m \u001b[38;5;124;03mConcatenate pandas objects along a particular axis with optional set logic\u001b[39;00m\n\u001b[1;32m    158\u001b[0m \u001b[38;5;124;03malong the other axes.\u001b[39;00m\n\u001b[0;32m   (...)\u001b[0m\n\u001b[1;32m    345\u001b[0m \u001b[38;5;124;03mValueError: Indexes have overlapping values: ['a']\u001b[39;00m\n\u001b[1;32m    346\u001b[0m \u001b[38;5;124;03m\"\"\"\u001b[39;00m\n\u001b[1;32m    347\u001b[0m op \u001b[38;5;241m=\u001b[39m _Concatenator(\n\u001b[1;32m    348\u001b[0m     objs,\n\u001b[1;32m    349\u001b[0m     axis\u001b[38;5;241m=\u001b[39maxis,\n\u001b[0;32m   (...)\u001b[0m\n\u001b[1;32m    357\u001b[0m     sort\u001b[38;5;241m=\u001b[39msort,\n\u001b[1;32m    358\u001b[0m )\n\u001b[0;32m--> 360\u001b[0m \u001b[38;5;28;01mreturn\u001b[39;00m \u001b[43mop\u001b[49m\u001b[38;5;241;43m.\u001b[39;49m\u001b[43mget_result\u001b[49m\u001b[43m(\u001b[49m\u001b[43m)\u001b[49m\n",
      "File \u001b[0;32m~/code/HealthPriceFinder/develop/lib/python3.10/site-packages/pandas/core/reshape/concat.py:595\u001b[0m, in \u001b[0;36m_Concatenator.get_result\u001b[0;34m(self)\u001b[0m\n\u001b[1;32m    591\u001b[0m             indexers[ax] \u001b[38;5;241m=\u001b[39m obj_labels\u001b[38;5;241m.\u001b[39mget_indexer(new_labels)\n\u001b[1;32m    593\u001b[0m     mgrs_indexers\u001b[38;5;241m.\u001b[39mappend((obj\u001b[38;5;241m.\u001b[39m_mgr, indexers))\n\u001b[0;32m--> 595\u001b[0m new_data \u001b[38;5;241m=\u001b[39m \u001b[43mconcatenate_managers\u001b[49m\u001b[43m(\u001b[49m\n\u001b[1;32m    596\u001b[0m \u001b[43m    \u001b[49m\u001b[43mmgrs_indexers\u001b[49m\u001b[43m,\u001b[49m\u001b[43m \u001b[49m\u001b[38;5;28;43mself\u001b[39;49m\u001b[38;5;241;43m.\u001b[39;49m\u001b[43mnew_axes\u001b[49m\u001b[43m,\u001b[49m\u001b[43m \u001b[49m\u001b[43mconcat_axis\u001b[49m\u001b[38;5;241;43m=\u001b[39;49m\u001b[38;5;28;43mself\u001b[39;49m\u001b[38;5;241;43m.\u001b[39;49m\u001b[43mbm_axis\u001b[49m\u001b[43m,\u001b[49m\u001b[43m \u001b[49m\u001b[43mcopy\u001b[49m\u001b[38;5;241;43m=\u001b[39;49m\u001b[38;5;28;43mself\u001b[39;49m\u001b[38;5;241;43m.\u001b[39;49m\u001b[43mcopy\u001b[49m\n\u001b[1;32m    597\u001b[0m \u001b[43m\u001b[49m\u001b[43m)\u001b[49m\n\u001b[1;32m    598\u001b[0m \u001b[38;5;28;01mif\u001b[39;00m \u001b[38;5;129;01mnot\u001b[39;00m \u001b[38;5;28mself\u001b[39m\u001b[38;5;241m.\u001b[39mcopy:\n\u001b[1;32m    599\u001b[0m     new_data\u001b[38;5;241m.\u001b[39m_consolidate_inplace()\n",
      "File \u001b[0;32m~/code/HealthPriceFinder/develop/lib/python3.10/site-packages/pandas/core/internals/concat.py:242\u001b[0m, in \u001b[0;36mconcatenate_managers\u001b[0;34m(mgrs_indexers, axes, concat_axis, copy)\u001b[0m\n\u001b[1;32m    240\u001b[0m     fastpath \u001b[38;5;241m=\u001b[39m blk\u001b[38;5;241m.\u001b[39mvalues\u001b[38;5;241m.\u001b[39mdtype \u001b[38;5;241m==\u001b[39m values\u001b[38;5;241m.\u001b[39mdtype\n\u001b[1;32m    241\u001b[0m \u001b[38;5;28;01melse\u001b[39;00m:\n\u001b[0;32m--> 242\u001b[0m     values \u001b[38;5;241m=\u001b[39m \u001b[43m_concatenate_join_units\u001b[49m\u001b[43m(\u001b[49m\u001b[43mjoin_units\u001b[49m\u001b[43m,\u001b[49m\u001b[43m \u001b[49m\u001b[43mconcat_axis\u001b[49m\u001b[43m,\u001b[49m\u001b[43m \u001b[49m\u001b[43mcopy\u001b[49m\u001b[38;5;241;43m=\u001b[39;49m\u001b[43mcopy\u001b[49m\u001b[43m)\u001b[49m\n\u001b[1;32m    243\u001b[0m     fastpath \u001b[38;5;241m=\u001b[39m \u001b[38;5;28;01mFalse\u001b[39;00m\n\u001b[1;32m    245\u001b[0m \u001b[38;5;28;01mif\u001b[39;00m fastpath:\n",
      "File \u001b[0;32m~/code/HealthPriceFinder/develop/lib/python3.10/site-packages/pandas/core/internals/concat.py:578\u001b[0m, in \u001b[0;36m_concatenate_join_units\u001b[0;34m(join_units, concat_axis, copy)\u001b[0m\n\u001b[1;32m    575\u001b[0m     concat_values \u001b[38;5;241m=\u001b[39m ensure_block_shape(concat_values, \u001b[38;5;241m2\u001b[39m)\n\u001b[1;32m    577\u001b[0m \u001b[38;5;28;01melse\u001b[39;00m:\n\u001b[0;32m--> 578\u001b[0m     concat_values \u001b[38;5;241m=\u001b[39m \u001b[43mconcat_compat\u001b[49m\u001b[43m(\u001b[49m\u001b[43mto_concat\u001b[49m\u001b[43m,\u001b[49m\u001b[43m \u001b[49m\u001b[43maxis\u001b[49m\u001b[38;5;241;43m=\u001b[39;49m\u001b[43mconcat_axis\u001b[49m\u001b[43m)\u001b[49m\n\u001b[1;32m    580\u001b[0m \u001b[38;5;28;01mreturn\u001b[39;00m concat_values\n",
      "File \u001b[0;32m~/code/HealthPriceFinder/develop/lib/python3.10/site-packages/pandas/core/dtypes/concat.py:151\u001b[0m, in \u001b[0;36mconcat_compat\u001b[0;34m(to_concat, axis, ea_compat_axis)\u001b[0m\n\u001b[1;32m    148\u001b[0m             to_concat \u001b[38;5;241m=\u001b[39m [x\u001b[38;5;241m.\u001b[39mastype(\u001b[38;5;124m\"\u001b[39m\u001b[38;5;124mobject\u001b[39m\u001b[38;5;124m\"\u001b[39m) \u001b[38;5;28;01mfor\u001b[39;00m x \u001b[38;5;129;01min\u001b[39;00m to_concat]\n\u001b[1;32m    149\u001b[0m             kinds \u001b[38;5;241m=\u001b[39m {\u001b[38;5;124m\"\u001b[39m\u001b[38;5;124mo\u001b[39m\u001b[38;5;124m\"\u001b[39m}\n\u001b[0;32m--> 151\u001b[0m result \u001b[38;5;241m=\u001b[39m \u001b[43mnp\u001b[49m\u001b[38;5;241;43m.\u001b[39;49m\u001b[43mconcatenate\u001b[49m\u001b[43m(\u001b[49m\u001b[43mto_concat\u001b[49m\u001b[43m,\u001b[49m\u001b[43m \u001b[49m\u001b[43maxis\u001b[49m\u001b[38;5;241;43m=\u001b[39;49m\u001b[43maxis\u001b[49m\u001b[43m)\u001b[49m\n\u001b[1;32m    152\u001b[0m \u001b[38;5;28;01mif\u001b[39;00m \u001b[38;5;124m\"\u001b[39m\u001b[38;5;124mb\u001b[39m\u001b[38;5;124m\"\u001b[39m \u001b[38;5;129;01min\u001b[39;00m kinds \u001b[38;5;129;01mand\u001b[39;00m result\u001b[38;5;241m.\u001b[39mdtype\u001b[38;5;241m.\u001b[39mkind \u001b[38;5;129;01min\u001b[39;00m [\u001b[38;5;124m\"\u001b[39m\u001b[38;5;124mi\u001b[39m\u001b[38;5;124m\"\u001b[39m, \u001b[38;5;124m\"\u001b[39m\u001b[38;5;124mu\u001b[39m\u001b[38;5;124m\"\u001b[39m, \u001b[38;5;124m\"\u001b[39m\u001b[38;5;124mf\u001b[39m\u001b[38;5;124m\"\u001b[39m]:\n\u001b[1;32m    153\u001b[0m     \u001b[38;5;66;03m# GH#39817\u001b[39;00m\n\u001b[1;32m    154\u001b[0m     warnings\u001b[38;5;241m.\u001b[39mwarn(\n\u001b[1;32m    155\u001b[0m         \u001b[38;5;124m\"\u001b[39m\u001b[38;5;124mBehavior when concatenating bool-dtype and numeric-dtype arrays is \u001b[39m\u001b[38;5;124m\"\u001b[39m\n\u001b[1;32m    156\u001b[0m         \u001b[38;5;124m\"\u001b[39m\u001b[38;5;124mdeprecated; in a future version these will cast to object dtype \u001b[39m\u001b[38;5;124m\"\u001b[39m\n\u001b[0;32m   (...)\u001b[0m\n\u001b[1;32m    160\u001b[0m         stacklevel\u001b[38;5;241m=\u001b[39mfind_stack_level(),\n\u001b[1;32m    161\u001b[0m     )\n",
      "File \u001b[0;32m<__array_function__ internals>:180\u001b[0m, in \u001b[0;36mconcatenate\u001b[0;34m(*args, **kwargs)\u001b[0m\n",
      "\u001b[0;31mKeyboardInterrupt\u001b[0m: "
     ]
    }
   ],
   "source": [
    "df_row_base = {\"negotiation_arrangement\": [None], \"name\": [None], \"billing_code_type\": [None], \"billing_code_type_version\": [None], \"billing_code\": [None],\n",
    "              \"description\": [None], \"negotiated_rate\": [None], \"expiration_date\": [None], \"provider_references\": [None], \"negotiated_type\": [None], \"billing_class\": [None]}\n",
    "\n",
    "df_row = dict(df_row_base)\n",
    "prices_df = pd.DataFrame()\n",
    "silver_path = \"../../data/2022-09-05_bf1ee0a7-5440-47e6-a69f-c376fb6b01a7_Aetna-Life-insurance-Company.json\"\n",
    "f = open(silver_path, 'r+')\n",
    "num_pieces = 100\n",
    "num_iters = 10000\n",
    "for k in range(num_pieces):\n",
    "    prices_df_intermediate = update_df(f, df_row_base, prices_df, num_iters)\n",
    "    prices_df = pd.concat([prices_df, prices_df_intermediate])\n",
    "    prices_df.reset_index(drop=True).to_csv(f\"../../data/aetna_piecewise/procedure_costs_{(k+1)*num_iters}.csv\")\n",
    "    prev_file = f\"../../data/aetna_piecewise/procedure_costs_{(k)*num_iters}.csv\"\n",
    "    if os.path.exists(prev_file):\n",
    "        os.remove(prev_file)\n",
    "    "
   ]
  },
  {
   "cell_type": "code",
   "execution_count": 32,
   "id": "7f3a64ae-50f1-49fa-b95b-abadca98af19",
   "metadata": {},
   "outputs": [
    {
     "data": {
      "text/plain": [
       "10000"
      ]
     },
     "execution_count": 32,
     "metadata": {},
     "output_type": "execute_result"
    }
   ],
   "source": [
    "num_iters"
   ]
  },
  {
   "cell_type": "code",
   "execution_count": 133,
   "id": "f12c5a22-d3ee-463a-9a3b-3085f6a51270",
   "metadata": {},
   "outputs": [
    {
     "data": {
      "text/plain": [
       "{'provider_references': [372414],\n",
       " 'negotiated_prices': [{'negotiated_type': 'per diem',\n",
       "   'negotiated_rate': 1161.0,\n",
       "   'expiration_date': '9999-12-31',\n",
       "   'service_code': ['21',\n",
       "    '31',\n",
       "    '32',\n",
       "    '33',\n",
       "    '34',\n",
       "    '51',\n",
       "    '54',\n",
       "    '55',\n",
       "    '56',\n",
       "    '61'],\n",
       "   'billing_class': 'institutional'}]}"
      ]
     },
     "execution_count": 133,
     "metadata": {},
     "output_type": "execute_result"
    }
   ],
   "source": []
  },
  {
   "cell_type": "code",
   "execution_count": 132,
   "id": "42e5b263-79b6-45b2-bf10-e8f97bd20e28",
   "metadata": {},
   "outputs": [
    {
     "name": "stdout",
     "output_type": "stream",
     "text": [
      "\"provider_references\":[372414],\"negotiated_prices\":[{\"negotiated_type\": \"per diem\",\"negotiated_rate\": 1161.00,\"expiration_date\": \"9999-12-31\",\"service_code\": [\"21\", \"31\", \"32\", \"33\", \"34\", \"51\", \"54\", \"55\", \"56\", \"61\"],\"billing_class\": \"institutional\"}]}\n",
      "\n"
     ]
    }
   ],
   "source": [
    "print(line)"
   ]
  },
  {
   "cell_type": "code",
   "execution_count": 21,
   "id": "f4087623-2df0-49a4-a70e-27b914cee808",
   "metadata": {},
   "outputs": [],
   "source": [
    "df_row_base = {\"negotiation_arrangement\": [None], \"name\": [None], \"billing_code_type\": [None], \"billing_code_type_version\": [None], \"billing_code\": [None],\n",
    "              \"description\": [None], \"negotiated_rate\": [None], \"expiration_date\": [None], \"provider_references\": [None], \"negotiated_type\": [None], \"billing_class\": [None]}\n",
    "\n",
    "df_row = dict(df_row_base)"
   ]
  },
  {
   "cell_type": "code",
   "execution_count": 22,
   "id": "a7a80ca9-15d5-4be8-95f8-1bc89548612f",
   "metadata": {},
   "outputs": [
    {
     "data": {
      "text/plain": [
       "dict_keys(['negotiation_arrangement', 'name', 'billing_code_type', 'billing_code_type_version', 'billing_code', 'description', 'negotiated_rate', 'expiration_date', 'provider_references', 'negotiated_type', 'billing_class'])"
      ]
     },
     "execution_count": 22,
     "metadata": {},
     "output_type": "execute_result"
    }
   ],
   "source": [
    "df_row.keys()"
   ]
  },
  {
   "cell_type": "code",
   "execution_count": 23,
   "id": "47c0a993-6c26-4193-8a5e-6f65d56e0dac",
   "metadata": {},
   "outputs": [],
   "source": [
    "df_row = df_row_base.copy()\n",
    "procedure_dict = dict(df_row)\n",
    "iter_step_size = 1000000"
   ]
  },
  {
   "cell_type": "markdown",
   "id": "917b72d6-57fc-4c91-b9bb-7630d038492e",
   "metadata": {},
   "source": [
    "## Extract the disease and pricing information for 10 iter cycles"
   ]
  },
  {
   "cell_type": "code",
   "execution_count": 63,
   "id": "c2170558-5c67-4961-ad06-89ca1d2932d2",
   "metadata": {},
   "outputs": [
    {
     "ename": "UnboundLocalError",
     "evalue": "local variable 'provider_references_list' referenced before assignment",
     "output_type": "error",
     "traceback": [
      "\u001b[0;31m---------------------------------------------------------------------------\u001b[0m",
      "\u001b[0;31mUnboundLocalError\u001b[0m                         Traceback (most recent call last)",
      "Input \u001b[0;32mIn [63]\u001b[0m, in \u001b[0;36m<cell line: 2>\u001b[0;34m()\u001b[0m\n\u001b[1;32m      1\u001b[0m iter_step_size \u001b[38;5;241m=\u001b[39m \u001b[38;5;241m1000000\u001b[39m\n\u001b[1;32m      2\u001b[0m \u001b[38;5;28;01mfor\u001b[39;00m i \u001b[38;5;129;01min\u001b[39;00m \u001b[38;5;28mrange\u001b[39m(\u001b[38;5;241m10\u001b[39m):\n\u001b[0;32m----> 3\u001b[0m     main \u001b[38;5;241m=\u001b[39m \u001b[43miterate_for_df\u001b[49m\u001b[43m(\u001b[49m\u001b[43mparser\u001b[49m\u001b[43m,\u001b[49m\u001b[43m \u001b[49m\u001b[43mdf_row\u001b[49m\u001b[43m,\u001b[49m\u001b[43m \u001b[49m\u001b[43miter_step_size\u001b[49m\u001b[43m)\u001b[49m\n\u001b[1;32m      4\u001b[0m     main\u001b[38;5;241m.\u001b[39mto_csv(\u001b[38;5;124mf\u001b[39m\u001b[38;5;124m\"\u001b[39m\u001b[38;5;124m../../data/aetna_piecewise/california_sept_\u001b[39m\u001b[38;5;132;01m{\u001b[39;00mi\u001b[38;5;132;01m}\u001b[39;00m\u001b[38;5;124m.csv\u001b[39m\u001b[38;5;124m\"\u001b[39m)\n",
      "File \u001b[0;32m~/code/HealthPriceFinder/healthpricefinder/utils.py:42\u001b[0m, in \u001b[0;36miterate_for_df\u001b[0;34m(parser, df_row, iter_step_size)\u001b[0m\n\u001b[1;32m     40\u001b[0m \u001b[38;5;28;01mif\u001b[39;00m k \u001b[38;5;241m==\u001b[39m \u001b[38;5;124m\"\u001b[39m\u001b[38;5;124mprovider_references\u001b[39m\u001b[38;5;124m\"\u001b[39m:\n\u001b[1;32m     41\u001b[0m     \u001b[38;5;28;01mif\u001b[39;00m prefix \u001b[38;5;241m==\u001b[39m \u001b[38;5;124mf\u001b[39m\u001b[38;5;124m\"\u001b[39m\u001b[38;5;124min_network.item.negotiated_rates.item.\u001b[39m\u001b[38;5;132;01m{\u001b[39;00mk\u001b[38;5;132;01m}\u001b[39;00m\u001b[38;5;124m.item\u001b[39m\u001b[38;5;124m\"\u001b[39m:\n\u001b[0;32m---> 42\u001b[0m         \u001b[43mprovider_references_list\u001b[49m\u001b[38;5;241m.\u001b[39mappend(value)\n\u001b[1;32m     43\u001b[0m         s \u001b[38;5;241m=\u001b[39m json\u001b[38;5;241m.\u001b[39mdumps(provider_references_list)\n\u001b[1;32m     44\u001b[0m         procedure_dict[k] \u001b[38;5;241m=\u001b[39m [s]\n",
      "\u001b[0;31mUnboundLocalError\u001b[0m: local variable 'provider_references_list' referenced before assignment"
     ]
    }
   ],
   "source": [
    "iter_step_size = 1000000\n",
    "for i in range(10):\n",
    "    main = iterate_for_df(parser, df_row, iter_step_size)\n",
    "    main.to_csv(f\"../../data/aetna_piecewise/california_sept_{i}.csv\")"
   ]
  },
  {
   "cell_type": "code",
   "execution_count": null,
   "id": "ffbb8e4e-9956-4dd1-a363-ebcef539c1c4",
   "metadata": {},
   "outputs": [],
   "source": []
  }
 ],
 "metadata": {
  "kernelspec": {
   "display_name": "Python 3 (ipykernel)",
   "language": "python",
   "name": "python3"
  },
  "language_info": {
   "codemirror_mode": {
    "name": "ipython",
    "version": 3
   },
   "file_extension": ".py",
   "mimetype": "text/x-python",
   "name": "python",
   "nbconvert_exporter": "python",
   "pygments_lexer": "ipython3",
   "version": "3.10.4"
  }
 },
 "nbformat": 4,
 "nbformat_minor": 5
}
