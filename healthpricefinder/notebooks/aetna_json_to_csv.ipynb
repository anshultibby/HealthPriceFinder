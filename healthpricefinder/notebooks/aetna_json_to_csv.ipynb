{
 "cells": [
  {
   "cell_type": "code",
   "execution_count": 2,
   "id": "323231eb-9acf-4629-8ceb-6446347c151a",
   "metadata": {},
   "outputs": [],
   "source": [
    "import torch\n",
    "import torchvision\n",
    "import json\n",
    "import pandas as pd\n",
    "from healthpricefinder.utils import iterate_for_df\n",
    "import ijson\n",
    "import os\n"
   ]
  },
  {
   "cell_type": "code",
   "execution_count": 3,
   "id": "98a4bc37-8d21-4e5d-bfd3-8d7da8e7cc93",
   "metadata": {},
   "outputs": [],
   "source": [
    "# !pip install -e ../../."
   ]
  },
  {
   "cell_type": "code",
   "execution_count": 4,
   "id": "138badd1-29f7-4651-a07a-6a19d3592df7",
   "metadata": {},
   "outputs": [],
   "source": [
    "df_row_base = {\"negotiation_arrangement\": [None], \"name\": [None], \"billing_code_type\": [None], \"billing_code_type_version\": [None], \"billing_code\": [None],\n",
    "              \"description\": [None], \"negotiated_rate\": [None], \"expiration\": [None], \"provider_references\": [None], \"negotiated_type\": [None], \"billing_class\": [None]}\n"
   ]
  },
  {
   "cell_type": "code",
   "execution_count": null,
   "id": "2e8c962a-9cea-4f12-b6d1-0445bae9ca39",
   "metadata": {
    "tags": []
   },
   "outputs": [],
   "source": [
    "\n",
    "\n"
   ]
  },
  {
   "cell_type": "markdown",
   "id": "fd017988-c24b-486c-b65f-ebe9a19d3fd9",
   "metadata": {},
   "source": [
    "## Extract provider reference id to NPI relationship"
   ]
  },
  {
   "cell_type": "code",
   "execution_count": 32,
   "id": "29969bea-b057-49c4-834a-7c10d9d072a6",
   "metadata": {},
   "outputs": [],
   "source": [
    "provider_reference = next(f)"
   ]
  },
  {
   "cell_type": "code",
   "execution_count": 44,
   "id": "32fe3289-e845-47e2-a51e-b960b65ddc19",
   "metadata": {},
   "outputs": [],
   "source": [
    "prov_dict = provider_reference[:3090816]\n",
    "prov_dict += \"}\""
   ]
  },
  {
   "cell_type": "code",
   "execution_count": 64,
   "id": "85046617-87f4-4c0f-988b-9eef12fcb78d",
   "metadata": {
    "tags": []
   },
   "outputs": [],
   "source": [
    "providers = json.loads(prov_dict)[\"provider_references\"]\n",
    "provider_df = pd.DataFrame()\n",
    "for p in providers:\n",
    "    provider_dict = {\"provider_id\": [], \"npi_list\": [], \"tin\": [], \"tin_type\": []}\n",
    "    provider_dict[\"provider_id\"].append(p[\"provider_group_id\"])\n",
    "    provider_dict[\"npi_list\"].append(str(p[\"provider_groups\"][0][\"npi\"]))\n",
    "    provider_dict[\"tin\"].append(p[\"provider_groups\"][0][\"tin\"][\"value\"])\n",
    "    provider_dict[\"tin_type\"].append(p[\"provider_groups\"][0][\"tin\"][\"type\"])\n",
    "    provider_row = pd.DataFrame.from_dict(provider_dict)\n",
    "    provider_df = pd.concat([provider_df, provider_row])\n",
    "provider_df = provider_df.reset_index(drop=True)"
   ]
  },
  {
   "cell_type": "code",
   "execution_count": 65,
   "id": "297ea85c-68bc-45c4-a9d1-affd78580312",
   "metadata": {},
   "outputs": [],
   "source": [
    "provider_df.to_csv(\"../../data/aetna_piecewise/provider_references.csv\")"
   ]
  },
  {
   "cell_type": "markdown",
   "id": "f77d2875-23db-492c-b1bc-aa73b932ebe4",
   "metadata": {},
   "source": [
    "## Extract price per procedure csv"
   ]
  },
  {
   "cell_type": "code",
   "execution_count": 5,
   "id": "eb08eb43-d877-4f09-a63b-48ddaa5619b9",
   "metadata": {},
   "outputs": [],
   "source": [
    "def extract_dictlike(s):\n",
    "    start_idx = s.find(\"negotiation_arrangement\")\n",
    "    end_idx = s.find(\"negotiated_rates\")\n",
    "    first_dictlike = s[start_idx-1:end_idx-2]\n",
    "    first_dict = \"{\" + first_dictlike + \"}\"\n",
    "    first_dict = json.loads(first_dict)\n",
    "    return first_dict"
   ]
  },
  {
   "cell_type": "code",
   "execution_count": 14,
   "id": "4a3698d6-c12a-41a6-aa8d-fb0317252670",
   "metadata": {},
   "outputs": [],
   "source": [
    "def add_row_per_modifier(df_row_base, prices, df, idx):\n",
    "    df_row_base[\"provider_references\"] = str(prices[\"provider_references\"])\n",
    "    for modified_rate in prices[\"negotiated_prices\"]:\n",
    "        df_row_base[\"negotiated_rate\"] = [modified_rate[\"negotiated_rate\"]]\n",
    "        df_row_base[\"expiration_date\"] = [modified_rate[\"expiration_date\"]]\n",
    "        df_row_base[\"billing_class\"] = [modified_rate[\"billing_class\"]]\n",
    "        df_row_base[\"billing_code_modifier\"] = [modified_rate.get(\"billing_code_modifier\", None)]\n",
    "        df_row = pd.DataFrame(df_row_base)\n",
    "        df = pd.concat([df, df_row])\n",
    "    return df"
   ]
  },
  {
   "cell_type": "code",
   "execution_count": 11,
   "id": "5cff3238-6f5f-49c9-b96d-f61a4a8cce71",
   "metadata": {},
   "outputs": [],
   "source": [
    "def update_df(fileobj, df_row_base, prices_df, num_iters=1000):\n",
    "    for i in range(num_iters):\n",
    "        line = next(f)\n",
    "        if line.find(\"negotiation_arrangement\") != -1:\n",
    "            procedure_row = extract_dictlike(line)\n",
    "            df_row_base.update(procedure_row)\n",
    "        else:\n",
    "            start_idx = line.find(\"provider_references\")\n",
    "            line = line[start_idx:]\n",
    "            dictlike = '{\"'+ line\n",
    "            prices = json.loads(dictlike)\n",
    "            prices_df = add_row_per_modifier(df_row_base, prices, prices_df, i)\n",
    "    return prices_df"
   ]
  },
  {
   "cell_type": "code",
   "execution_count": null,
   "id": "3509b034-3368-45b8-bfed-de1923f3d814",
   "metadata": {
    "tags": []
   },
   "outputs": [
    {
     "name": "stderr",
     "output_type": "stream",
     "text": [
      "/tmp/ipykernel_6804/4277747077.py:20: DtypeWarning: Columns (5) have mixed types. Specify dtype option on import or set low_memory=False.\n",
      "  prev_df = pd.read_csv(prev_file)\n",
      "/tmp/ipykernel_6804/4277747077.py:20: DtypeWarning: Columns (5) have mixed types. Specify dtype option on import or set low_memory=False.\n",
      "  prev_df = pd.read_csv(prev_file)\n",
      "/tmp/ipykernel_6804/4277747077.py:20: DtypeWarning: Columns (5) have mixed types. Specify dtype option on import or set low_memory=False.\n",
      "  prev_df = pd.read_csv(prev_file)\n",
      "/tmp/ipykernel_6804/4277747077.py:20: DtypeWarning: Columns (5) have mixed types. Specify dtype option on import or set low_memory=False.\n",
      "  prev_df = pd.read_csv(prev_file)\n",
      "/tmp/ipykernel_6804/4277747077.py:20: DtypeWarning: Columns (5) have mixed types. Specify dtype option on import or set low_memory=False.\n",
      "  prev_df = pd.read_csv(prev_file)\n",
      "/tmp/ipykernel_6804/4277747077.py:20: DtypeWarning: Columns (5) have mixed types. Specify dtype option on import or set low_memory=False.\n",
      "  prev_df = pd.read_csv(prev_file)\n",
      "/tmp/ipykernel_6804/4277747077.py:20: DtypeWarning: Columns (5) have mixed types. Specify dtype option on import or set low_memory=False.\n",
      "  prev_df = pd.read_csv(prev_file)\n",
      "/tmp/ipykernel_6804/4277747077.py:20: DtypeWarning: Columns (5) have mixed types. Specify dtype option on import or set low_memory=False.\n",
      "  prev_df = pd.read_csv(prev_file)\n",
      "/tmp/ipykernel_6804/4277747077.py:20: DtypeWarning: Columns (5) have mixed types. Specify dtype option on import or set low_memory=False.\n",
      "  prev_df = pd.read_csv(prev_file)\n",
      "/tmp/ipykernel_6804/4277747077.py:20: DtypeWarning: Columns (5) have mixed types. Specify dtype option on import or set low_memory=False.\n",
      "  prev_df = pd.read_csv(prev_file)\n",
      "/tmp/ipykernel_6804/4277747077.py:20: DtypeWarning: Columns (6) have mixed types. Specify dtype option on import or set low_memory=False.\n",
      "  prev_df = pd.read_csv(prev_file)\n",
      "/tmp/ipykernel_6804/4277747077.py:20: DtypeWarning: Columns (5) have mixed types. Specify dtype option on import or set low_memory=False.\n",
      "  prev_df = pd.read_csv(prev_file)\n",
      "/tmp/ipykernel_6804/4277747077.py:20: DtypeWarning: Columns (5) have mixed types. Specify dtype option on import or set low_memory=False.\n",
      "  prev_df = pd.read_csv(prev_file)\n",
      "/tmp/ipykernel_6804/4277747077.py:20: DtypeWarning: Columns (6) have mixed types. Specify dtype option on import or set low_memory=False.\n",
      "  prev_df = pd.read_csv(prev_file)\n",
      "/tmp/ipykernel_6804/4277747077.py:20: DtypeWarning: Columns (5) have mixed types. Specify dtype option on import or set low_memory=False.\n",
      "  prev_df = pd.read_csv(prev_file)\n",
      "/tmp/ipykernel_6804/4277747077.py:20: DtypeWarning: Columns (5) have mixed types. Specify dtype option on import or set low_memory=False.\n",
      "  prev_df = pd.read_csv(prev_file)\n",
      "/tmp/ipykernel_6804/4277747077.py:20: DtypeWarning: Columns (5) have mixed types. Specify dtype option on import or set low_memory=False.\n",
      "  prev_df = pd.read_csv(prev_file)\n",
      "/tmp/ipykernel_6804/4277747077.py:20: DtypeWarning: Columns (5) have mixed types. Specify dtype option on import or set low_memory=False.\n",
      "  prev_df = pd.read_csv(prev_file)\n",
      "/tmp/ipykernel_6804/4277747077.py:20: DtypeWarning: Columns (5) have mixed types. Specify dtype option on import or set low_memory=False.\n",
      "  prev_df = pd.read_csv(prev_file)\n"
     ]
    }
   ],
   "source": [
    "df_row_base = {\"negotiation_arrangement\": [None], \"name\": [None], \"billing_code_type\": [None], \"billing_code_type_version\": [None], \"billing_code\": [None], \"billing_code_modifier\": [None],\n",
    "              \"description\": [None], \"negotiated_rate\": [None], \"expiration_date\": [None], \"provider_references\": [None], \"negotiated_type\": [None], \"billing_class\": [None]}\n",
    "\n",
    "df_row = dict(df_row_base)\n",
    "prices_df = pd.DataFrame()\n",
    "silver_path = \"../../data/2022-09-05_bf1ee0a7-5440-47e6-a69f-c376fb6b01a7_Aetna-Life-insurance-Company.json\"\n",
    "with open(silver_path, 'r+') as f:\n",
    "    write_iters = 1000\n",
    "    read_line_iters = 1000\n",
    "    start = 0\n",
    "    for _ in range(start):\n",
    "        next(f)\n",
    "        \n",
    "    for write_iter in range(write_iters):\n",
    "        \n",
    "        read_until = start+((write_iter+1)*read_line_iters)\n",
    "        read_until_prev = start+((write_iter)*read_line_iters)\n",
    "        prev_file = f\"../../data/aetna_piecewise/procedure_costs_{start}_{read_until_prev}.csv\"\n",
    "        if os.path.exists(prev_file):\n",
    "            prev_df = pd.read_csv(prev_file)\n",
    "        else:\n",
    "            prev_df = pd.DataFrame()\n",
    "            \n",
    "        now_df = pd.DataFrame()\n",
    "        now_df = update_df(f, df_row_base, prices_df, read_line_iters)\n",
    "        now_df = pd.concat([prev_df, now_df])\n",
    "        now_df = now_df.loc[:, ~now_df.columns.str.contains('^Unnamed')]\n",
    "        now_df.to_csv(f\"../../data/aetna_piecewise/procedure_costs_{start}_{read_until}.csv\")\n",
    "        if os.path.exists(prev_file):\n",
    "            os.remove(prev_file)\n",
    "            "
   ]
  },
  {
   "cell_type": "code",
   "execution_count": null,
   "id": "7f3a64ae-50f1-49fa-b95b-abadca98af19",
   "metadata": {},
   "outputs": [],
   "source": [
    "df = pd.read_csv(\"../../data/aetna_piecewise/debug/procedure_costs_41000_43000.csv\")"
   ]
  },
  {
   "cell_type": "code",
   "execution_count": 157,
   "id": "d37d9c49-d8ac-48dc-a768-0aa6e2da74d3",
   "metadata": {},
   "outputs": [
    {
     "data": {
      "text/plain": [
       "REPAIR CLAVICLE DISLOCATION                                   1698\n",
       "MTHFR GENE                                                     400\n",
       "ANES UPR LWR GI NDSC PX                                        151\n",
       "IP Detox and ICD10DX F13.21                                    129\n",
       "P32 NA PHOSPHATE                                                86\n",
       "PART HOSP-PSYCH REV 912                                         19\n",
       "INSERT RADIOACT ELEM IN LOW EXTREM SUBCU/FASCIA, OPEN            9\n",
       "INSERTION OF RADIOACT ELEM INTO L UP EXTREM, PERC APPROACH       9\n",
       "DILATION OF LEFT TEMPORAL ARTERY, PERC ENDO APPROACH             7\n",
       "RESECTION OF CONDUCTION MECHANISM, OPEN APPROACH                 7\n",
       "BYPASS R EXT ILIAC ART TO L FEMOR A W SYNTH SUB, OPEN            6\n",
       "Observation Services - Beh..                                     5\n",
       "Name: name, dtype: int64"
      ]
     },
     "execution_count": 157,
     "metadata": {},
     "output_type": "execute_result"
    }
   ],
   "source": [
    "len(df)\n",
    "df.name.value_counts()"
   ]
  },
  {
   "cell_type": "code",
   "execution_count": 161,
   "id": "21202b26-eba1-414a-b412-899bf91e58e3",
   "metadata": {},
   "outputs": [
    {
     "name": "stdout",
     "output_type": "stream",
     "text": [
      "685 1698\n"
     ]
    },
    {
     "data": {
      "text/html": [
       "<div>\n",
       "<style scoped>\n",
       "    .dataframe tbody tr th:only-of-type {\n",
       "        vertical-align: middle;\n",
       "    }\n",
       "\n",
       "    .dataframe tbody tr th {\n",
       "        vertical-align: top;\n",
       "    }\n",
       "\n",
       "    .dataframe thead th {\n",
       "        text-align: right;\n",
       "    }\n",
       "</style>\n",
       "<table border=\"1\" class=\"dataframe\">\n",
       "  <thead>\n",
       "    <tr style=\"text-align: right;\">\n",
       "      <th></th>\n",
       "      <th>Unnamed: 0</th>\n",
       "      <th>negotiation_arrangement</th>\n",
       "      <th>name</th>\n",
       "      <th>billing_code_type</th>\n",
       "      <th>billing_code_type_version</th>\n",
       "      <th>billing_code</th>\n",
       "      <th>billing_code_modifier</th>\n",
       "      <th>description</th>\n",
       "      <th>negotiated_rate</th>\n",
       "      <th>expiration_date</th>\n",
       "      <th>provider_references</th>\n",
       "      <th>negotiated_type</th>\n",
       "      <th>billing_class</th>\n",
       "    </tr>\n",
       "  </thead>\n",
       "  <tbody>\n",
       "    <tr>\n",
       "      <th>2772</th>\n",
       "      <td>2772</td>\n",
       "      <td>ffs</td>\n",
       "      <td>REPAIR CLAVICLE DISLOCATION</td>\n",
       "      <td>CPT</td>\n",
       "      <td>2021.0</td>\n",
       "      <td>23530</td>\n",
       "      <td>55</td>\n",
       "      <td>REPAIR CLAVICLE DISLOCATION</td>\n",
       "      <td>115.17</td>\n",
       "      <td>9999-12-31</td>\n",
       "      <td>[688181]</td>\n",
       "      <td>NaN</td>\n",
       "      <td>professional</td>\n",
       "    </tr>\n",
       "    <tr>\n",
       "      <th>2773</th>\n",
       "      <td>2773</td>\n",
       "      <td>ffs</td>\n",
       "      <td>REPAIR CLAVICLE DISLOCATION</td>\n",
       "      <td>CPT</td>\n",
       "      <td>2021.0</td>\n",
       "      <td>23530</td>\n",
       "      <td>53</td>\n",
       "      <td>REPAIR CLAVICLE DISLOCATION</td>\n",
       "      <td>153.56</td>\n",
       "      <td>9999-12-31</td>\n",
       "      <td>[688181]</td>\n",
       "      <td>NaN</td>\n",
       "      <td>professional</td>\n",
       "    </tr>\n",
       "    <tr>\n",
       "      <th>2774</th>\n",
       "      <td>2774</td>\n",
       "      <td>ffs</td>\n",
       "      <td>REPAIR CLAVICLE DISLOCATION</td>\n",
       "      <td>CPT</td>\n",
       "      <td>2021.0</td>\n",
       "      <td>23530</td>\n",
       "      <td>52</td>\n",
       "      <td>REPAIR CLAVICLE DISLOCATION</td>\n",
       "      <td>383.90</td>\n",
       "      <td>9999-12-31</td>\n",
       "      <td>[688181]</td>\n",
       "      <td>NaN</td>\n",
       "      <td>professional</td>\n",
       "    </tr>\n",
       "    <tr>\n",
       "      <th>2775</th>\n",
       "      <td>2775</td>\n",
       "      <td>ffs</td>\n",
       "      <td>REPAIR CLAVICLE DISLOCATION</td>\n",
       "      <td>CPT</td>\n",
       "      <td>2021.0</td>\n",
       "      <td>23530</td>\n",
       "      <td>78</td>\n",
       "      <td>REPAIR CLAVICLE DISLOCATION</td>\n",
       "      <td>537.46</td>\n",
       "      <td>9999-12-31</td>\n",
       "      <td>[688181]</td>\n",
       "      <td>NaN</td>\n",
       "      <td>professional</td>\n",
       "    </tr>\n",
       "    <tr>\n",
       "      <th>2776</th>\n",
       "      <td>2776</td>\n",
       "      <td>ffs</td>\n",
       "      <td>REPAIR CLAVICLE DISLOCATION</td>\n",
       "      <td>CPT</td>\n",
       "      <td>2021.0</td>\n",
       "      <td>23530</td>\n",
       "      <td>54</td>\n",
       "      <td>REPAIR CLAVICLE DISLOCATION</td>\n",
       "      <td>575.85</td>\n",
       "      <td>9999-12-31</td>\n",
       "      <td>[688181]</td>\n",
       "      <td>NaN</td>\n",
       "      <td>professional</td>\n",
       "    </tr>\n",
       "    <tr>\n",
       "      <th>2777</th>\n",
       "      <td>2777</td>\n",
       "      <td>ffs</td>\n",
       "      <td>REPAIR CLAVICLE DISLOCATION</td>\n",
       "      <td>CPT</td>\n",
       "      <td>2021.0</td>\n",
       "      <td>23530</td>\n",
       "      <td>56</td>\n",
       "      <td>REPAIR CLAVICLE DISLOCATION</td>\n",
       "      <td>76.78</td>\n",
       "      <td>9999-12-31</td>\n",
       "      <td>[688181]</td>\n",
       "      <td>NaN</td>\n",
       "      <td>professional</td>\n",
       "    </tr>\n",
       "    <tr>\n",
       "      <th>2903</th>\n",
       "      <td>2903</td>\n",
       "      <td>ffs</td>\n",
       "      <td>REPAIR CLAVICLE DISLOCATION</td>\n",
       "      <td>CPT</td>\n",
       "      <td>2021.0</td>\n",
       "      <td>23530</td>\n",
       "      <td>30</td>\n",
       "      <td>REPAIR CLAVICLE DISLOCATION</td>\n",
       "      <td>52.00</td>\n",
       "      <td>9999-12-31</td>\n",
       "      <td>[688181]</td>\n",
       "      <td>NaN</td>\n",
       "      <td>professional</td>\n",
       "    </tr>\n",
       "  </tbody>\n",
       "</table>\n",
       "</div>"
      ],
      "text/plain": [
       "      Unnamed: 0 negotiation_arrangement                         name  \\\n",
       "2772        2772                     ffs  REPAIR CLAVICLE DISLOCATION   \n",
       "2773        2773                     ffs  REPAIR CLAVICLE DISLOCATION   \n",
       "2774        2774                     ffs  REPAIR CLAVICLE DISLOCATION   \n",
       "2775        2775                     ffs  REPAIR CLAVICLE DISLOCATION   \n",
       "2776        2776                     ffs  REPAIR CLAVICLE DISLOCATION   \n",
       "2777        2777                     ffs  REPAIR CLAVICLE DISLOCATION   \n",
       "2903        2903                     ffs  REPAIR CLAVICLE DISLOCATION   \n",
       "\n",
       "     billing_code_type  billing_code_type_version billing_code  \\\n",
       "2772               CPT                     2021.0        23530   \n",
       "2773               CPT                     2021.0        23530   \n",
       "2774               CPT                     2021.0        23530   \n",
       "2775               CPT                     2021.0        23530   \n",
       "2776               CPT                     2021.0        23530   \n",
       "2777               CPT                     2021.0        23530   \n",
       "2903               CPT                     2021.0        23530   \n",
       "\n",
       "     billing_code_modifier                  description  negotiated_rate  \\\n",
       "2772                    55  REPAIR CLAVICLE DISLOCATION           115.17   \n",
       "2773                    53  REPAIR CLAVICLE DISLOCATION           153.56   \n",
       "2774                    52  REPAIR CLAVICLE DISLOCATION           383.90   \n",
       "2775                    78  REPAIR CLAVICLE DISLOCATION           537.46   \n",
       "2776                    54  REPAIR CLAVICLE DISLOCATION           575.85   \n",
       "2777                    56  REPAIR CLAVICLE DISLOCATION            76.78   \n",
       "2903                    30  REPAIR CLAVICLE DISLOCATION            52.00   \n",
       "\n",
       "     expiration_date provider_references  negotiated_type billing_class  \n",
       "2772      9999-12-31            [688181]              NaN  professional  \n",
       "2773      9999-12-31            [688181]              NaN  professional  \n",
       "2774      9999-12-31            [688181]              NaN  professional  \n",
       "2775      9999-12-31            [688181]              NaN  professional  \n",
       "2776      9999-12-31            [688181]              NaN  professional  \n",
       "2777      9999-12-31            [688181]              NaN  professional  \n",
       "2903      9999-12-31            [688181]              NaN  professional  "
      ]
     },
     "execution_count": 161,
     "metadata": {},
     "output_type": "execute_result"
    }
   ],
   "source": [
    "subset = df.loc[df.name == \"REPAIR CLAVICLE DISLOCATION\"]\n",
    "subset.provider_references.value_counts()\n",
    "subset.loc[subset.provider_references == \"[688181]\"]"
   ]
  },
  {
   "cell_type": "code",
   "execution_count": 159,
   "id": "f12c5a22-d3ee-463a-9a3b-3085f6a51270",
   "metadata": {},
   "outputs": [
    {
     "name": "stdout",
     "output_type": "stream",
     "text": [
      "162 400\n"
     ]
    },
    {
     "data": {
      "text/plain": [
       "[451624]            34\n",
       "[337195]            23\n",
       "[552545]            23\n",
       "[293883]            23\n",
       "[701845]            23\n",
       "                    ..\n",
       "[27626]              1\n",
       "[1295]               1\n",
       "[307283]             1\n",
       "[240649, 411175]     1\n",
       "[587278, 726614]     1\n",
       "Name: provider_references, Length: 898, dtype: int64"
      ]
     },
     "execution_count": 159,
     "metadata": {},
     "output_type": "execute_result"
    }
   ],
   "source": [
    "subset = df.loc[df.name == \"MTHFR GENE\"]\n",
    "df.provider_references.value_counts()"
   ]
  },
  {
   "cell_type": "code",
   "execution_count": 29,
   "id": "42e5b263-79b6-45b2-bf10-e8f97bd20e28",
   "metadata": {},
   "outputs": [
    {
     "data": {
      "text/html": [
       "<div>\n",
       "<style scoped>\n",
       "    .dataframe tbody tr th:only-of-type {\n",
       "        vertical-align: middle;\n",
       "    }\n",
       "\n",
       "    .dataframe tbody tr th {\n",
       "        vertical-align: top;\n",
       "    }\n",
       "\n",
       "    .dataframe thead th {\n",
       "        text-align: right;\n",
       "    }\n",
       "</style>\n",
       "<table border=\"1\" class=\"dataframe\">\n",
       "  <thead>\n",
       "    <tr style=\"text-align: right;\">\n",
       "      <th></th>\n",
       "      <th>Unnamed: 0</th>\n",
       "      <th>negotiation_arrangement</th>\n",
       "      <th>name</th>\n",
       "      <th>billing_code_type</th>\n",
       "      <th>billing_code_type_version</th>\n",
       "      <th>billing_code</th>\n",
       "      <th>description</th>\n",
       "      <th>negotiated_rate</th>\n",
       "      <th>expiration_date</th>\n",
       "      <th>provider_references</th>\n",
       "      <th>negotiated_type</th>\n",
       "      <th>billing_class</th>\n",
       "    </tr>\n",
       "  </thead>\n",
       "  <tbody>\n",
       "    <tr>\n",
       "      <th>900</th>\n",
       "      <td>900</td>\n",
       "      <td>ffs</td>\n",
       "      <td>P32 NA PHOSPHATE</td>\n",
       "      <td>HCPCS</td>\n",
       "      <td>2021.0</td>\n",
       "      <td>A9563</td>\n",
       "      <td>P32 NA PHOSPHATE</td>\n",
       "      <td>365.85</td>\n",
       "      <td>9999-12-31</td>\n",
       "      <td>[451624]</td>\n",
       "      <td>NaN</td>\n",
       "      <td>institutional</td>\n",
       "    </tr>\n",
       "    <tr>\n",
       "      <th>923</th>\n",
       "      <td>923</td>\n",
       "      <td>ffs</td>\n",
       "      <td>P32 NA PHOSPHATE</td>\n",
       "      <td>HCPCS</td>\n",
       "      <td>2021.0</td>\n",
       "      <td>A9563</td>\n",
       "      <td>P32 NA PHOSPHATE</td>\n",
       "      <td>300.00</td>\n",
       "      <td>9999-12-31</td>\n",
       "      <td>[451624]</td>\n",
       "      <td>NaN</td>\n",
       "      <td>institutional</td>\n",
       "    </tr>\n",
       "    <tr>\n",
       "      <th>1898</th>\n",
       "      <td>1898</td>\n",
       "      <td>ffs</td>\n",
       "      <td>P32 NA PHOSPHATE</td>\n",
       "      <td>HCPCS</td>\n",
       "      <td>2021.0</td>\n",
       "      <td>A9563</td>\n",
       "      <td>P32 NA PHOSPHATE</td>\n",
       "      <td>365.85</td>\n",
       "      <td>9999-12-31</td>\n",
       "      <td>[451624]</td>\n",
       "      <td>NaN</td>\n",
       "      <td>institutional</td>\n",
       "    </tr>\n",
       "    <tr>\n",
       "      <th>1921</th>\n",
       "      <td>1921</td>\n",
       "      <td>ffs</td>\n",
       "      <td>P32 NA PHOSPHATE</td>\n",
       "      <td>HCPCS</td>\n",
       "      <td>2021.0</td>\n",
       "      <td>A9563</td>\n",
       "      <td>P32 NA PHOSPHATE</td>\n",
       "      <td>300.00</td>\n",
       "      <td>9999-12-31</td>\n",
       "      <td>[451624]</td>\n",
       "      <td>NaN</td>\n",
       "      <td>institutional</td>\n",
       "    </tr>\n",
       "    <tr>\n",
       "      <th>3886</th>\n",
       "      <td>3886</td>\n",
       "      <td>ffs</td>\n",
       "      <td>P32 NA PHOSPHATE</td>\n",
       "      <td>HCPCS</td>\n",
       "      <td>2021.0</td>\n",
       "      <td>A9563</td>\n",
       "      <td>P32 NA PHOSPHATE</td>\n",
       "      <td>365.85</td>\n",
       "      <td>9999-12-31</td>\n",
       "      <td>[451624]</td>\n",
       "      <td>NaN</td>\n",
       "      <td>institutional</td>\n",
       "    </tr>\n",
       "    <tr>\n",
       "      <th>3909</th>\n",
       "      <td>3909</td>\n",
       "      <td>ffs</td>\n",
       "      <td>P32 NA PHOSPHATE</td>\n",
       "      <td>HCPCS</td>\n",
       "      <td>2021.0</td>\n",
       "      <td>A9563</td>\n",
       "      <td>P32 NA PHOSPHATE</td>\n",
       "      <td>300.00</td>\n",
       "      <td>9999-12-31</td>\n",
       "      <td>[451624]</td>\n",
       "      <td>NaN</td>\n",
       "      <td>institutional</td>\n",
       "    </tr>\n",
       "    <tr>\n",
       "      <th>4884</th>\n",
       "      <td>4884</td>\n",
       "      <td>ffs</td>\n",
       "      <td>P32 NA PHOSPHATE</td>\n",
       "      <td>HCPCS</td>\n",
       "      <td>2021.0</td>\n",
       "      <td>A9563</td>\n",
       "      <td>P32 NA PHOSPHATE</td>\n",
       "      <td>365.85</td>\n",
       "      <td>9999-12-31</td>\n",
       "      <td>[451624]</td>\n",
       "      <td>NaN</td>\n",
       "      <td>institutional</td>\n",
       "    </tr>\n",
       "    <tr>\n",
       "      <th>4907</th>\n",
       "      <td>4907</td>\n",
       "      <td>ffs</td>\n",
       "      <td>P32 NA PHOSPHATE</td>\n",
       "      <td>HCPCS</td>\n",
       "      <td>2021.0</td>\n",
       "      <td>A9563</td>\n",
       "      <td>P32 NA PHOSPHATE</td>\n",
       "      <td>300.00</td>\n",
       "      <td>9999-12-31</td>\n",
       "      <td>[451624]</td>\n",
       "      <td>NaN</td>\n",
       "      <td>institutional</td>\n",
       "    </tr>\n",
       "  </tbody>\n",
       "</table>\n",
       "</div>"
      ],
      "text/plain": [
       "      Unnamed: 0 negotiation_arrangement              name billing_code_type  \\\n",
       "900          900                     ffs  P32 NA PHOSPHATE             HCPCS   \n",
       "923          923                     ffs  P32 NA PHOSPHATE             HCPCS   \n",
       "1898        1898                     ffs  P32 NA PHOSPHATE             HCPCS   \n",
       "1921        1921                     ffs  P32 NA PHOSPHATE             HCPCS   \n",
       "3886        3886                     ffs  P32 NA PHOSPHATE             HCPCS   \n",
       "3909        3909                     ffs  P32 NA PHOSPHATE             HCPCS   \n",
       "4884        4884                     ffs  P32 NA PHOSPHATE             HCPCS   \n",
       "4907        4907                     ffs  P32 NA PHOSPHATE             HCPCS   \n",
       "\n",
       "      billing_code_type_version billing_code       description  \\\n",
       "900                      2021.0        A9563  P32 NA PHOSPHATE   \n",
       "923                      2021.0        A9563  P32 NA PHOSPHATE   \n",
       "1898                     2021.0        A9563  P32 NA PHOSPHATE   \n",
       "1921                     2021.0        A9563  P32 NA PHOSPHATE   \n",
       "3886                     2021.0        A9563  P32 NA PHOSPHATE   \n",
       "3909                     2021.0        A9563  P32 NA PHOSPHATE   \n",
       "4884                     2021.0        A9563  P32 NA PHOSPHATE   \n",
       "4907                     2021.0        A9563  P32 NA PHOSPHATE   \n",
       "\n",
       "      negotiated_rate expiration_date provider_references  negotiated_type  \\\n",
       "900            365.85      9999-12-31            [451624]              NaN   \n",
       "923            300.00      9999-12-31            [451624]              NaN   \n",
       "1898           365.85      9999-12-31            [451624]              NaN   \n",
       "1921           300.00      9999-12-31            [451624]              NaN   \n",
       "3886           365.85      9999-12-31            [451624]              NaN   \n",
       "3909           300.00      9999-12-31            [451624]              NaN   \n",
       "4884           365.85      9999-12-31            [451624]              NaN   \n",
       "4907           300.00      9999-12-31            [451624]              NaN   \n",
       "\n",
       "      billing_class  \n",
       "900   institutional  \n",
       "923   institutional  \n",
       "1898  institutional  \n",
       "1921  institutional  \n",
       "3886  institutional  \n",
       "3909  institutional  \n",
       "4884  institutional  \n",
       "4907  institutional  "
      ]
     },
     "execution_count": 29,
     "metadata": {},
     "output_type": "execute_result"
    }
   ],
   "source": [
    "df.loc[df.provider_references == \"[451624]\"]"
   ]
  },
  {
   "cell_type": "code",
   "execution_count": 21,
   "id": "f4087623-2df0-49a4-a70e-27b914cee808",
   "metadata": {},
   "outputs": [],
   "source": [
    "df_row_base = {\"negotiation_arrangement\": [None], \"name\": [None], \"billing_code_type\": [None], \"billing_code_type_version\": [None], \"billing_code\": [None],\n",
    "              \"description\": [None], \"negotiated_rate\": [None], \"expiration_date\": [None], \"provider_references\": [None], \"negotiated_type\": [None], \"billing_class\": [None]}\n",
    "\n",
    "df_row = dict(df_row_base)"
   ]
  },
  {
   "cell_type": "code",
   "execution_count": 22,
   "id": "a7a80ca9-15d5-4be8-95f8-1bc89548612f",
   "metadata": {},
   "outputs": [
    {
     "data": {
      "text/plain": [
       "dict_keys(['negotiation_arrangement', 'name', 'billing_code_type', 'billing_code_type_version', 'billing_code', 'description', 'negotiated_rate', 'expiration_date', 'provider_references', 'negotiated_type', 'billing_class'])"
      ]
     },
     "execution_count": 22,
     "metadata": {},
     "output_type": "execute_result"
    }
   ],
   "source": [
    "df_row.keys()"
   ]
  },
  {
   "cell_type": "code",
   "execution_count": 23,
   "id": "47c0a993-6c26-4193-8a5e-6f65d56e0dac",
   "metadata": {},
   "outputs": [],
   "source": [
    "df_row = df_row_base.copy()\n",
    "procedure_dict = dict(df_row)\n",
    "iter_step_size = 1000000"
   ]
  },
  {
   "cell_type": "markdown",
   "id": "917b72d6-57fc-4c91-b9bb-7630d038492e",
   "metadata": {},
   "source": [
    "## Extract the disease and pricing information for 10 iter cycles"
   ]
  },
  {
   "cell_type": "code",
   "execution_count": 63,
   "id": "c2170558-5c67-4961-ad06-89ca1d2932d2",
   "metadata": {},
   "outputs": [
    {
     "ename": "UnboundLocalError",
     "evalue": "local variable 'provider_references_list' referenced before assignment",
     "output_type": "error",
     "traceback": [
      "\u001b[0;31m---------------------------------------------------------------------------\u001b[0m",
      "\u001b[0;31mUnboundLocalError\u001b[0m                         Traceback (most recent call last)",
      "Input \u001b[0;32mIn [63]\u001b[0m, in \u001b[0;36m<cell line: 2>\u001b[0;34m()\u001b[0m\n\u001b[1;32m      1\u001b[0m iter_step_size \u001b[38;5;241m=\u001b[39m \u001b[38;5;241m1000000\u001b[39m\n\u001b[1;32m      2\u001b[0m \u001b[38;5;28;01mfor\u001b[39;00m i \u001b[38;5;129;01min\u001b[39;00m \u001b[38;5;28mrange\u001b[39m(\u001b[38;5;241m10\u001b[39m):\n\u001b[0;32m----> 3\u001b[0m     main \u001b[38;5;241m=\u001b[39m \u001b[43miterate_for_df\u001b[49m\u001b[43m(\u001b[49m\u001b[43mparser\u001b[49m\u001b[43m,\u001b[49m\u001b[43m \u001b[49m\u001b[43mdf_row\u001b[49m\u001b[43m,\u001b[49m\u001b[43m \u001b[49m\u001b[43miter_step_size\u001b[49m\u001b[43m)\u001b[49m\n\u001b[1;32m      4\u001b[0m     main\u001b[38;5;241m.\u001b[39mto_csv(\u001b[38;5;124mf\u001b[39m\u001b[38;5;124m\"\u001b[39m\u001b[38;5;124m../../data/aetna_piecewise/california_sept_\u001b[39m\u001b[38;5;132;01m{\u001b[39;00mi\u001b[38;5;132;01m}\u001b[39;00m\u001b[38;5;124m.csv\u001b[39m\u001b[38;5;124m\"\u001b[39m)\n",
      "File \u001b[0;32m~/code/HealthPriceFinder/healthpricefinder/utils.py:42\u001b[0m, in \u001b[0;36miterate_for_df\u001b[0;34m(parser, df_row, iter_step_size)\u001b[0m\n\u001b[1;32m     40\u001b[0m \u001b[38;5;28;01mif\u001b[39;00m k \u001b[38;5;241m==\u001b[39m \u001b[38;5;124m\"\u001b[39m\u001b[38;5;124mprovider_references\u001b[39m\u001b[38;5;124m\"\u001b[39m:\n\u001b[1;32m     41\u001b[0m     \u001b[38;5;28;01mif\u001b[39;00m prefix \u001b[38;5;241m==\u001b[39m \u001b[38;5;124mf\u001b[39m\u001b[38;5;124m\"\u001b[39m\u001b[38;5;124min_network.item.negotiated_rates.item.\u001b[39m\u001b[38;5;132;01m{\u001b[39;00mk\u001b[38;5;132;01m}\u001b[39;00m\u001b[38;5;124m.item\u001b[39m\u001b[38;5;124m\"\u001b[39m:\n\u001b[0;32m---> 42\u001b[0m         \u001b[43mprovider_references_list\u001b[49m\u001b[38;5;241m.\u001b[39mappend(value)\n\u001b[1;32m     43\u001b[0m         s \u001b[38;5;241m=\u001b[39m json\u001b[38;5;241m.\u001b[39mdumps(provider_references_list)\n\u001b[1;32m     44\u001b[0m         procedure_dict[k] \u001b[38;5;241m=\u001b[39m [s]\n",
      "\u001b[0;31mUnboundLocalError\u001b[0m: local variable 'provider_references_list' referenced before assignment"
     ]
    }
   ],
   "source": [
    "iter_step_size = 1000000\n",
    "for i in range(10):\n",
    "    main = iterate_for_df(parser, df_row, iter_step_size)\n",
    "    main.to_csv(f\"../../data/aetna_piecewise/california_sept_{i}.csv\")"
   ]
  },
  {
   "cell_type": "code",
   "execution_count": null,
   "id": "ffbb8e4e-9956-4dd1-a363-ebcef539c1c4",
   "metadata": {},
   "outputs": [],
   "source": []
  }
 ],
 "metadata": {
  "kernelspec": {
   "display_name": "Python 3 (ipykernel)",
   "language": "python",
   "name": "python3"
  },
  "language_info": {
   "codemirror_mode": {
    "name": "ipython",
    "version": 3
   },
   "file_extension": ".py",
   "mimetype": "text/x-python",
   "name": "python",
   "nbconvert_exporter": "python",
   "pygments_lexer": "ipython3",
   "version": "3.10.6"
  }
 },
 "nbformat": 4,
 "nbformat_minor": 5
}
