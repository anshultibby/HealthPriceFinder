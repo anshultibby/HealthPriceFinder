{
 "cells": [
  {
   "cell_type": "code",
   "execution_count": 30,
   "id": "6a34ad78-82bb-4fbb-877c-ffdcce8310fc",
   "metadata": {},
   "outputs": [
    {
     "name": "stdout",
     "output_type": "stream",
     "text": [
      "The autoreload extension is already loaded. To reload it, use:\n",
      "  %reload_ext autoreload\n"
     ]
    }
   ],
   "source": [
    "%load_ext autoreload\n",
    "%autoreload 2\n",
    "\n",
    "import pandas as pd\n",
    "import json\n",
    "import requests\n",
    "import math\n",
    "import urllib.request\n",
    "from bs4 import BeautifulSoup as BS\n",
    "import seaborn as sns\n",
    "import numpy as np\n",
    "import matplotlib.pyplot as plt\n",
    "from healthpricefinder.utils import extract_doctor_card, get_distance"
   ]
  },
  {
   "cell_type": "markdown",
   "id": "c7491343-f0a9-4d71-8ffd-77806063b0f9",
   "metadata": {},
   "source": [
    "## Design tree\n",
    "### Patient inputs:\n",
    "1. Procedure\n",
    "2. Location\n",
    "3. Insurance\n",
    "4. Max distance allowed\n",
    "\n",
    "### Patient displayed:\n",
    "1. Sorted list by prices\n",
    "2. Distances\n",
    "3. Ratings on a web scraped version\n"
   ]
  },
  {
   "cell_type": "code",
   "execution_count": null,
   "id": "d5141b5a-9300-4448-b559-b6c3ba11658b",
   "metadata": {},
   "outputs": [],
   "source": []
  },
  {
   "cell_type": "code",
   "execution_count": 31,
   "id": "9ea37659-64f9-4def-955e-b4b13a642466",
   "metadata": {},
   "outputs": [],
   "source": [
    "providers = pd.read_csv(\"../../data/aetna_piecewise/provider_references.csv\")\n",
    "prices = pd.read_csv(\"../../data/aetna_piecewise/procedure_costs_1_330000.csv\")"
   ]
  },
  {
   "cell_type": "code",
   "execution_count": 32,
   "id": "cd6d33db-0ad0-4559-8bf9-8db7a2e20622",
   "metadata": {},
   "outputs": [],
   "source": [
    "def find_procedures_from_substring(prices, substring):\n",
    "    names = prices.name.map(lambda x: str(x).lower())\n",
    "    nose = prices.loc[names.str.contains(substring, na=False)]\n",
    "    return nose.name.value_counts()"
   ]
  },
  {
   "cell_type": "code",
   "execution_count": 33,
   "id": "0df45a0b-16e6-49c1-9007-7733eff219f2",
   "metadata": {},
   "outputs": [
    {
     "data": {
      "text/plain": [
       "VAGINAL DELIVERY ONLY-NO ANT    1399\n",
       "DELIVERY OF PLACENTA             527\n",
       "Name: name, dtype: int64"
      ]
     },
     "execution_count": 33,
     "metadata": {},
     "output_type": "execute_result"
    }
   ],
   "source": [
    "find_procedures_from_substring(prices, \"delivery\")"
   ]
  },
  {
   "cell_type": "code",
   "execution_count": 34,
   "id": "a881baf7-c1fd-46b1-abbb-eabff3e8e852",
   "metadata": {
    "tags": []
   },
   "outputs": [
    {
     "name": "stdout",
     "output_type": "stream",
     "text": [
      "1522 628099\n"
     ]
    },
    {
     "data": {
      "text/plain": [
       "array(['REV 138 & ICD10PX HZ97ZZZ', 'NO DOC CUR FUNCT ASSESS', nan, ...,\n",
       "       'N.GONORRHOEAE, DNA, AMP PROB', 'VERT CORP,TRANS;THOR, SINGLE',\n",
       "       'DILATE OF L INT ILIAC ART WITH 2 INTRALUM DEV, OPEN APPROACH'],\n",
       "      dtype=object)"
      ]
     },
     "execution_count": 34,
     "metadata": {},
     "output_type": "execute_result"
    }
   ],
   "source": [
    "print(len(prices.name.unique()), len(prices))\n",
    "prices.name.unique()"
   ]
  },
  {
   "cell_type": "code",
   "execution_count": 35,
   "id": "46065b60-fd61-4aac-9236-dd48abcf7765",
   "metadata": {},
   "outputs": [
    {
     "data": {
      "text/plain": [
       "EXPLORATION OF A FOOT JOINT                                   6577\n",
       "REMOVAL OF SKIN LESION                                        6526\n",
       "SKULL BASE SURGERY                                            5154\n",
       "REMOVE & GRAFT WRIST LESION                                   4292\n",
       "RECONSTRUCTION OF EYELID                                      4246\n",
       "                                                              ... \n",
       "BURN OF CORNEA AND CONJUNCTIVAL SAC, UNSP EYE, INIT ENCNTR       1\n",
       "130/REV & 10E0XZZ/ICD10PX                                        1\n",
       "DEEP 3 DEG BRN HEAD-MULT                                         1\n",
       "112/REV & 74.91/ICD9                                             1\n",
       "CORROSION OF UNSP DEGREE OF UNSPECIFIED LOWER LEG, SEQUELA       1\n",
       "Name: name, Length: 1521, dtype: int64"
      ]
     },
     "execution_count": 35,
     "metadata": {},
     "output_type": "execute_result"
    }
   ],
   "source": [
    "prices.name.value_counts()"
   ]
  },
  {
   "cell_type": "code",
   "execution_count": 36,
   "id": "01d34e81-e9f4-4e16-8bfc-480cacf35338",
   "metadata": {},
   "outputs": [],
   "source": [
    "def find_procedure_prices(prices, procedure_name, billing_code_modifier=None, plot=False):\n",
    "    \n",
    "\n",
    "    matches = find_matching_relations(procedure_name, prices)\n",
    "    if billing_code_modifier is None:\n",
    "        matches = matches.loc[matches.billing_code_modifier.isna()]\n",
    "    sorted_matches = matches.sort_values(\"negotiated_rate\")\n",
    "    \n",
    "    price_data = list(sorted_matches[\"negotiated_rate\"])\n",
    "    if plot:\n",
    "        fig, ax = plt.subplots(figsize=(10, 5))\n",
    "        plot = sns.histplot(price_data, bins=100, stat=\"probability\", ax=ax)\n",
    "        plot.set_xticks([1000, 5000, 10000, 50000])\n",
    "    \n",
    "    median = np.median(price_data)\n",
    "    mean = np.mean(price_data)\n",
    "    print(f\"There are {len(sorted_matches)} providers offering care for {procedure_name}\")\n",
    "    print(f\"The median price for care is: {median} while the average is: {mean}\")\n",
    "    print(f\"Finding you the lowest cost providers\")\n",
    "    return sorted_matches"
   ]
  },
  {
   "cell_type": "code",
   "execution_count": null,
   "id": "64a7b177-31df-4871-8fd4-ad38225d9360",
   "metadata": {},
   "outputs": [],
   "source": []
  },
  {
   "cell_type": "code",
   "execution_count": 37,
   "id": "2122f7ca-7b5f-4879-b599-1a4fa1b39aad",
   "metadata": {},
   "outputs": [],
   "source": [
    "def find_provider(sorted_matches, idx):\n",
    "    df = sorted_matches.groupby(\"provider_references\").sample(1).reset_index(drop=True)\n",
    "    provider_references = list(df[\"provider_references\"])\n",
    "    if idx >= len(provider_references):\n",
    "        return None\n",
    "    provider_ids = json.loads(provider_references[idx])\n",
    "    npis = list(providers.loc[providers.provider_id.isin(provider_ids)][\"npi_list\"])\n",
    "    # print(f\"There are {len(npis)} providers for this provider_id\")\n",
    "    if len(npis) == 0:\n",
    "        return None\n",
    "    npi = json.loads(npis[0])[0]\n",
    "    if len(str(npi)) != 10:\n",
    "        return None\n",
    "    print(f\"Rate with provider with NPI id: {npi} is going to be: \", list(sorted_matches[\"negotiated_rate\"])[idx])\n",
    "    doctor = extract_doctor_card(npi)\n",
    "    return doctor"
   ]
  },
  {
   "cell_type": "code",
   "execution_count": 38,
   "id": "a1148222-0438-4997-9d26-d4ab0bf57d34",
   "metadata": {},
   "outputs": [
    {
     "name": "stdout",
     "output_type": "stream",
     "text": [
      "found 1399 price points\n",
      "There are 871 providers offering care for VAGINAL DELIVERY ONLY-NO ANT\n",
      "The median price for care is: 1311.0 while the average is: 2922.42328358209\n",
      "Finding you the lowest cost providers\n"
     ]
    }
   ],
   "source": [
    "sorted_matches = find_procedure_prices(prices, \"VAGINAL DELIVERY ONLY-NO ANT\")"
   ]
  },
  {
   "cell_type": "code",
   "execution_count": 39,
   "id": "93e30597-6590-43ec-948f-a3354486d26e",
   "metadata": {},
   "outputs": [],
   "source": [
    "# sorted_matches.head(10)"
   ]
  },
  {
   "cell_type": "code",
   "execution_count": 40,
   "id": "5bcaa2d7-5528-4109-a8da-b39dc9a2a9f0",
   "metadata": {},
   "outputs": [],
   "source": [
    "def providers_with_distances(sorted_matches, num_options, patient_zipcode):\n",
    "    providers_near = pd.DataFrame()\n",
    "    price_data = list(sorted_matches[\"negotiated_rate\"])\n",
    "    i = -1\n",
    "    if len(price_data) < num_options:\n",
    "        num_options = len(price_data)\n",
    "    while i <= num_options:\n",
    "        i += 1\n",
    "        doc = find_provider(sorted_matches, i)\n",
    "        if doc:\n",
    "            distance = get_distance(doc[\"zipcode\"], patient_zipcode)\n",
    "            if distance is None:\n",
    "                # doc_name = doc[\"name\"]\n",
    "                # print(f\"skipped provider named: {doc_name} because the distance was: {distance}, price was: {price_data[i]}\")\n",
    "                continue\n",
    "            doc[\"distance\"] = distance\n",
    "            doc[\"procedure_price\"] = price_data[i]\n",
    "            providers_near = pd.concat([providers_near, pd.DataFrame(doc, index=[i])])\n",
    "\n",
    "\n",
    "    return providers_near"
   ]
  },
  {
   "cell_type": "code",
   "execution_count": 41,
   "id": "445e709c-be67-48a2-a60b-6f3f426774c2",
   "metadata": {
    "tags": []
   },
   "outputs": [
    {
     "name": "stdout",
     "output_type": "stream",
     "text": [
      "Rate with provider with NPI id: 1275720377 is going to be:  147.0\n",
      "Rate with provider with NPI id: 1417957473 is going to be:  298.0\n"
     ]
    },
    {
     "ename": "KeyboardInterrupt",
     "evalue": "",
     "output_type": "error",
     "traceback": [
      "\u001b[0;31m---------------------------------------------------------------------------\u001b[0m",
      "\u001b[0;31mKeyboardInterrupt\u001b[0m                         Traceback (most recent call last)",
      "Input \u001b[0;32mIn [41]\u001b[0m, in \u001b[0;36m<cell line: 1>\u001b[0;34m()\u001b[0m\n\u001b[0;32m----> 1\u001b[0m providers_dist \u001b[38;5;241m=\u001b[39m \u001b[43mproviders_with_distances\u001b[49m\u001b[43m(\u001b[49m\u001b[43msorted_matches\u001b[49m\u001b[43m,\u001b[49m\u001b[43m \u001b[49m\u001b[38;5;241;43m50\u001b[39;49m\u001b[43m,\u001b[49m\u001b[43m \u001b[49m\u001b[38;5;241;43m94086\u001b[39;49m\u001b[43m)\u001b[49m\n",
      "Input \u001b[0;32mIn [40]\u001b[0m, in \u001b[0;36mproviders_with_distances\u001b[0;34m(sorted_matches, num_options, patient_zipcode)\u001b[0m\n\u001b[1;32m      9\u001b[0m doc \u001b[38;5;241m=\u001b[39m find_provider(sorted_matches, i)\n\u001b[1;32m     10\u001b[0m \u001b[38;5;28;01mif\u001b[39;00m doc:\n\u001b[0;32m---> 11\u001b[0m     distance \u001b[38;5;241m=\u001b[39m \u001b[43mget_distance\u001b[49m\u001b[43m(\u001b[49m\u001b[43mdoc\u001b[49m\u001b[43m[\u001b[49m\u001b[38;5;124;43m\"\u001b[39;49m\u001b[38;5;124;43mzipcode\u001b[39;49m\u001b[38;5;124;43m\"\u001b[39;49m\u001b[43m]\u001b[49m\u001b[43m,\u001b[49m\u001b[43m \u001b[49m\u001b[43mpatient_zipcode\u001b[49m\u001b[43m)\u001b[49m\n\u001b[1;32m     12\u001b[0m     \u001b[38;5;28;01mif\u001b[39;00m distance \u001b[38;5;129;01mis\u001b[39;00m \u001b[38;5;28;01mNone\u001b[39;00m:\n\u001b[1;32m     13\u001b[0m         \u001b[38;5;66;03m# doc_name = doc[\"name\"]\u001b[39;00m\n\u001b[1;32m     14\u001b[0m         \u001b[38;5;66;03m# print(f\"skipped provider named: {doc_name} because the distance was: {distance}, price was: {price_data[i]}\")\u001b[39;00m\n\u001b[1;32m     15\u001b[0m         \u001b[38;5;28;01mcontinue\u001b[39;00m\n",
      "File \u001b[0;32m~/code/HealthPriceFinder/healthpricefinder/utils.py:71\u001b[0m, in \u001b[0;36mget_distance\u001b[0;34m(doctor_zipcode, patient_zipcode)\u001b[0m\n\u001b[1;32m     69\u001b[0m \u001b[38;5;28;01mdef\u001b[39;00m \u001b[38;5;21mget_distance\u001b[39m(doctor_zipcode, patient_zipcode):\n\u001b[1;32m     70\u001b[0m     p_latlong \u001b[38;5;241m=\u001b[39m get_lat_long(patient_zipcode)\n\u001b[0;32m---> 71\u001b[0m     d_latlong \u001b[38;5;241m=\u001b[39m \u001b[43mget_lat_long\u001b[49m\u001b[43m(\u001b[49m\u001b[43mdoctor_zipcode\u001b[49m\u001b[43m)\u001b[49m\n\u001b[1;32m     73\u001b[0m     \u001b[38;5;28;01mif\u001b[39;00m d_latlong \u001b[38;5;129;01mis\u001b[39;00m \u001b[38;5;28;01mNone\u001b[39;00m \u001b[38;5;129;01mor\u001b[39;00m p_latlong \u001b[38;5;129;01mis\u001b[39;00m \u001b[38;5;28;01mNone\u001b[39;00m:\n\u001b[1;32m     74\u001b[0m         \u001b[38;5;28;01mreturn\u001b[39;00m \u001b[38;5;28;01mNone\u001b[39;00m\n",
      "File \u001b[0;32m~/code/HealthPriceFinder/healthpricefinder/utils.py:64\u001b[0m, in \u001b[0;36mget_lat_long\u001b[0;34m(zipcode)\u001b[0m\n\u001b[1;32m     62\u001b[0m \u001b[38;5;28;01mdef\u001b[39;00m \u001b[38;5;21mget_lat_long\u001b[39m(zipcode):\n\u001b[1;32m     63\u001b[0m     uri \u001b[38;5;241m=\u001b[39m \u001b[38;5;124mf\u001b[39m\u001b[38;5;124m'\u001b[39m\u001b[38;5;124mhttps://public.opendatasoft.com/api/records/1.0/search/?q=\u001b[39m\u001b[38;5;132;01m{\u001b[39;00mzipcode\u001b[38;5;132;01m}\u001b[39;00m\u001b[38;5;124m&dataset=georef-united-states-of-america-zcta5\u001b[39m\u001b[38;5;124m'\u001b[39m\n\u001b[0;32m---> 64\u001b[0m     records \u001b[38;5;241m=\u001b[39m \u001b[43mrequests\u001b[49m\u001b[38;5;241;43m.\u001b[39;49m\u001b[43mget\u001b[49m\u001b[43m(\u001b[49m\u001b[43muri\u001b[49m\u001b[43m)\u001b[49m\u001b[38;5;241m.\u001b[39mjson()[\u001b[38;5;124m\"\u001b[39m\u001b[38;5;124mrecords\u001b[39m\u001b[38;5;124m\"\u001b[39m]\n\u001b[1;32m     65\u001b[0m     \u001b[38;5;28;01mif\u001b[39;00m \u001b[38;5;28mlen\u001b[39m(records) \u001b[38;5;241m==\u001b[39m \u001b[38;5;241m0\u001b[39m:\n\u001b[1;32m     66\u001b[0m         \u001b[38;5;28;01mreturn\u001b[39;00m \u001b[38;5;28;01mNone\u001b[39;00m\n",
      "File \u001b[0;32m~/code/HealthPriceFinder/develop/lib/python3.10/site-packages/requests/api.py:73\u001b[0m, in \u001b[0;36mget\u001b[0;34m(url, params, **kwargs)\u001b[0m\n\u001b[1;32m     62\u001b[0m \u001b[38;5;28;01mdef\u001b[39;00m \u001b[38;5;21mget\u001b[39m(url, params\u001b[38;5;241m=\u001b[39m\u001b[38;5;28;01mNone\u001b[39;00m, \u001b[38;5;241m*\u001b[39m\u001b[38;5;241m*\u001b[39mkwargs):\n\u001b[1;32m     63\u001b[0m     \u001b[38;5;124mr\u001b[39m\u001b[38;5;124;03m\"\"\"Sends a GET request.\u001b[39;00m\n\u001b[1;32m     64\u001b[0m \n\u001b[1;32m     65\u001b[0m \u001b[38;5;124;03m    :param url: URL for the new :class:`Request` object.\u001b[39;00m\n\u001b[0;32m   (...)\u001b[0m\n\u001b[1;32m     70\u001b[0m \u001b[38;5;124;03m    :rtype: requests.Response\u001b[39;00m\n\u001b[1;32m     71\u001b[0m \u001b[38;5;124;03m    \"\"\"\u001b[39;00m\n\u001b[0;32m---> 73\u001b[0m     \u001b[38;5;28;01mreturn\u001b[39;00m \u001b[43mrequest\u001b[49m\u001b[43m(\u001b[49m\u001b[38;5;124;43m\"\u001b[39;49m\u001b[38;5;124;43mget\u001b[39;49m\u001b[38;5;124;43m\"\u001b[39;49m\u001b[43m,\u001b[49m\u001b[43m \u001b[49m\u001b[43murl\u001b[49m\u001b[43m,\u001b[49m\u001b[43m \u001b[49m\u001b[43mparams\u001b[49m\u001b[38;5;241;43m=\u001b[39;49m\u001b[43mparams\u001b[49m\u001b[43m,\u001b[49m\u001b[43m \u001b[49m\u001b[38;5;241;43m*\u001b[39;49m\u001b[38;5;241;43m*\u001b[39;49m\u001b[43mkwargs\u001b[49m\u001b[43m)\u001b[49m\n",
      "File \u001b[0;32m~/code/HealthPriceFinder/develop/lib/python3.10/site-packages/requests/api.py:59\u001b[0m, in \u001b[0;36mrequest\u001b[0;34m(method, url, **kwargs)\u001b[0m\n\u001b[1;32m     55\u001b[0m \u001b[38;5;66;03m# By using the 'with' statement we are sure the session is closed, thus we\u001b[39;00m\n\u001b[1;32m     56\u001b[0m \u001b[38;5;66;03m# avoid leaving sockets open which can trigger a ResourceWarning in some\u001b[39;00m\n\u001b[1;32m     57\u001b[0m \u001b[38;5;66;03m# cases, and look like a memory leak in others.\u001b[39;00m\n\u001b[1;32m     58\u001b[0m \u001b[38;5;28;01mwith\u001b[39;00m sessions\u001b[38;5;241m.\u001b[39mSession() \u001b[38;5;28;01mas\u001b[39;00m session:\n\u001b[0;32m---> 59\u001b[0m     \u001b[38;5;28;01mreturn\u001b[39;00m \u001b[43msession\u001b[49m\u001b[38;5;241;43m.\u001b[39;49m\u001b[43mrequest\u001b[49m\u001b[43m(\u001b[49m\u001b[43mmethod\u001b[49m\u001b[38;5;241;43m=\u001b[39;49m\u001b[43mmethod\u001b[49m\u001b[43m,\u001b[49m\u001b[43m \u001b[49m\u001b[43murl\u001b[49m\u001b[38;5;241;43m=\u001b[39;49m\u001b[43murl\u001b[49m\u001b[43m,\u001b[49m\u001b[43m \u001b[49m\u001b[38;5;241;43m*\u001b[39;49m\u001b[38;5;241;43m*\u001b[39;49m\u001b[43mkwargs\u001b[49m\u001b[43m)\u001b[49m\n",
      "File \u001b[0;32m~/code/HealthPriceFinder/develop/lib/python3.10/site-packages/requests/sessions.py:587\u001b[0m, in \u001b[0;36mSession.request\u001b[0;34m(self, method, url, params, data, headers, cookies, files, auth, timeout, allow_redirects, proxies, hooks, stream, verify, cert, json)\u001b[0m\n\u001b[1;32m    582\u001b[0m send_kwargs \u001b[38;5;241m=\u001b[39m {\n\u001b[1;32m    583\u001b[0m     \u001b[38;5;124m\"\u001b[39m\u001b[38;5;124mtimeout\u001b[39m\u001b[38;5;124m\"\u001b[39m: timeout,\n\u001b[1;32m    584\u001b[0m     \u001b[38;5;124m\"\u001b[39m\u001b[38;5;124mallow_redirects\u001b[39m\u001b[38;5;124m\"\u001b[39m: allow_redirects,\n\u001b[1;32m    585\u001b[0m }\n\u001b[1;32m    586\u001b[0m send_kwargs\u001b[38;5;241m.\u001b[39mupdate(settings)\n\u001b[0;32m--> 587\u001b[0m resp \u001b[38;5;241m=\u001b[39m \u001b[38;5;28;43mself\u001b[39;49m\u001b[38;5;241;43m.\u001b[39;49m\u001b[43msend\u001b[49m\u001b[43m(\u001b[49m\u001b[43mprep\u001b[49m\u001b[43m,\u001b[49m\u001b[43m \u001b[49m\u001b[38;5;241;43m*\u001b[39;49m\u001b[38;5;241;43m*\u001b[39;49m\u001b[43msend_kwargs\u001b[49m\u001b[43m)\u001b[49m\n\u001b[1;32m    589\u001b[0m \u001b[38;5;28;01mreturn\u001b[39;00m resp\n",
      "File \u001b[0;32m~/code/HealthPriceFinder/develop/lib/python3.10/site-packages/requests/sessions.py:701\u001b[0m, in \u001b[0;36mSession.send\u001b[0;34m(self, request, **kwargs)\u001b[0m\n\u001b[1;32m    698\u001b[0m start \u001b[38;5;241m=\u001b[39m preferred_clock()\n\u001b[1;32m    700\u001b[0m \u001b[38;5;66;03m# Send the request\u001b[39;00m\n\u001b[0;32m--> 701\u001b[0m r \u001b[38;5;241m=\u001b[39m \u001b[43madapter\u001b[49m\u001b[38;5;241;43m.\u001b[39;49m\u001b[43msend\u001b[49m\u001b[43m(\u001b[49m\u001b[43mrequest\u001b[49m\u001b[43m,\u001b[49m\u001b[43m \u001b[49m\u001b[38;5;241;43m*\u001b[39;49m\u001b[38;5;241;43m*\u001b[39;49m\u001b[43mkwargs\u001b[49m\u001b[43m)\u001b[49m\n\u001b[1;32m    703\u001b[0m \u001b[38;5;66;03m# Total elapsed time of the request (approximately)\u001b[39;00m\n\u001b[1;32m    704\u001b[0m elapsed \u001b[38;5;241m=\u001b[39m preferred_clock() \u001b[38;5;241m-\u001b[39m start\n",
      "File \u001b[0;32m~/code/HealthPriceFinder/develop/lib/python3.10/site-packages/requests/adapters.py:489\u001b[0m, in \u001b[0;36mHTTPAdapter.send\u001b[0;34m(self, request, stream, timeout, verify, cert, proxies)\u001b[0m\n\u001b[1;32m    487\u001b[0m \u001b[38;5;28;01mtry\u001b[39;00m:\n\u001b[1;32m    488\u001b[0m     \u001b[38;5;28;01mif\u001b[39;00m \u001b[38;5;129;01mnot\u001b[39;00m chunked:\n\u001b[0;32m--> 489\u001b[0m         resp \u001b[38;5;241m=\u001b[39m \u001b[43mconn\u001b[49m\u001b[38;5;241;43m.\u001b[39;49m\u001b[43murlopen\u001b[49m\u001b[43m(\u001b[49m\n\u001b[1;32m    490\u001b[0m \u001b[43m            \u001b[49m\u001b[43mmethod\u001b[49m\u001b[38;5;241;43m=\u001b[39;49m\u001b[43mrequest\u001b[49m\u001b[38;5;241;43m.\u001b[39;49m\u001b[43mmethod\u001b[49m\u001b[43m,\u001b[49m\n\u001b[1;32m    491\u001b[0m \u001b[43m            \u001b[49m\u001b[43murl\u001b[49m\u001b[38;5;241;43m=\u001b[39;49m\u001b[43murl\u001b[49m\u001b[43m,\u001b[49m\n\u001b[1;32m    492\u001b[0m \u001b[43m            \u001b[49m\u001b[43mbody\u001b[49m\u001b[38;5;241;43m=\u001b[39;49m\u001b[43mrequest\u001b[49m\u001b[38;5;241;43m.\u001b[39;49m\u001b[43mbody\u001b[49m\u001b[43m,\u001b[49m\n\u001b[1;32m    493\u001b[0m \u001b[43m            \u001b[49m\u001b[43mheaders\u001b[49m\u001b[38;5;241;43m=\u001b[39;49m\u001b[43mrequest\u001b[49m\u001b[38;5;241;43m.\u001b[39;49m\u001b[43mheaders\u001b[49m\u001b[43m,\u001b[49m\n\u001b[1;32m    494\u001b[0m \u001b[43m            \u001b[49m\u001b[43mredirect\u001b[49m\u001b[38;5;241;43m=\u001b[39;49m\u001b[38;5;28;43;01mFalse\u001b[39;49;00m\u001b[43m,\u001b[49m\n\u001b[1;32m    495\u001b[0m \u001b[43m            \u001b[49m\u001b[43massert_same_host\u001b[49m\u001b[38;5;241;43m=\u001b[39;49m\u001b[38;5;28;43;01mFalse\u001b[39;49;00m\u001b[43m,\u001b[49m\n\u001b[1;32m    496\u001b[0m \u001b[43m            \u001b[49m\u001b[43mpreload_content\u001b[49m\u001b[38;5;241;43m=\u001b[39;49m\u001b[38;5;28;43;01mFalse\u001b[39;49;00m\u001b[43m,\u001b[49m\n\u001b[1;32m    497\u001b[0m \u001b[43m            \u001b[49m\u001b[43mdecode_content\u001b[49m\u001b[38;5;241;43m=\u001b[39;49m\u001b[38;5;28;43;01mFalse\u001b[39;49;00m\u001b[43m,\u001b[49m\n\u001b[1;32m    498\u001b[0m \u001b[43m            \u001b[49m\u001b[43mretries\u001b[49m\u001b[38;5;241;43m=\u001b[39;49m\u001b[38;5;28;43mself\u001b[39;49m\u001b[38;5;241;43m.\u001b[39;49m\u001b[43mmax_retries\u001b[49m\u001b[43m,\u001b[49m\n\u001b[1;32m    499\u001b[0m \u001b[43m            \u001b[49m\u001b[43mtimeout\u001b[49m\u001b[38;5;241;43m=\u001b[39;49m\u001b[43mtimeout\u001b[49m\u001b[43m,\u001b[49m\n\u001b[1;32m    500\u001b[0m \u001b[43m        \u001b[49m\u001b[43m)\u001b[49m\n\u001b[1;32m    502\u001b[0m     \u001b[38;5;66;03m# Send the request.\u001b[39;00m\n\u001b[1;32m    503\u001b[0m     \u001b[38;5;28;01melse\u001b[39;00m:\n\u001b[1;32m    504\u001b[0m         \u001b[38;5;28;01mif\u001b[39;00m \u001b[38;5;28mhasattr\u001b[39m(conn, \u001b[38;5;124m\"\u001b[39m\u001b[38;5;124mproxy_pool\u001b[39m\u001b[38;5;124m\"\u001b[39m):\n",
      "File \u001b[0;32m~/code/HealthPriceFinder/develop/lib/python3.10/site-packages/urllib3/connectionpool.py:703\u001b[0m, in \u001b[0;36mHTTPConnectionPool.urlopen\u001b[0;34m(self, method, url, body, headers, retries, redirect, assert_same_host, timeout, pool_timeout, release_conn, chunked, body_pos, **response_kw)\u001b[0m\n\u001b[1;32m    700\u001b[0m     \u001b[38;5;28mself\u001b[39m\u001b[38;5;241m.\u001b[39m_prepare_proxy(conn)\n\u001b[1;32m    702\u001b[0m \u001b[38;5;66;03m# Make the request on the httplib connection object.\u001b[39;00m\n\u001b[0;32m--> 703\u001b[0m httplib_response \u001b[38;5;241m=\u001b[39m \u001b[38;5;28;43mself\u001b[39;49m\u001b[38;5;241;43m.\u001b[39;49m\u001b[43m_make_request\u001b[49m\u001b[43m(\u001b[49m\n\u001b[1;32m    704\u001b[0m \u001b[43m    \u001b[49m\u001b[43mconn\u001b[49m\u001b[43m,\u001b[49m\n\u001b[1;32m    705\u001b[0m \u001b[43m    \u001b[49m\u001b[43mmethod\u001b[49m\u001b[43m,\u001b[49m\n\u001b[1;32m    706\u001b[0m \u001b[43m    \u001b[49m\u001b[43murl\u001b[49m\u001b[43m,\u001b[49m\n\u001b[1;32m    707\u001b[0m \u001b[43m    \u001b[49m\u001b[43mtimeout\u001b[49m\u001b[38;5;241;43m=\u001b[39;49m\u001b[43mtimeout_obj\u001b[49m\u001b[43m,\u001b[49m\n\u001b[1;32m    708\u001b[0m \u001b[43m    \u001b[49m\u001b[43mbody\u001b[49m\u001b[38;5;241;43m=\u001b[39;49m\u001b[43mbody\u001b[49m\u001b[43m,\u001b[49m\n\u001b[1;32m    709\u001b[0m \u001b[43m    \u001b[49m\u001b[43mheaders\u001b[49m\u001b[38;5;241;43m=\u001b[39;49m\u001b[43mheaders\u001b[49m\u001b[43m,\u001b[49m\n\u001b[1;32m    710\u001b[0m \u001b[43m    \u001b[49m\u001b[43mchunked\u001b[49m\u001b[38;5;241;43m=\u001b[39;49m\u001b[43mchunked\u001b[49m\u001b[43m,\u001b[49m\n\u001b[1;32m    711\u001b[0m \u001b[43m\u001b[49m\u001b[43m)\u001b[49m\n\u001b[1;32m    713\u001b[0m \u001b[38;5;66;03m# If we're going to release the connection in ``finally:``, then\u001b[39;00m\n\u001b[1;32m    714\u001b[0m \u001b[38;5;66;03m# the response doesn't need to know about the connection. Otherwise\u001b[39;00m\n\u001b[1;32m    715\u001b[0m \u001b[38;5;66;03m# it will also try to release it and we'll have a double-release\u001b[39;00m\n\u001b[1;32m    716\u001b[0m \u001b[38;5;66;03m# mess.\u001b[39;00m\n\u001b[1;32m    717\u001b[0m response_conn \u001b[38;5;241m=\u001b[39m conn \u001b[38;5;28;01mif\u001b[39;00m \u001b[38;5;129;01mnot\u001b[39;00m release_conn \u001b[38;5;28;01melse\u001b[39;00m \u001b[38;5;28;01mNone\u001b[39;00m\n",
      "File \u001b[0;32m~/code/HealthPriceFinder/develop/lib/python3.10/site-packages/urllib3/connectionpool.py:449\u001b[0m, in \u001b[0;36mHTTPConnectionPool._make_request\u001b[0;34m(self, conn, method, url, timeout, chunked, **httplib_request_kw)\u001b[0m\n\u001b[1;32m    444\u001b[0m             httplib_response \u001b[38;5;241m=\u001b[39m conn\u001b[38;5;241m.\u001b[39mgetresponse()\n\u001b[1;32m    445\u001b[0m         \u001b[38;5;28;01mexcept\u001b[39;00m \u001b[38;5;167;01mBaseException\u001b[39;00m \u001b[38;5;28;01mas\u001b[39;00m e:\n\u001b[1;32m    446\u001b[0m             \u001b[38;5;66;03m# Remove the TypeError from the exception chain in\u001b[39;00m\n\u001b[1;32m    447\u001b[0m             \u001b[38;5;66;03m# Python 3 (including for exceptions like SystemExit).\u001b[39;00m\n\u001b[1;32m    448\u001b[0m             \u001b[38;5;66;03m# Otherwise it looks like a bug in the code.\u001b[39;00m\n\u001b[0;32m--> 449\u001b[0m             \u001b[43msix\u001b[49m\u001b[38;5;241;43m.\u001b[39;49m\u001b[43mraise_from\u001b[49m\u001b[43m(\u001b[49m\u001b[43me\u001b[49m\u001b[43m,\u001b[49m\u001b[43m \u001b[49m\u001b[38;5;28;43;01mNone\u001b[39;49;00m\u001b[43m)\u001b[49m\n\u001b[1;32m    450\u001b[0m \u001b[38;5;28;01mexcept\u001b[39;00m (SocketTimeout, BaseSSLError, SocketError) \u001b[38;5;28;01mas\u001b[39;00m e:\n\u001b[1;32m    451\u001b[0m     \u001b[38;5;28mself\u001b[39m\u001b[38;5;241m.\u001b[39m_raise_timeout(err\u001b[38;5;241m=\u001b[39me, url\u001b[38;5;241m=\u001b[39murl, timeout_value\u001b[38;5;241m=\u001b[39mread_timeout)\n",
      "File \u001b[0;32m<string>:3\u001b[0m, in \u001b[0;36mraise_from\u001b[0;34m(value, from_value)\u001b[0m\n",
      "File \u001b[0;32m~/code/HealthPriceFinder/develop/lib/python3.10/site-packages/urllib3/connectionpool.py:444\u001b[0m, in \u001b[0;36mHTTPConnectionPool._make_request\u001b[0;34m(self, conn, method, url, timeout, chunked, **httplib_request_kw)\u001b[0m\n\u001b[1;32m    441\u001b[0m \u001b[38;5;28;01mexcept\u001b[39;00m \u001b[38;5;167;01mTypeError\u001b[39;00m:\n\u001b[1;32m    442\u001b[0m     \u001b[38;5;66;03m# Python 3\u001b[39;00m\n\u001b[1;32m    443\u001b[0m     \u001b[38;5;28;01mtry\u001b[39;00m:\n\u001b[0;32m--> 444\u001b[0m         httplib_response \u001b[38;5;241m=\u001b[39m \u001b[43mconn\u001b[49m\u001b[38;5;241;43m.\u001b[39;49m\u001b[43mgetresponse\u001b[49m\u001b[43m(\u001b[49m\u001b[43m)\u001b[49m\n\u001b[1;32m    445\u001b[0m     \u001b[38;5;28;01mexcept\u001b[39;00m \u001b[38;5;167;01mBaseException\u001b[39;00m \u001b[38;5;28;01mas\u001b[39;00m e:\n\u001b[1;32m    446\u001b[0m         \u001b[38;5;66;03m# Remove the TypeError from the exception chain in\u001b[39;00m\n\u001b[1;32m    447\u001b[0m         \u001b[38;5;66;03m# Python 3 (including for exceptions like SystemExit).\u001b[39;00m\n\u001b[1;32m    448\u001b[0m         \u001b[38;5;66;03m# Otherwise it looks like a bug in the code.\u001b[39;00m\n\u001b[1;32m    449\u001b[0m         six\u001b[38;5;241m.\u001b[39mraise_from(e, \u001b[38;5;28;01mNone\u001b[39;00m)\n",
      "File \u001b[0;32m/usr/lib/python3.10/http/client.py:1374\u001b[0m, in \u001b[0;36mHTTPConnection.getresponse\u001b[0;34m(self)\u001b[0m\n\u001b[1;32m   1372\u001b[0m \u001b[38;5;28;01mtry\u001b[39;00m:\n\u001b[1;32m   1373\u001b[0m     \u001b[38;5;28;01mtry\u001b[39;00m:\n\u001b[0;32m-> 1374\u001b[0m         \u001b[43mresponse\u001b[49m\u001b[38;5;241;43m.\u001b[39;49m\u001b[43mbegin\u001b[49m\u001b[43m(\u001b[49m\u001b[43m)\u001b[49m\n\u001b[1;32m   1375\u001b[0m     \u001b[38;5;28;01mexcept\u001b[39;00m \u001b[38;5;167;01mConnectionError\u001b[39;00m:\n\u001b[1;32m   1376\u001b[0m         \u001b[38;5;28mself\u001b[39m\u001b[38;5;241m.\u001b[39mclose()\n",
      "File \u001b[0;32m/usr/lib/python3.10/http/client.py:318\u001b[0m, in \u001b[0;36mHTTPResponse.begin\u001b[0;34m(self)\u001b[0m\n\u001b[1;32m    316\u001b[0m \u001b[38;5;66;03m# read until we get a non-100 response\u001b[39;00m\n\u001b[1;32m    317\u001b[0m \u001b[38;5;28;01mwhile\u001b[39;00m \u001b[38;5;28;01mTrue\u001b[39;00m:\n\u001b[0;32m--> 318\u001b[0m     version, status, reason \u001b[38;5;241m=\u001b[39m \u001b[38;5;28;43mself\u001b[39;49m\u001b[38;5;241;43m.\u001b[39;49m\u001b[43m_read_status\u001b[49m\u001b[43m(\u001b[49m\u001b[43m)\u001b[49m\n\u001b[1;32m    319\u001b[0m     \u001b[38;5;28;01mif\u001b[39;00m status \u001b[38;5;241m!=\u001b[39m CONTINUE:\n\u001b[1;32m    320\u001b[0m         \u001b[38;5;28;01mbreak\u001b[39;00m\n",
      "File \u001b[0;32m/usr/lib/python3.10/http/client.py:279\u001b[0m, in \u001b[0;36mHTTPResponse._read_status\u001b[0;34m(self)\u001b[0m\n\u001b[1;32m    278\u001b[0m \u001b[38;5;28;01mdef\u001b[39;00m \u001b[38;5;21m_read_status\u001b[39m(\u001b[38;5;28mself\u001b[39m):\n\u001b[0;32m--> 279\u001b[0m     line \u001b[38;5;241m=\u001b[39m \u001b[38;5;28mstr\u001b[39m(\u001b[38;5;28;43mself\u001b[39;49m\u001b[38;5;241;43m.\u001b[39;49m\u001b[43mfp\u001b[49m\u001b[38;5;241;43m.\u001b[39;49m\u001b[43mreadline\u001b[49m\u001b[43m(\u001b[49m\u001b[43m_MAXLINE\u001b[49m\u001b[43m \u001b[49m\u001b[38;5;241;43m+\u001b[39;49m\u001b[43m \u001b[49m\u001b[38;5;241;43m1\u001b[39;49m\u001b[43m)\u001b[49m, \u001b[38;5;124m\"\u001b[39m\u001b[38;5;124miso-8859-1\u001b[39m\u001b[38;5;124m\"\u001b[39m)\n\u001b[1;32m    280\u001b[0m     \u001b[38;5;28;01mif\u001b[39;00m \u001b[38;5;28mlen\u001b[39m(line) \u001b[38;5;241m>\u001b[39m _MAXLINE:\n\u001b[1;32m    281\u001b[0m         \u001b[38;5;28;01mraise\u001b[39;00m LineTooLong(\u001b[38;5;124m\"\u001b[39m\u001b[38;5;124mstatus line\u001b[39m\u001b[38;5;124m\"\u001b[39m)\n",
      "File \u001b[0;32m/usr/lib/python3.10/socket.py:705\u001b[0m, in \u001b[0;36mSocketIO.readinto\u001b[0;34m(self, b)\u001b[0m\n\u001b[1;32m    703\u001b[0m \u001b[38;5;28;01mwhile\u001b[39;00m \u001b[38;5;28;01mTrue\u001b[39;00m:\n\u001b[1;32m    704\u001b[0m     \u001b[38;5;28;01mtry\u001b[39;00m:\n\u001b[0;32m--> 705\u001b[0m         \u001b[38;5;28;01mreturn\u001b[39;00m \u001b[38;5;28;43mself\u001b[39;49m\u001b[38;5;241;43m.\u001b[39;49m\u001b[43m_sock\u001b[49m\u001b[38;5;241;43m.\u001b[39;49m\u001b[43mrecv_into\u001b[49m\u001b[43m(\u001b[49m\u001b[43mb\u001b[49m\u001b[43m)\u001b[49m\n\u001b[1;32m    706\u001b[0m     \u001b[38;5;28;01mexcept\u001b[39;00m timeout:\n\u001b[1;32m    707\u001b[0m         \u001b[38;5;28mself\u001b[39m\u001b[38;5;241m.\u001b[39m_timeout_occurred \u001b[38;5;241m=\u001b[39m \u001b[38;5;28;01mTrue\u001b[39;00m\n",
      "File \u001b[0;32m/usr/lib/python3.10/ssl.py:1274\u001b[0m, in \u001b[0;36mSSLSocket.recv_into\u001b[0;34m(self, buffer, nbytes, flags)\u001b[0m\n\u001b[1;32m   1270\u001b[0m     \u001b[38;5;28;01mif\u001b[39;00m flags \u001b[38;5;241m!=\u001b[39m \u001b[38;5;241m0\u001b[39m:\n\u001b[1;32m   1271\u001b[0m         \u001b[38;5;28;01mraise\u001b[39;00m \u001b[38;5;167;01mValueError\u001b[39;00m(\n\u001b[1;32m   1272\u001b[0m           \u001b[38;5;124m\"\u001b[39m\u001b[38;5;124mnon-zero flags not allowed in calls to recv_into() on \u001b[39m\u001b[38;5;132;01m%s\u001b[39;00m\u001b[38;5;124m\"\u001b[39m \u001b[38;5;241m%\u001b[39m\n\u001b[1;32m   1273\u001b[0m           \u001b[38;5;28mself\u001b[39m\u001b[38;5;241m.\u001b[39m\u001b[38;5;18m__class__\u001b[39m)\n\u001b[0;32m-> 1274\u001b[0m     \u001b[38;5;28;01mreturn\u001b[39;00m \u001b[38;5;28;43mself\u001b[39;49m\u001b[38;5;241;43m.\u001b[39;49m\u001b[43mread\u001b[49m\u001b[43m(\u001b[49m\u001b[43mnbytes\u001b[49m\u001b[43m,\u001b[49m\u001b[43m \u001b[49m\u001b[43mbuffer\u001b[49m\u001b[43m)\u001b[49m\n\u001b[1;32m   1275\u001b[0m \u001b[38;5;28;01melse\u001b[39;00m:\n\u001b[1;32m   1276\u001b[0m     \u001b[38;5;28;01mreturn\u001b[39;00m \u001b[38;5;28msuper\u001b[39m()\u001b[38;5;241m.\u001b[39mrecv_into(buffer, nbytes, flags)\n",
      "File \u001b[0;32m/usr/lib/python3.10/ssl.py:1130\u001b[0m, in \u001b[0;36mSSLSocket.read\u001b[0;34m(self, len, buffer)\u001b[0m\n\u001b[1;32m   1128\u001b[0m \u001b[38;5;28;01mtry\u001b[39;00m:\n\u001b[1;32m   1129\u001b[0m     \u001b[38;5;28;01mif\u001b[39;00m buffer \u001b[38;5;129;01mis\u001b[39;00m \u001b[38;5;129;01mnot\u001b[39;00m \u001b[38;5;28;01mNone\u001b[39;00m:\n\u001b[0;32m-> 1130\u001b[0m         \u001b[38;5;28;01mreturn\u001b[39;00m \u001b[38;5;28;43mself\u001b[39;49m\u001b[38;5;241;43m.\u001b[39;49m\u001b[43m_sslobj\u001b[49m\u001b[38;5;241;43m.\u001b[39;49m\u001b[43mread\u001b[49m\u001b[43m(\u001b[49m\u001b[38;5;28;43mlen\u001b[39;49m\u001b[43m,\u001b[49m\u001b[43m \u001b[49m\u001b[43mbuffer\u001b[49m\u001b[43m)\u001b[49m\n\u001b[1;32m   1131\u001b[0m     \u001b[38;5;28;01melse\u001b[39;00m:\n\u001b[1;32m   1132\u001b[0m         \u001b[38;5;28;01mreturn\u001b[39;00m \u001b[38;5;28mself\u001b[39m\u001b[38;5;241m.\u001b[39m_sslobj\u001b[38;5;241m.\u001b[39mread(\u001b[38;5;28mlen\u001b[39m)\n",
      "\u001b[0;31mKeyboardInterrupt\u001b[0m: "
     ]
    }
   ],
   "source": [
    "providers_dist = providers_with_distances(sorted_matches, 50, 94086)"
   ]
  },
  {
   "cell_type": "code",
   "execution_count": null,
   "id": "9383dae1-1be0-44e3-9bb1-2e6d3d1f1091",
   "metadata": {
    "tags": []
   },
   "outputs": [],
   "source": [
    "providers_dist"
   ]
  },
  {
   "cell_type": "code",
   "execution_count": null,
   "id": "4ff5d4b7-d98c-44df-aac1-9a20abd572c9",
   "metadata": {},
   "outputs": [],
   "source": [
    "providers_dist.loc[providers_dist[\"distance\"] < 50]"
   ]
  },
  {
   "cell_type": "code",
   "execution_count": null,
   "id": "12870cf8-b0ee-4dec-b0bf-5e3c46873180",
   "metadata": {},
   "outputs": [],
   "source": [
    "providers_dist"
   ]
  },
  {
   "cell_type": "code",
   "execution_count": 145,
   "id": "cad10a77-12b2-4e5f-9d70-a14c96bb9ac9",
   "metadata": {},
   "outputs": [
    {
     "data": {
      "text/plain": [
       "{'name': 'MONICA CECILE NICHOLS',\n",
       " 'credential': 'MD',\n",
       " 'enumeration_date': '2006-10-10',\n",
       " 'gender': 'F',\n",
       " 'taxonomy': 'Psychiatry & Neurology, Psychiatry',\n",
       " 'zipcode': '92563',\n",
       " 'address': '28078 BAXTER RD STE 230',\n",
       " 'address_purpose': 'LOCATION',\n",
       " 'phone': '951-824-6116'}"
      ]
     },
     "execution_count": 145,
     "metadata": {},
     "output_type": "execute_result"
    }
   ],
   "source": [
    "doctor"
   ]
  },
  {
   "cell_type": "code",
   "execution_count": 97,
   "id": "49df20b4-833a-45ad-b554-6f428c57392c",
   "metadata": {},
   "outputs": [],
   "source": []
  },
  {
   "cell_type": "code",
   "execution_count": 95,
   "id": "d5c5151e-40f9-4b88-b0cd-b597c04122ad",
   "metadata": {},
   "outputs": [
    {
     "data": {
      "text/plain": [
       "'Cocaine dependence with cocaine-induced mood disorder'"
      ]
     },
     "execution_count": 95,
     "metadata": {},
     "output_type": "execute_result"
    }
   ],
   "source": []
  },
  {
   "cell_type": "code",
   "execution_count": 90,
   "id": "acade3c3-815d-4ca3-8b29-05dfc4977c42",
   "metadata": {},
   "outputs": [
    {
     "data": {
      "text/plain": [
       "['\\n\\n\\nSearch Page 1/1: F10.20\\n\\n\\n\\n\\n\\n\\n\\n\\n\\n\\n\\n\\n\\n\\n\\n\\n\\n\\n\\n\\n\\n\\n\\nToggle navigation\\n\\n\\n\\n\\n\\n\\n\\n\\n\\n\\n\\n\\n\\n\\n\\n\\nSearch All ICD-10\\n\\nToggle Dropdown\\n\\n\\n\\nSearch All ICD-10\\n\\n\\nICD-10-CM Diagnosis Codes\\nICD-10-PCS Procedure Codes\\n\\nICD-10-CM Diagnosis Index\\nICD-10-CM External Causes Index\\n\\nICD-10-CM Table of Drugs\\nICD-10-CM Table of Neoplasms\\n\\nHCPCS Codes\\n\\nICD-9-CM Diagnosis Codes\\nICD-9-CM Procedure Codes\\n\\nSearch All Data\\n\\n\\n\\n\\n\\n\\n\\n\\n\\n2023/2022\\n\\n\\n\\nCodes \\n\\nICD-10-CM Codes\\nICD-10-PCS Codes\\nLegacy ICD-9-CM Codes\\n\\n\\n\\nIndexes \\n\\nICD-10-CM Index\\nICD-10-CM External Causes Index\\n\\nTable of Drugs\\nTable of Neoplasms\\n\\n\\nConversion\\nDRG\\n\\nRules \\n\\nICD-10-CM\\nNewborn Codes\\nPediatric Codes\\nAdult Codes\\nMaternity Codes\\nFemale Only Diagnosis Codes\\nMale Only Diagnosis Codes\\nManifestation Codes\\nPOA Exempt Codes\\nQuestionable Admission Codes\\nBillable/Specific Codes\\nNon-Billable/Non-Specific Codes\\nICD-10-PCS\\nFemale Only Procedure Codes\\nMale Only Procedure Codes\\n\\n\\n\\nAnalytics \\n\\nApplicable To Crosswalk\\nCode Also Crosswalk\\nCode First Crosswalk\\nIncludes Crosswalk\\nNote Crosswalk\\nType 1 Excludes Crosswalk\\nType 2 Excludes Crosswalk\\nUse Additional Crosswalk\\n\\n\\n\\nChanges \\n\\nICD-10-CM\\nNew 2023 Codes\\nCodes Revised in 2023\\nCodes Deleted in 2023\\nICD-10-PCS\\nNew 2023 Codes\\nCodes Revised in 2023\\nCodes Deleted in 2023\\n\\n\\n\\nHCPCS \\n\\nCodes\\nModifiers\\n\\n\\nLicense Data Files\\nDisclaimer\\n\\n\\n\\n\\n\\n\\n\\n\\n1 result found:\\n\\n  \\n\\n\\n ICD-10-CM Diagnosis Code F10.20  [convert to ICD-9-CM]Alcohol dependence, uncomplicatedICD-10-CM Diagnosis Code F10.20Alcohol dependence, uncomplicated2016 2017 2018 2019 2020 2021 2022 2023 Billable/Specific Code Applicable ToAlcohol use disorder, moderateAlcohol use disorder, severe\\n\\n\\n\\n\\n\\n\\n  \\n\\n\\n\\n  \\n\\n\\n\\n\\n\\n\\n\\n\\n\\n\\nAdvertise with Us  |  License ICD10 Data\\n\\n\\n\\n\\r\\n                        Copyright ©   |  ICD10data.com\\r\\n                    \\n\\n\\n\\n\\n\\n\\n  \\n\\n\\n\\n\\n\\n']"
      ]
     },
     "execution_count": 90,
     "metadata": {},
     "output_type": "execute_result"
    }
   ],
   "source": [
    "str(soup.get_text()).split(\"F14.24\")"
   ]
  },
  {
   "cell_type": "code",
   "execution_count": 119,
   "id": "f6699d1e-5675-4236-a02d-26ce2b0ef648",
   "metadata": {},
   "outputs": [],
   "source": []
  },
  {
   "cell_type": "code",
   "execution_count": 117,
   "id": "98476ad4-7ecb-4b9a-b0c1-802f5e2b921b",
   "metadata": {},
   "outputs": [],
   "source": []
  },
  {
   "cell_type": "code",
   "execution_count": 118,
   "id": "ca91c96e-1b9c-4e32-834c-d05851c2868c",
   "metadata": {},
   "outputs": [
    {
     "data": {
      "text/plain": [
       "'Delivery of Products of Conception, External Approach'"
      ]
     },
     "execution_count": 118,
     "metadata": {},
     "output_type": "execute_result"
    }
   ],
   "source": [
    "diagnosis"
   ]
  },
  {
   "cell_type": "code",
   "execution_count": null,
   "id": "dc0b0555-2720-422d-9f2e-49a1d1ebdaf1",
   "metadata": {},
   "outputs": [],
   "source": []
  }
 ],
 "metadata": {
  "kernelspec": {
   "display_name": "Python 3 (ipykernel)",
   "language": "python",
   "name": "python3"
  },
  "language_info": {
   "codemirror_mode": {
    "name": "ipython",
    "version": 3
   },
   "file_extension": ".py",
   "mimetype": "text/x-python",
   "name": "python",
   "nbconvert_exporter": "python",
   "pygments_lexer": "ipython3",
   "version": "3.10.6"
  }
 },
 "nbformat": 4,
 "nbformat_minor": 5
}
