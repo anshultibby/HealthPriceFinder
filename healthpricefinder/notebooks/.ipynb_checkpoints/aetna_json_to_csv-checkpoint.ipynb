{
 "cells": [
  {
   "cell_type": "code",
   "execution_count": 2,
   "id": "323231eb-9acf-4629-8ceb-6446347c151a",
   "metadata": {},
   "outputs": [],
   "source": [
    "import torch\n",
    "import torchvision\n",
    "import json\n",
    "import pandas as pd\n",
    "from healthpricefinder.utils import iterate_for_df\n",
    "import ijson\n",
    "import os\n"
   ]
  },
  {
   "cell_type": "code",
   "execution_count": 3,
   "id": "98a4bc37-8d21-4e5d-bfd3-8d7da8e7cc93",
   "metadata": {},
   "outputs": [],
   "source": [
    "# !pip install -e ../../."
   ]
  },
  {
   "cell_type": "code",
   "execution_count": 4,
   "id": "138badd1-29f7-4651-a07a-6a19d3592df7",
   "metadata": {},
   "outputs": [],
   "source": [
    "df_row_base = {\"negotiation_arrangement\": [None], \"name\": [None], \"billing_code_type\": [None], \"billing_code_type_version\": [None], \"billing_code\": [None],\n",
    "              \"description\": [None], \"negotiated_rate\": [None], \"expiration\": [None], \"provider_references\": [None], \"negotiated_type\": [None], \"billing_class\": [None]}\n"
   ]
  },
  {
   "cell_type": "code",
   "execution_count": null,
   "id": "2e8c962a-9cea-4f12-b6d1-0445bae9ca39",
   "metadata": {
    "tags": []
   },
   "outputs": [],
   "source": [
    "\n",
    "\n"
   ]
  },
  {
   "cell_type": "markdown",
   "id": "fd017988-c24b-486c-b65f-ebe9a19d3fd9",
   "metadata": {},
   "source": [
    "## Extract provider reference id to NPI relationship"
   ]
  },
  {
   "cell_type": "code",
   "execution_count": 32,
   "id": "29969bea-b057-49c4-834a-7c10d9d072a6",
   "metadata": {},
   "outputs": [],
   "source": [
    "provider_reference = next(f)"
   ]
  },
  {
   "cell_type": "code",
   "execution_count": 44,
   "id": "32fe3289-e845-47e2-a51e-b960b65ddc19",
   "metadata": {},
   "outputs": [],
   "source": [
    "prov_dict = provider_reference[:3090816]\n",
    "prov_dict += \"}\""
   ]
  },
  {
   "cell_type": "code",
   "execution_count": 64,
   "id": "85046617-87f4-4c0f-988b-9eef12fcb78d",
   "metadata": {
    "tags": []
   },
   "outputs": [],
   "source": [
    "providers = json.loads(prov_dict)[\"provider_references\"]\n",
    "provider_df = pd.DataFrame()\n",
    "for p in providers:\n",
    "    provider_dict = {\"provider_id\": [], \"npi_list\": [], \"tin\": [], \"tin_type\": []}\n",
    "    provider_dict[\"provider_id\"].append(p[\"provider_group_id\"])\n",
    "    provider_dict[\"npi_list\"].append(str(p[\"provider_groups\"][0][\"npi\"]))\n",
    "    provider_dict[\"tin\"].append(p[\"provider_groups\"][0][\"tin\"][\"value\"])\n",
    "    provider_dict[\"tin_type\"].append(p[\"provider_groups\"][0][\"tin\"][\"type\"])\n",
    "    provider_row = pd.DataFrame.from_dict(provider_dict)\n",
    "    provider_df = pd.concat([provider_df, provider_row])\n",
    "provider_df = provider_df.reset_index(drop=True)"
   ]
  },
  {
   "cell_type": "code",
   "execution_count": 65,
   "id": "297ea85c-68bc-45c4-a9d1-affd78580312",
   "metadata": {},
   "outputs": [],
   "source": [
    "provider_df.to_csv(\"../../data/aetna_piecewise/provider_references.csv\")"
   ]
  },
  {
   "cell_type": "markdown",
   "id": "f77d2875-23db-492c-b1bc-aa73b932ebe4",
   "metadata": {},
   "source": [
    "## Extract price per procedure csv"
   ]
  },
  {
   "cell_type": "code",
   "execution_count": 5,
   "id": "eb08eb43-d877-4f09-a63b-48ddaa5619b9",
   "metadata": {},
   "outputs": [],
   "source": [
    "def extract_dictlike(s):\n",
    "    start_idx = s.find(\"negotiation_arrangement\")\n",
    "    end_idx = s.find(\"negotiated_rates\")\n",
    "    first_dictlike = s[start_idx-1:end_idx-2]\n",
    "    first_dict = \"{\" + first_dictlike + \"}\"\n",
    "    first_dict = json.loads(first_dict)\n",
    "    return first_dict"
   ]
  },
  {
   "cell_type": "code",
   "execution_count": 14,
   "id": "4a3698d6-c12a-41a6-aa8d-fb0317252670",
   "metadata": {},
   "outputs": [],
   "source": [
    "def add_row_per_modifier(df_row_base, prices, df, idx):\n",
    "    df_row_base[\"provider_references\"] = str(prices[\"provider_references\"])\n",
    "    for modified_rate in prices[\"negotiated_prices\"]:\n",
    "        df_row_base[\"negotiated_rate\"] = [modified_rate[\"negotiated_rate\"]]\n",
    "        df_row_base[\"expiration_date\"] = [modified_rate[\"expiration_date\"]]\n",
    "        df_row_base[\"billing_class\"] = [modified_rate[\"billing_class\"]]\n",
    "        df_row_base[\"billing_code_modifier\"] = [modified_rate.get(\"billing_code_modifier\", None)]\n",
    "        df_row = pd.DataFrame(df_row_base)\n",
    "        df = pd.concat([df, df_row])\n",
    "    return df"
   ]
  },
  {
   "cell_type": "code",
   "execution_count": 11,
   "id": "5cff3238-6f5f-49c9-b96d-f61a4a8cce71",
   "metadata": {},
   "outputs": [],
   "source": [
    "def update_df(fileobj, df_row_base, prices_df, num_iters=1000):\n",
    "    for i in range(num_iters):\n",
    "        line = next(f)\n",
    "        if line.find(\"negotiation_arrangement\") != -1:\n",
    "            procedure_row = extract_dictlike(line)\n",
    "            df_row_base.update(procedure_row)\n",
    "        else:\n",
    "            start_idx = line.find(\"provider_references\")\n",
    "            line = line[start_idx:]\n",
    "            dictlike = '{\"'+ line\n",
    "            prices = json.loads(dictlike)\n",
    "            prices_df = add_row_per_modifier(df_row_base, prices, prices_df, i)\n",
    "    return prices_df"
   ]
  },
  {
   "cell_type": "code",
   "execution_count": 16,
   "id": "3509b034-3368-45b8-bfed-de1923f3d814",
   "metadata": {
    "tags": []
   },
   "outputs": [
    {
     "ename": "KeyboardInterrupt",
     "evalue": "",
     "output_type": "error",
     "traceback": [
      "\u001b[0;31m---------------------------------------------------------------------------\u001b[0m",
      "\u001b[0;31mKeyboardInterrupt\u001b[0m                         Traceback (most recent call last)",
      "Input \u001b[0;32mIn [16]\u001b[0m, in \u001b[0;36m<cell line: 7>\u001b[0;34m()\u001b[0m\n\u001b[1;32m     23\u001b[0m     prev_df \u001b[38;5;241m=\u001b[39m pd\u001b[38;5;241m.\u001b[39mDataFrame()\n\u001b[1;32m     25\u001b[0m now_df \u001b[38;5;241m=\u001b[39m pd\u001b[38;5;241m.\u001b[39mDataFrame()\n\u001b[0;32m---> 26\u001b[0m now_df \u001b[38;5;241m=\u001b[39m \u001b[43mupdate_df\u001b[49m\u001b[43m(\u001b[49m\u001b[43mf\u001b[49m\u001b[43m,\u001b[49m\u001b[43m \u001b[49m\u001b[43mdf_row_base\u001b[49m\u001b[43m,\u001b[49m\u001b[43m \u001b[49m\u001b[43mprices_df\u001b[49m\u001b[43m,\u001b[49m\u001b[43m \u001b[49m\u001b[43mread_line_iters\u001b[49m\u001b[43m)\u001b[49m\n\u001b[1;32m     27\u001b[0m now_df \u001b[38;5;241m=\u001b[39m pd\u001b[38;5;241m.\u001b[39mconcat([prev_df, now_df])\n\u001b[1;32m     28\u001b[0m now_df \u001b[38;5;241m=\u001b[39m now_df\u001b[38;5;241m.\u001b[39mloc[:, \u001b[38;5;241m~\u001b[39mnow_df\u001b[38;5;241m.\u001b[39mcolumns\u001b[38;5;241m.\u001b[39mstr\u001b[38;5;241m.\u001b[39mcontains(\u001b[38;5;124m'\u001b[39m\u001b[38;5;124m^Unnamed\u001b[39m\u001b[38;5;124m'\u001b[39m)]\n",
      "Input \u001b[0;32mIn [11]\u001b[0m, in \u001b[0;36mupdate_df\u001b[0;34m(fileobj, df_row_base, prices_df, num_iters)\u001b[0m\n\u001b[1;32m     10\u001b[0m         dictlike \u001b[38;5;241m=\u001b[39m \u001b[38;5;124m'\u001b[39m\u001b[38;5;124m{\u001b[39m\u001b[38;5;124m\"\u001b[39m\u001b[38;5;124m'\u001b[39m\u001b[38;5;241m+\u001b[39m line\n\u001b[1;32m     11\u001b[0m         prices \u001b[38;5;241m=\u001b[39m json\u001b[38;5;241m.\u001b[39mloads(dictlike)\n\u001b[0;32m---> 12\u001b[0m         prices_df \u001b[38;5;241m=\u001b[39m \u001b[43madd_row_per_modifier\u001b[49m\u001b[43m(\u001b[49m\u001b[43mdf_row_base\u001b[49m\u001b[43m,\u001b[49m\u001b[43m \u001b[49m\u001b[43mprices\u001b[49m\u001b[43m,\u001b[49m\u001b[43m \u001b[49m\u001b[43mprices_df\u001b[49m\u001b[43m,\u001b[49m\u001b[43m \u001b[49m\u001b[43mi\u001b[49m\u001b[43m)\u001b[49m\n\u001b[1;32m     13\u001b[0m \u001b[38;5;28;01mreturn\u001b[39;00m prices_df\n",
      "Input \u001b[0;32mIn [14]\u001b[0m, in \u001b[0;36madd_row_per_modifier\u001b[0;34m(df_row_base, prices, df, idx)\u001b[0m\n\u001b[1;32m      6\u001b[0m     df_row_base[\u001b[38;5;124m\"\u001b[39m\u001b[38;5;124mbilling_class\u001b[39m\u001b[38;5;124m\"\u001b[39m] \u001b[38;5;241m=\u001b[39m [modified_rate[\u001b[38;5;124m\"\u001b[39m\u001b[38;5;124mbilling_class\u001b[39m\u001b[38;5;124m\"\u001b[39m]]\n\u001b[1;32m      7\u001b[0m     df_row_base[\u001b[38;5;124m\"\u001b[39m\u001b[38;5;124mbilling_code_modifier\u001b[39m\u001b[38;5;124m\"\u001b[39m] \u001b[38;5;241m=\u001b[39m [modified_rate\u001b[38;5;241m.\u001b[39mget(\u001b[38;5;124m\"\u001b[39m\u001b[38;5;124mbilling_code_modifier\u001b[39m\u001b[38;5;124m\"\u001b[39m, \u001b[38;5;28;01mNone\u001b[39;00m)]\n\u001b[0;32m----> 8\u001b[0m     df_row \u001b[38;5;241m=\u001b[39m \u001b[43mpd\u001b[49m\u001b[38;5;241;43m.\u001b[39;49m\u001b[43mDataFrame\u001b[49m\u001b[43m(\u001b[49m\u001b[43mdf_row_base\u001b[49m\u001b[43m)\u001b[49m\n\u001b[1;32m      9\u001b[0m     df \u001b[38;5;241m=\u001b[39m pd\u001b[38;5;241m.\u001b[39mconcat([df, df_row])\n\u001b[1;32m     10\u001b[0m \u001b[38;5;28;01mreturn\u001b[39;00m df\n",
      "File \u001b[0;32m~/code/HealthPriceFinder/develop/lib/python3.10/site-packages/pandas/core/frame.py:636\u001b[0m, in \u001b[0;36mDataFrame.__init__\u001b[0;34m(self, data, index, columns, dtype, copy)\u001b[0m\n\u001b[1;32m    630\u001b[0m     mgr \u001b[38;5;241m=\u001b[39m \u001b[38;5;28mself\u001b[39m\u001b[38;5;241m.\u001b[39m_init_mgr(\n\u001b[1;32m    631\u001b[0m         data, axes\u001b[38;5;241m=\u001b[39m{\u001b[38;5;124m\"\u001b[39m\u001b[38;5;124mindex\u001b[39m\u001b[38;5;124m\"\u001b[39m: index, \u001b[38;5;124m\"\u001b[39m\u001b[38;5;124mcolumns\u001b[39m\u001b[38;5;124m\"\u001b[39m: columns}, dtype\u001b[38;5;241m=\u001b[39mdtype, copy\u001b[38;5;241m=\u001b[39mcopy\n\u001b[1;32m    632\u001b[0m     )\n\u001b[1;32m    634\u001b[0m \u001b[38;5;28;01melif\u001b[39;00m \u001b[38;5;28misinstance\u001b[39m(data, \u001b[38;5;28mdict\u001b[39m):\n\u001b[1;32m    635\u001b[0m     \u001b[38;5;66;03m# GH#38939 de facto copy defaults to False only in non-dict cases\u001b[39;00m\n\u001b[0;32m--> 636\u001b[0m     mgr \u001b[38;5;241m=\u001b[39m \u001b[43mdict_to_mgr\u001b[49m\u001b[43m(\u001b[49m\u001b[43mdata\u001b[49m\u001b[43m,\u001b[49m\u001b[43m \u001b[49m\u001b[43mindex\u001b[49m\u001b[43m,\u001b[49m\u001b[43m \u001b[49m\u001b[43mcolumns\u001b[49m\u001b[43m,\u001b[49m\u001b[43m \u001b[49m\u001b[43mdtype\u001b[49m\u001b[38;5;241;43m=\u001b[39;49m\u001b[43mdtype\u001b[49m\u001b[43m,\u001b[49m\u001b[43m \u001b[49m\u001b[43mcopy\u001b[49m\u001b[38;5;241;43m=\u001b[39;49m\u001b[43mcopy\u001b[49m\u001b[43m,\u001b[49m\u001b[43m \u001b[49m\u001b[43mtyp\u001b[49m\u001b[38;5;241;43m=\u001b[39;49m\u001b[43mmanager\u001b[49m\u001b[43m)\u001b[49m\n\u001b[1;32m    637\u001b[0m \u001b[38;5;28;01melif\u001b[39;00m \u001b[38;5;28misinstance\u001b[39m(data, ma\u001b[38;5;241m.\u001b[39mMaskedArray):\n\u001b[1;32m    638\u001b[0m     \u001b[38;5;28;01mimport\u001b[39;00m \u001b[38;5;21;01mnumpy\u001b[39;00m\u001b[38;5;21;01m.\u001b[39;00m\u001b[38;5;21;01mma\u001b[39;00m\u001b[38;5;21;01m.\u001b[39;00m\u001b[38;5;21;01mmrecords\u001b[39;00m \u001b[38;5;28;01mas\u001b[39;00m \u001b[38;5;21;01mmrecords\u001b[39;00m\n",
      "File \u001b[0;32m~/code/HealthPriceFinder/develop/lib/python3.10/site-packages/pandas/core/internals/construction.py:502\u001b[0m, in \u001b[0;36mdict_to_mgr\u001b[0;34m(data, index, columns, dtype, typ, copy)\u001b[0m\n\u001b[1;32m    494\u001b[0m     arrays \u001b[38;5;241m=\u001b[39m [\n\u001b[1;32m    495\u001b[0m         x\n\u001b[1;32m    496\u001b[0m         \u001b[38;5;28;01mif\u001b[39;00m \u001b[38;5;129;01mnot\u001b[39;00m \u001b[38;5;28mhasattr\u001b[39m(x, \u001b[38;5;124m\"\u001b[39m\u001b[38;5;124mdtype\u001b[39m\u001b[38;5;124m\"\u001b[39m) \u001b[38;5;129;01mor\u001b[39;00m \u001b[38;5;129;01mnot\u001b[39;00m \u001b[38;5;28misinstance\u001b[39m(x\u001b[38;5;241m.\u001b[39mdtype, ExtensionDtype)\n\u001b[1;32m    497\u001b[0m         \u001b[38;5;28;01melse\u001b[39;00m x\u001b[38;5;241m.\u001b[39mcopy()\n\u001b[1;32m    498\u001b[0m         \u001b[38;5;28;01mfor\u001b[39;00m x \u001b[38;5;129;01min\u001b[39;00m arrays\n\u001b[1;32m    499\u001b[0m     ]\n\u001b[1;32m    500\u001b[0m     \u001b[38;5;66;03m# TODO: can we get rid of the dt64tz special case above?\u001b[39;00m\n\u001b[0;32m--> 502\u001b[0m \u001b[38;5;28;01mreturn\u001b[39;00m \u001b[43marrays_to_mgr\u001b[49m\u001b[43m(\u001b[49m\u001b[43marrays\u001b[49m\u001b[43m,\u001b[49m\u001b[43m \u001b[49m\u001b[43mcolumns\u001b[49m\u001b[43m,\u001b[49m\u001b[43m \u001b[49m\u001b[43mindex\u001b[49m\u001b[43m,\u001b[49m\u001b[43m \u001b[49m\u001b[43mdtype\u001b[49m\u001b[38;5;241;43m=\u001b[39;49m\u001b[43mdtype\u001b[49m\u001b[43m,\u001b[49m\u001b[43m \u001b[49m\u001b[43mtyp\u001b[49m\u001b[38;5;241;43m=\u001b[39;49m\u001b[43mtyp\u001b[49m\u001b[43m,\u001b[49m\u001b[43m \u001b[49m\u001b[43mconsolidate\u001b[49m\u001b[38;5;241;43m=\u001b[39;49m\u001b[43mcopy\u001b[49m\u001b[43m)\u001b[49m\n",
      "File \u001b[0;32m~/code/HealthPriceFinder/develop/lib/python3.10/site-packages/pandas/core/internals/construction.py:125\u001b[0m, in \u001b[0;36marrays_to_mgr\u001b[0;34m(arrays, columns, index, dtype, verify_integrity, typ, consolidate)\u001b[0m\n\u001b[1;32m    122\u001b[0m         index \u001b[38;5;241m=\u001b[39m ensure_index(index)\n\u001b[1;32m    124\u001b[0m     \u001b[38;5;66;03m# don't force copy because getting jammed in an ndarray anyway\u001b[39;00m\n\u001b[0;32m--> 125\u001b[0m     arrays \u001b[38;5;241m=\u001b[39m \u001b[43m_homogenize\u001b[49m\u001b[43m(\u001b[49m\u001b[43marrays\u001b[49m\u001b[43m,\u001b[49m\u001b[43m \u001b[49m\u001b[43mindex\u001b[49m\u001b[43m,\u001b[49m\u001b[43m \u001b[49m\u001b[43mdtype\u001b[49m\u001b[43m)\u001b[49m\n\u001b[1;32m    126\u001b[0m     \u001b[38;5;66;03m# _homogenize ensures\u001b[39;00m\n\u001b[1;32m    127\u001b[0m     \u001b[38;5;66;03m#  - all(len(x) == len(index) for x in arrays)\u001b[39;00m\n\u001b[1;32m    128\u001b[0m     \u001b[38;5;66;03m#  - all(x.ndim == 1 for x in arrays)\u001b[39;00m\n\u001b[0;32m   (...)\u001b[0m\n\u001b[1;32m    131\u001b[0m \n\u001b[1;32m    132\u001b[0m \u001b[38;5;28;01melse\u001b[39;00m:\n\u001b[1;32m    133\u001b[0m     index \u001b[38;5;241m=\u001b[39m ensure_index(index)\n",
      "File \u001b[0;32m~/code/HealthPriceFinder/develop/lib/python3.10/site-packages/pandas/core/internals/construction.py:625\u001b[0m, in \u001b[0;36m_homogenize\u001b[0;34m(data, index, dtype)\u001b[0m\n\u001b[1;32m    622\u001b[0m             val \u001b[38;5;241m=\u001b[39m \u001b[38;5;28mdict\u001b[39m(val)\n\u001b[1;32m    623\u001b[0m         val \u001b[38;5;241m=\u001b[39m lib\u001b[38;5;241m.\u001b[39mfast_multiget(val, oindex\u001b[38;5;241m.\u001b[39m_values, default\u001b[38;5;241m=\u001b[39mnp\u001b[38;5;241m.\u001b[39mnan)\n\u001b[0;32m--> 625\u001b[0m     val \u001b[38;5;241m=\u001b[39m \u001b[43msanitize_array\u001b[49m\u001b[43m(\u001b[49m\n\u001b[1;32m    626\u001b[0m \u001b[43m        \u001b[49m\u001b[43mval\u001b[49m\u001b[43m,\u001b[49m\u001b[43m \u001b[49m\u001b[43mindex\u001b[49m\u001b[43m,\u001b[49m\u001b[43m \u001b[49m\u001b[43mdtype\u001b[49m\u001b[38;5;241;43m=\u001b[39;49m\u001b[43mdtype\u001b[49m\u001b[43m,\u001b[49m\u001b[43m \u001b[49m\u001b[43mcopy\u001b[49m\u001b[38;5;241;43m=\u001b[39;49m\u001b[38;5;28;43;01mFalse\u001b[39;49;00m\u001b[43m,\u001b[49m\u001b[43m \u001b[49m\u001b[43mraise_cast_failure\u001b[49m\u001b[38;5;241;43m=\u001b[39;49m\u001b[38;5;28;43;01mFalse\u001b[39;49;00m\n\u001b[1;32m    627\u001b[0m \u001b[43m    \u001b[49m\u001b[43m)\u001b[49m\n\u001b[1;32m    628\u001b[0m     com\u001b[38;5;241m.\u001b[39mrequire_length_match(val, index)\n\u001b[1;32m    630\u001b[0m homogenized\u001b[38;5;241m.\u001b[39mappend(val)\n",
      "File \u001b[0;32m~/code/HealthPriceFinder/develop/lib/python3.10/site-packages/pandas/core/construction.py:598\u001b[0m, in \u001b[0;36msanitize_array\u001b[0;34m(data, index, dtype, copy, raise_cast_failure, allow_2d)\u001b[0m\n\u001b[1;32m    596\u001b[0m         subarr \u001b[38;5;241m=\u001b[39m maybe_convert_platform(data)\n\u001b[1;32m    597\u001b[0m         \u001b[38;5;28;01mif\u001b[39;00m subarr\u001b[38;5;241m.\u001b[39mdtype \u001b[38;5;241m==\u001b[39m \u001b[38;5;28mobject\u001b[39m:\n\u001b[0;32m--> 598\u001b[0m             subarr \u001b[38;5;241m=\u001b[39m \u001b[43mcast\u001b[49m\u001b[43m(\u001b[49m\u001b[43mnp\u001b[49m\u001b[38;5;241;43m.\u001b[39;49m\u001b[43mndarray\u001b[49m\u001b[43m,\u001b[49m\u001b[43m \u001b[49m\u001b[43msubarr\u001b[49m\u001b[43m)\u001b[49m\n\u001b[1;32m    599\u001b[0m             subarr \u001b[38;5;241m=\u001b[39m maybe_infer_to_datetimelike(subarr)\n\u001b[1;32m    601\u001b[0m subarr \u001b[38;5;241m=\u001b[39m _sanitize_ndim(subarr, data, dtype, index, allow_2d\u001b[38;5;241m=\u001b[39mallow_2d)\n",
      "File \u001b[0;32m/usr/lib/python3.10/typing.py:1737\u001b[0m, in \u001b[0;36mcast\u001b[0;34m(typ, val)\u001b[0m\n\u001b[1;32m   1733\u001b[0m     \u001b[38;5;28mcls\u001b[39m\u001b[38;5;241m.\u001b[39m_is_runtime_protocol \u001b[38;5;241m=\u001b[39m \u001b[38;5;28;01mTrue\u001b[39;00m\n\u001b[1;32m   1734\u001b[0m     \u001b[38;5;28;01mreturn\u001b[39;00m \u001b[38;5;28mcls\u001b[39m\n\u001b[0;32m-> 1737\u001b[0m \u001b[38;5;28;01mdef\u001b[39;00m \u001b[38;5;21mcast\u001b[39m(typ, val):\n\u001b[1;32m   1738\u001b[0m     \u001b[38;5;124;03m\"\"\"Cast a value to a type.\u001b[39;00m\n\u001b[1;32m   1739\u001b[0m \n\u001b[1;32m   1740\u001b[0m \u001b[38;5;124;03m    This returns the value unchanged.  To the type checker this\u001b[39;00m\n\u001b[0;32m   (...)\u001b[0m\n\u001b[1;32m   1743\u001b[0m \u001b[38;5;124;03m    to be as fast as possible).\u001b[39;00m\n\u001b[1;32m   1744\u001b[0m \u001b[38;5;124;03m    \"\"\"\u001b[39;00m\n\u001b[1;32m   1745\u001b[0m     \u001b[38;5;28;01mreturn\u001b[39;00m val\n",
      "\u001b[0;31mKeyboardInterrupt\u001b[0m: "
     ]
    }
   ],
   "source": [
    "df_row_base = {\"negotiation_arrangement\": [None], \"name\": [None], \"billing_code_type\": [None], \"billing_code_type_version\": [None], \"billing_code\": [None], \"billing_code_modifier\": [None],\n",
    "              \"description\": [None], \"negotiated_rate\": [None], \"expiration_date\": [None], \"provider_references\": [None], \"negotiated_type\": [None], \"billing_class\": [None]}\n",
    "\n",
    "df_row = dict(df_row_base)\n",
    "prices_df = pd.DataFrame()\n",
    "silver_path = \"../../data/2022-09-05_bf1ee0a7-5440-47e6-a69f-c376fb6b01a7_Aetna-Life-insurance-Company.json\"\n",
    "with open(silver_path, 'r+') as f:\n",
    "    write_iters = 1000\n",
    "    read_line_iters = 1000\n",
    "    start = 1\n",
    "    for _ in range(start):\n",
    "        next(f)\n",
    "        \n",
    "    for write_iter in range(write_iters):\n",
    "        \n",
    "        read_until = start+((write_iter+1)*read_line_iters)\n",
    "        read_until_prev = start+((write_iter)*read_line_iters)\n",
    "        prev_file = f\"../../data/aetna_piecewise/procedure_costs_{start}_{read_until_prev}.csv\"\n",
    "        if os.path.exists(prev_file):\n",
    "            prev_df = pd.read_csv(prev_file)\n",
    "        else:\n",
    "            prev_df = pd.DataFrame()\n",
    "            \n",
    "        now_df = pd.DataFrame()\n",
    "        now_df = update_df(f, df_row_base, prices_df, read_line_iters)\n",
    "        now_df = pd.concat([prev_df, now_df])\n",
    "        now_df = now_df.loc[:, ~now_df.columns.str.contains('^Unnamed')]\n",
    "        now_df.to_csv(f\"../../data/aetna_piecewise/procedure_costs_{start}_{read_until}.csv\")\n",
    "        if os.path.exists(prev_file):\n",
    "            os.remove(prev_file)\n",
    "\n",
    "            "
   ]
  },
  {
   "cell_type": "code",
   "execution_count": null,
   "id": "7f3a64ae-50f1-49fa-b95b-abadca98af19",
   "metadata": {},
   "outputs": [],
   "source": [
    "df = pd.read_csv(\"../../data/aetna_piecewise/debug/procedure_costs_41000_43000.csv\")"
   ]
  },
  {
   "cell_type": "code",
   "execution_count": 157,
   "id": "d37d9c49-d8ac-48dc-a768-0aa6e2da74d3",
   "metadata": {},
   "outputs": [
    {
     "data": {
      "text/plain": [
       "REPAIR CLAVICLE DISLOCATION                                   1698\n",
       "MTHFR GENE                                                     400\n",
       "ANES UPR LWR GI NDSC PX                                        151\n",
       "IP Detox and ICD10DX F13.21                                    129\n",
       "P32 NA PHOSPHATE                                                86\n",
       "PART HOSP-PSYCH REV 912                                         19\n",
       "INSERT RADIOACT ELEM IN LOW EXTREM SUBCU/FASCIA, OPEN            9\n",
       "INSERTION OF RADIOACT ELEM INTO L UP EXTREM, PERC APPROACH       9\n",
       "DILATION OF LEFT TEMPORAL ARTERY, PERC ENDO APPROACH             7\n",
       "RESECTION OF CONDUCTION MECHANISM, OPEN APPROACH                 7\n",
       "BYPASS R EXT ILIAC ART TO L FEMOR A W SYNTH SUB, OPEN            6\n",
       "Observation Services - Beh..                                     5\n",
       "Name: name, dtype: int64"
      ]
     },
     "execution_count": 157,
     "metadata": {},
     "output_type": "execute_result"
    }
   ],
   "source": [
    "len(df)\n",
    "df.name.value_counts()"
   ]
  },
  {
   "cell_type": "code",
   "execution_count": 161,
   "id": "21202b26-eba1-414a-b412-899bf91e58e3",
   "metadata": {},
   "outputs": [
    {
     "name": "stdout",
     "output_type": "stream",
     "text": [
      "685 1698\n"
     ]
    },
    {
     "data": {
      "text/html": [
       "<div>\n",
       "<style scoped>\n",
       "    .dataframe tbody tr th:only-of-type {\n",
       "        vertical-align: middle;\n",
       "    }\n",
       "\n",
       "    .dataframe tbody tr th {\n",
       "        vertical-align: top;\n",
       "    }\n",
       "\n",
       "    .dataframe thead th {\n",
       "        text-align: right;\n",
       "    }\n",
       "</style>\n",
       "<table border=\"1\" class=\"dataframe\">\n",
       "  <thead>\n",
       "    <tr style=\"text-align: right;\">\n",
       "      <th></th>\n",
       "      <th>Unnamed: 0</th>\n",
       "      <th>negotiation_arrangement</th>\n",
       "      <th>name</th>\n",
       "      <th>billing_code_type</th>\n",
       "      <th>billing_code_type_version</th>\n",
       "      <th>billing_code</th>\n",
       "      <th>billing_code_modifier</th>\n",
       "      <th>description</th>\n",
       "      <th>negotiated_rate</th>\n",
       "      <th>expiration_date</th>\n",
       "      <th>provider_references</th>\n",
       "      <th>negotiated_type</th>\n",
       "      <th>billing_class</th>\n",
       "    </tr>\n",
       "  </thead>\n",
       "  <tbody>\n",
       "    <tr>\n",
       "      <th>2772</th>\n",
       "      <td>2772</td>\n",
       "      <td>ffs</td>\n",
       "      <td>REPAIR CLAVICLE DISLOCATION</td>\n",
       "      <td>CPT</td>\n",
       "      <td>2021.0</td>\n",
       "      <td>23530</td>\n",
       "      <td>55</td>\n",
       "      <td>REPAIR CLAVICLE DISLOCATION</td>\n",
       "      <td>115.17</td>\n",
       "      <td>9999-12-31</td>\n",
       "      <td>[688181]</td>\n",
       "      <td>NaN</td>\n",
       "      <td>professional</td>\n",
       "    </tr>\n",
       "    <tr>\n",
       "      <th>2773</th>\n",
       "      <td>2773</td>\n",
       "      <td>ffs</td>\n",
       "      <td>REPAIR CLAVICLE DISLOCATION</td>\n",
       "      <td>CPT</td>\n",
       "      <td>2021.0</td>\n",
       "      <td>23530</td>\n",
       "      <td>53</td>\n",
       "      <td>REPAIR CLAVICLE DISLOCATION</td>\n",
       "      <td>153.56</td>\n",
       "      <td>9999-12-31</td>\n",
       "      <td>[688181]</td>\n",
       "      <td>NaN</td>\n",
       "      <td>professional</td>\n",
       "    </tr>\n",
       "    <tr>\n",
       "      <th>2774</th>\n",
       "      <td>2774</td>\n",
       "      <td>ffs</td>\n",
       "      <td>REPAIR CLAVICLE DISLOCATION</td>\n",
       "      <td>CPT</td>\n",
       "      <td>2021.0</td>\n",
       "      <td>23530</td>\n",
       "      <td>52</td>\n",
       "      <td>REPAIR CLAVICLE DISLOCATION</td>\n",
       "      <td>383.90</td>\n",
       "      <td>9999-12-31</td>\n",
       "      <td>[688181]</td>\n",
       "      <td>NaN</td>\n",
       "      <td>professional</td>\n",
       "    </tr>\n",
       "    <tr>\n",
       "      <th>2775</th>\n",
       "      <td>2775</td>\n",
       "      <td>ffs</td>\n",
       "      <td>REPAIR CLAVICLE DISLOCATION</td>\n",
       "      <td>CPT</td>\n",
       "      <td>2021.0</td>\n",
       "      <td>23530</td>\n",
       "      <td>78</td>\n",
       "      <td>REPAIR CLAVICLE DISLOCATION</td>\n",
       "      <td>537.46</td>\n",
       "      <td>9999-12-31</td>\n",
       "      <td>[688181]</td>\n",
       "      <td>NaN</td>\n",
       "      <td>professional</td>\n",
       "    </tr>\n",
       "    <tr>\n",
       "      <th>2776</th>\n",
       "      <td>2776</td>\n",
       "      <td>ffs</td>\n",
       "      <td>REPAIR CLAVICLE DISLOCATION</td>\n",
       "      <td>CPT</td>\n",
       "      <td>2021.0</td>\n",
       "      <td>23530</td>\n",
       "      <td>54</td>\n",
       "      <td>REPAIR CLAVICLE DISLOCATION</td>\n",
       "      <td>575.85</td>\n",
       "      <td>9999-12-31</td>\n",
       "      <td>[688181]</td>\n",
       "      <td>NaN</td>\n",
       "      <td>professional</td>\n",
       "    </tr>\n",
       "    <tr>\n",
       "      <th>2777</th>\n",
       "      <td>2777</td>\n",
       "      <td>ffs</td>\n",
       "      <td>REPAIR CLAVICLE DISLOCATION</td>\n",
       "      <td>CPT</td>\n",
       "      <td>2021.0</td>\n",
       "      <td>23530</td>\n",
       "      <td>56</td>\n",
       "      <td>REPAIR CLAVICLE DISLOCATION</td>\n",
       "      <td>76.78</td>\n",
       "      <td>9999-12-31</td>\n",
       "      <td>[688181]</td>\n",
       "      <td>NaN</td>\n",
       "      <td>professional</td>\n",
       "    </tr>\n",
       "    <tr>\n",
       "      <th>2903</th>\n",
       "      <td>2903</td>\n",
       "      <td>ffs</td>\n",
       "      <td>REPAIR CLAVICLE DISLOCATION</td>\n",
       "      <td>CPT</td>\n",
       "      <td>2021.0</td>\n",
       "      <td>23530</td>\n",
       "      <td>30</td>\n",
       "      <td>REPAIR CLAVICLE DISLOCATION</td>\n",
       "      <td>52.00</td>\n",
       "      <td>9999-12-31</td>\n",
       "      <td>[688181]</td>\n",
       "      <td>NaN</td>\n",
       "      <td>professional</td>\n",
       "    </tr>\n",
       "  </tbody>\n",
       "</table>\n",
       "</div>"
      ],
      "text/plain": [
       "      Unnamed: 0 negotiation_arrangement                         name  \\\n",
       "2772        2772                     ffs  REPAIR CLAVICLE DISLOCATION   \n",
       "2773        2773                     ffs  REPAIR CLAVICLE DISLOCATION   \n",
       "2774        2774                     ffs  REPAIR CLAVICLE DISLOCATION   \n",
       "2775        2775                     ffs  REPAIR CLAVICLE DISLOCATION   \n",
       "2776        2776                     ffs  REPAIR CLAVICLE DISLOCATION   \n",
       "2777        2777                     ffs  REPAIR CLAVICLE DISLOCATION   \n",
       "2903        2903                     ffs  REPAIR CLAVICLE DISLOCATION   \n",
       "\n",
       "     billing_code_type  billing_code_type_version billing_code  \\\n",
       "2772               CPT                     2021.0        23530   \n",
       "2773               CPT                     2021.0        23530   \n",
       "2774               CPT                     2021.0        23530   \n",
       "2775               CPT                     2021.0        23530   \n",
       "2776               CPT                     2021.0        23530   \n",
       "2777               CPT                     2021.0        23530   \n",
       "2903               CPT                     2021.0        23530   \n",
       "\n",
       "     billing_code_modifier                  description  negotiated_rate  \\\n",
       "2772                    55  REPAIR CLAVICLE DISLOCATION           115.17   \n",
       "2773                    53  REPAIR CLAVICLE DISLOCATION           153.56   \n",
       "2774                    52  REPAIR CLAVICLE DISLOCATION           383.90   \n",
       "2775                    78  REPAIR CLAVICLE DISLOCATION           537.46   \n",
       "2776                    54  REPAIR CLAVICLE DISLOCATION           575.85   \n",
       "2777                    56  REPAIR CLAVICLE DISLOCATION            76.78   \n",
       "2903                    30  REPAIR CLAVICLE DISLOCATION            52.00   \n",
       "\n",
       "     expiration_date provider_references  negotiated_type billing_class  \n",
       "2772      9999-12-31            [688181]              NaN  professional  \n",
       "2773      9999-12-31            [688181]              NaN  professional  \n",
       "2774      9999-12-31            [688181]              NaN  professional  \n",
       "2775      9999-12-31            [688181]              NaN  professional  \n",
       "2776      9999-12-31            [688181]              NaN  professional  \n",
       "2777      9999-12-31            [688181]              NaN  professional  \n",
       "2903      9999-12-31            [688181]              NaN  professional  "
      ]
     },
     "execution_count": 161,
     "metadata": {},
     "output_type": "execute_result"
    }
   ],
   "source": [
    "subset = df.loc[df.name == \"REPAIR CLAVICLE DISLOCATION\"]\n",
    "subset.provider_references.value_counts()\n",
    "subset.loc[subset.provider_references == \"[688181]\"]"
   ]
  },
  {
   "cell_type": "code",
   "execution_count": 159,
   "id": "f12c5a22-d3ee-463a-9a3b-3085f6a51270",
   "metadata": {},
   "outputs": [
    {
     "name": "stdout",
     "output_type": "stream",
     "text": [
      "162 400\n"
     ]
    },
    {
     "data": {
      "text/plain": [
       "[451624]            34\n",
       "[337195]            23\n",
       "[552545]            23\n",
       "[293883]            23\n",
       "[701845]            23\n",
       "                    ..\n",
       "[27626]              1\n",
       "[1295]               1\n",
       "[307283]             1\n",
       "[240649, 411175]     1\n",
       "[587278, 726614]     1\n",
       "Name: provider_references, Length: 898, dtype: int64"
      ]
     },
     "execution_count": 159,
     "metadata": {},
     "output_type": "execute_result"
    }
   ],
   "source": [
    "subset = df.loc[df.name == \"MTHFR GENE\"]\n",
    "df.provider_references.value_counts()"
   ]
  },
  {
   "cell_type": "code",
   "execution_count": 29,
   "id": "42e5b263-79b6-45b2-bf10-e8f97bd20e28",
   "metadata": {},
   "outputs": [
    {
     "data": {
      "text/html": [
       "<div>\n",
       "<style scoped>\n",
       "    .dataframe tbody tr th:only-of-type {\n",
       "        vertical-align: middle;\n",
       "    }\n",
       "\n",
       "    .dataframe tbody tr th {\n",
       "        vertical-align: top;\n",
       "    }\n",
       "\n",
       "    .dataframe thead th {\n",
       "        text-align: right;\n",
       "    }\n",
       "</style>\n",
       "<table border=\"1\" class=\"dataframe\">\n",
       "  <thead>\n",
       "    <tr style=\"text-align: right;\">\n",
       "      <th></th>\n",
       "      <th>Unnamed: 0</th>\n",
       "      <th>negotiation_arrangement</th>\n",
       "      <th>name</th>\n",
       "      <th>billing_code_type</th>\n",
       "      <th>billing_code_type_version</th>\n",
       "      <th>billing_code</th>\n",
       "      <th>description</th>\n",
       "      <th>negotiated_rate</th>\n",
       "      <th>expiration_date</th>\n",
       "      <th>provider_references</th>\n",
       "      <th>negotiated_type</th>\n",
       "      <th>billing_class</th>\n",
       "    </tr>\n",
       "  </thead>\n",
       "  <tbody>\n",
       "    <tr>\n",
       "      <th>900</th>\n",
       "      <td>900</td>\n",
       "      <td>ffs</td>\n",
       "      <td>P32 NA PHOSPHATE</td>\n",
       "      <td>HCPCS</td>\n",
       "      <td>2021.0</td>\n",
       "      <td>A9563</td>\n",
       "      <td>P32 NA PHOSPHATE</td>\n",
       "      <td>365.85</td>\n",
       "      <td>9999-12-31</td>\n",
       "      <td>[451624]</td>\n",
       "      <td>NaN</td>\n",
       "      <td>institutional</td>\n",
       "    </tr>\n",
       "    <tr>\n",
       "      <th>923</th>\n",
       "      <td>923</td>\n",
       "      <td>ffs</td>\n",
       "      <td>P32 NA PHOSPHATE</td>\n",
       "      <td>HCPCS</td>\n",
       "      <td>2021.0</td>\n",
       "      <td>A9563</td>\n",
       "      <td>P32 NA PHOSPHATE</td>\n",
       "      <td>300.00</td>\n",
       "      <td>9999-12-31</td>\n",
       "      <td>[451624]</td>\n",
       "      <td>NaN</td>\n",
       "      <td>institutional</td>\n",
       "    </tr>\n",
       "    <tr>\n",
       "      <th>1898</th>\n",
       "      <td>1898</td>\n",
       "      <td>ffs</td>\n",
       "      <td>P32 NA PHOSPHATE</td>\n",
       "      <td>HCPCS</td>\n",
       "      <td>2021.0</td>\n",
       "      <td>A9563</td>\n",
       "      <td>P32 NA PHOSPHATE</td>\n",
       "      <td>365.85</td>\n",
       "      <td>9999-12-31</td>\n",
       "      <td>[451624]</td>\n",
       "      <td>NaN</td>\n",
       "      <td>institutional</td>\n",
       "    </tr>\n",
       "    <tr>\n",
       "      <th>1921</th>\n",
       "      <td>1921</td>\n",
       "      <td>ffs</td>\n",
       "      <td>P32 NA PHOSPHATE</td>\n",
       "      <td>HCPCS</td>\n",
       "      <td>2021.0</td>\n",
       "      <td>A9563</td>\n",
       "      <td>P32 NA PHOSPHATE</td>\n",
       "      <td>300.00</td>\n",
       "      <td>9999-12-31</td>\n",
       "      <td>[451624]</td>\n",
       "      <td>NaN</td>\n",
       "      <td>institutional</td>\n",
       "    </tr>\n",
       "    <tr>\n",
       "      <th>3886</th>\n",
       "      <td>3886</td>\n",
       "      <td>ffs</td>\n",
       "      <td>P32 NA PHOSPHATE</td>\n",
       "      <td>HCPCS</td>\n",
       "      <td>2021.0</td>\n",
       "      <td>A9563</td>\n",
       "      <td>P32 NA PHOSPHATE</td>\n",
       "      <td>365.85</td>\n",
       "      <td>9999-12-31</td>\n",
       "      <td>[451624]</td>\n",
       "      <td>NaN</td>\n",
       "      <td>institutional</td>\n",
       "    </tr>\n",
       "    <tr>\n",
       "      <th>3909</th>\n",
       "      <td>3909</td>\n",
       "      <td>ffs</td>\n",
       "      <td>P32 NA PHOSPHATE</td>\n",
       "      <td>HCPCS</td>\n",
       "      <td>2021.0</td>\n",
       "      <td>A9563</td>\n",
       "      <td>P32 NA PHOSPHATE</td>\n",
       "      <td>300.00</td>\n",
       "      <td>9999-12-31</td>\n",
       "      <td>[451624]</td>\n",
       "      <td>NaN</td>\n",
       "      <td>institutional</td>\n",
       "    </tr>\n",
       "    <tr>\n",
       "      <th>4884</th>\n",
       "      <td>4884</td>\n",
       "      <td>ffs</td>\n",
       "      <td>P32 NA PHOSPHATE</td>\n",
       "      <td>HCPCS</td>\n",
       "      <td>2021.0</td>\n",
       "      <td>A9563</td>\n",
       "      <td>P32 NA PHOSPHATE</td>\n",
       "      <td>365.85</td>\n",
       "      <td>9999-12-31</td>\n",
       "      <td>[451624]</td>\n",
       "      <td>NaN</td>\n",
       "      <td>institutional</td>\n",
       "    </tr>\n",
       "    <tr>\n",
       "      <th>4907</th>\n",
       "      <td>4907</td>\n",
       "      <td>ffs</td>\n",
       "      <td>P32 NA PHOSPHATE</td>\n",
       "      <td>HCPCS</td>\n",
       "      <td>2021.0</td>\n",
       "      <td>A9563</td>\n",
       "      <td>P32 NA PHOSPHATE</td>\n",
       "      <td>300.00</td>\n",
       "      <td>9999-12-31</td>\n",
       "      <td>[451624]</td>\n",
       "      <td>NaN</td>\n",
       "      <td>institutional</td>\n",
       "    </tr>\n",
       "  </tbody>\n",
       "</table>\n",
       "</div>"
      ],
      "text/plain": [
       "      Unnamed: 0 negotiation_arrangement              name billing_code_type  \\\n",
       "900          900                     ffs  P32 NA PHOSPHATE             HCPCS   \n",
       "923          923                     ffs  P32 NA PHOSPHATE             HCPCS   \n",
       "1898        1898                     ffs  P32 NA PHOSPHATE             HCPCS   \n",
       "1921        1921                     ffs  P32 NA PHOSPHATE             HCPCS   \n",
       "3886        3886                     ffs  P32 NA PHOSPHATE             HCPCS   \n",
       "3909        3909                     ffs  P32 NA PHOSPHATE             HCPCS   \n",
       "4884        4884                     ffs  P32 NA PHOSPHATE             HCPCS   \n",
       "4907        4907                     ffs  P32 NA PHOSPHATE             HCPCS   \n",
       "\n",
       "      billing_code_type_version billing_code       description  \\\n",
       "900                      2021.0        A9563  P32 NA PHOSPHATE   \n",
       "923                      2021.0        A9563  P32 NA PHOSPHATE   \n",
       "1898                     2021.0        A9563  P32 NA PHOSPHATE   \n",
       "1921                     2021.0        A9563  P32 NA PHOSPHATE   \n",
       "3886                     2021.0        A9563  P32 NA PHOSPHATE   \n",
       "3909                     2021.0        A9563  P32 NA PHOSPHATE   \n",
       "4884                     2021.0        A9563  P32 NA PHOSPHATE   \n",
       "4907                     2021.0        A9563  P32 NA PHOSPHATE   \n",
       "\n",
       "      negotiated_rate expiration_date provider_references  negotiated_type  \\\n",
       "900            365.85      9999-12-31            [451624]              NaN   \n",
       "923            300.00      9999-12-31            [451624]              NaN   \n",
       "1898           365.85      9999-12-31            [451624]              NaN   \n",
       "1921           300.00      9999-12-31            [451624]              NaN   \n",
       "3886           365.85      9999-12-31            [451624]              NaN   \n",
       "3909           300.00      9999-12-31            [451624]              NaN   \n",
       "4884           365.85      9999-12-31            [451624]              NaN   \n",
       "4907           300.00      9999-12-31            [451624]              NaN   \n",
       "\n",
       "      billing_class  \n",
       "900   institutional  \n",
       "923   institutional  \n",
       "1898  institutional  \n",
       "1921  institutional  \n",
       "3886  institutional  \n",
       "3909  institutional  \n",
       "4884  institutional  \n",
       "4907  institutional  "
      ]
     },
     "execution_count": 29,
     "metadata": {},
     "output_type": "execute_result"
    }
   ],
   "source": [
    "df.loc[df.provider_references == \"[451624]\"]"
   ]
  },
  {
   "cell_type": "code",
   "execution_count": 21,
   "id": "f4087623-2df0-49a4-a70e-27b914cee808",
   "metadata": {},
   "outputs": [],
   "source": [
    "df_row_base = {\"negotiation_arrangement\": [None], \"name\": [None], \"billing_code_type\": [None], \"billing_code_type_version\": [None], \"billing_code\": [None],\n",
    "              \"description\": [None], \"negotiated_rate\": [None], \"expiration_date\": [None], \"provider_references\": [None], \"negotiated_type\": [None], \"billing_class\": [None]}\n",
    "\n",
    "df_row = dict(df_row_base)"
   ]
  },
  {
   "cell_type": "code",
   "execution_count": 22,
   "id": "a7a80ca9-15d5-4be8-95f8-1bc89548612f",
   "metadata": {},
   "outputs": [
    {
     "data": {
      "text/plain": [
       "dict_keys(['negotiation_arrangement', 'name', 'billing_code_type', 'billing_code_type_version', 'billing_code', 'description', 'negotiated_rate', 'expiration_date', 'provider_references', 'negotiated_type', 'billing_class'])"
      ]
     },
     "execution_count": 22,
     "metadata": {},
     "output_type": "execute_result"
    }
   ],
   "source": [
    "df_row.keys()"
   ]
  },
  {
   "cell_type": "code",
   "execution_count": 23,
   "id": "47c0a993-6c26-4193-8a5e-6f65d56e0dac",
   "metadata": {},
   "outputs": [],
   "source": [
    "df_row = df_row_base.copy()\n",
    "procedure_dict = dict(df_row)\n",
    "iter_step_size = 1000000"
   ]
  },
  {
   "cell_type": "markdown",
   "id": "917b72d6-57fc-4c91-b9bb-7630d038492e",
   "metadata": {},
   "source": [
    "## Extract the disease and pricing information for 10 iter cycles"
   ]
  },
  {
   "cell_type": "code",
   "execution_count": 63,
   "id": "c2170558-5c67-4961-ad06-89ca1d2932d2",
   "metadata": {},
   "outputs": [
    {
     "ename": "UnboundLocalError",
     "evalue": "local variable 'provider_references_list' referenced before assignment",
     "output_type": "error",
     "traceback": [
      "\u001b[0;31m---------------------------------------------------------------------------\u001b[0m",
      "\u001b[0;31mUnboundLocalError\u001b[0m                         Traceback (most recent call last)",
      "Input \u001b[0;32mIn [63]\u001b[0m, in \u001b[0;36m<cell line: 2>\u001b[0;34m()\u001b[0m\n\u001b[1;32m      1\u001b[0m iter_step_size \u001b[38;5;241m=\u001b[39m \u001b[38;5;241m1000000\u001b[39m\n\u001b[1;32m      2\u001b[0m \u001b[38;5;28;01mfor\u001b[39;00m i \u001b[38;5;129;01min\u001b[39;00m \u001b[38;5;28mrange\u001b[39m(\u001b[38;5;241m10\u001b[39m):\n\u001b[0;32m----> 3\u001b[0m     main \u001b[38;5;241m=\u001b[39m \u001b[43miterate_for_df\u001b[49m\u001b[43m(\u001b[49m\u001b[43mparser\u001b[49m\u001b[43m,\u001b[49m\u001b[43m \u001b[49m\u001b[43mdf_row\u001b[49m\u001b[43m,\u001b[49m\u001b[43m \u001b[49m\u001b[43miter_step_size\u001b[49m\u001b[43m)\u001b[49m\n\u001b[1;32m      4\u001b[0m     main\u001b[38;5;241m.\u001b[39mto_csv(\u001b[38;5;124mf\u001b[39m\u001b[38;5;124m\"\u001b[39m\u001b[38;5;124m../../data/aetna_piecewise/california_sept_\u001b[39m\u001b[38;5;132;01m{\u001b[39;00mi\u001b[38;5;132;01m}\u001b[39;00m\u001b[38;5;124m.csv\u001b[39m\u001b[38;5;124m\"\u001b[39m)\n",
      "File \u001b[0;32m~/code/HealthPriceFinder/healthpricefinder/utils.py:42\u001b[0m, in \u001b[0;36miterate_for_df\u001b[0;34m(parser, df_row, iter_step_size)\u001b[0m\n\u001b[1;32m     40\u001b[0m \u001b[38;5;28;01mif\u001b[39;00m k \u001b[38;5;241m==\u001b[39m \u001b[38;5;124m\"\u001b[39m\u001b[38;5;124mprovider_references\u001b[39m\u001b[38;5;124m\"\u001b[39m:\n\u001b[1;32m     41\u001b[0m     \u001b[38;5;28;01mif\u001b[39;00m prefix \u001b[38;5;241m==\u001b[39m \u001b[38;5;124mf\u001b[39m\u001b[38;5;124m\"\u001b[39m\u001b[38;5;124min_network.item.negotiated_rates.item.\u001b[39m\u001b[38;5;132;01m{\u001b[39;00mk\u001b[38;5;132;01m}\u001b[39;00m\u001b[38;5;124m.item\u001b[39m\u001b[38;5;124m\"\u001b[39m:\n\u001b[0;32m---> 42\u001b[0m         \u001b[43mprovider_references_list\u001b[49m\u001b[38;5;241m.\u001b[39mappend(value)\n\u001b[1;32m     43\u001b[0m         s \u001b[38;5;241m=\u001b[39m json\u001b[38;5;241m.\u001b[39mdumps(provider_references_list)\n\u001b[1;32m     44\u001b[0m         procedure_dict[k] \u001b[38;5;241m=\u001b[39m [s]\n",
      "\u001b[0;31mUnboundLocalError\u001b[0m: local variable 'provider_references_list' referenced before assignment"
     ]
    }
   ],
   "source": [
    "iter_step_size = 1000000\n",
    "for i in range(10):\n",
    "    main = iterate_for_df(parser, df_row, iter_step_size)\n",
    "    main.to_csv(f\"../../data/aetna_piecewise/california_sept_{i}.csv\")"
   ]
  },
  {
   "cell_type": "code",
   "execution_count": null,
   "id": "ffbb8e4e-9956-4dd1-a363-ebcef539c1c4",
   "metadata": {},
   "outputs": [],
   "source": []
  }
 ],
 "metadata": {
  "kernelspec": {
   "display_name": "Python 3 (ipykernel)",
   "language": "python",
   "name": "python3"
  },
  "language_info": {
   "codemirror_mode": {
    "name": "ipython",
    "version": 3
   },
   "file_extension": ".py",
   "mimetype": "text/x-python",
   "name": "python",
   "nbconvert_exporter": "python",
   "pygments_lexer": "ipython3",
   "version": "3.10.6"
  }
 },
 "nbformat": 4,
 "nbformat_minor": 5
}
