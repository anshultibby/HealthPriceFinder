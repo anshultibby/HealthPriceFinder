{
 "cells": [
  {
   "cell_type": "code",
   "execution_count": 69,
   "id": "6a34ad78-82bb-4fbb-877c-ffdcce8310fc",
   "metadata": {},
   "outputs": [],
   "source": [
    "import pandas as pd\n",
    "import json\n",
    "import requests\n",
    "import math\n",
    "import urllib.request\n",
    "from bs4 import BeautifulSoup as BS"
   ]
  },
  {
   "cell_type": "markdown",
   "id": "c7491343-f0a9-4d71-8ffd-77806063b0f9",
   "metadata": {},
   "source": [
    "## Design tree\n",
    "### Patient inputs:\n",
    "1. Procedure\n",
    "2. Location\n",
    "3. Insurance\n",
    "4. Max distance allowed\n",
    "\n",
    "### Patient displayed:\n",
    "1. Sorted list by prices\n",
    "2. Distances\n",
    "3. Ratings on a web scraped version\n"
   ]
  },
  {
   "cell_type": "code",
   "execution_count": 2,
   "id": "acc34865-052a-40b4-8f82-b391c2aa61a0",
   "metadata": {},
   "outputs": [],
   "source": [
    "def extract_doctor_card(req):\n",
    "    result = req[\"results\"][0]\n",
    "    doctor = {\"name\": [], \"credential\": [], \"enumeration_date\": [], \"taxonomy\": [], \"zipcode\": [], \"address\": [], \"address_purpose\": [], \"phone\": []}\n",
    "\n",
    "    if result[\"enumeration_type\"] == \"NPI-1\":\n",
    "        doctor[\"name\"] = result[\"basic\"][\"first_name\"] + \" \" + result[\"basic\"][\"last_name\"]\n",
    "        doctor[\"credential\"] = result[\"basic\"][\"credential\"]\n",
    "\n",
    "    else:\n",
    "        doctor[\"name\"] = result[\"basic\"][\"organization_name\"]\n",
    "        doctor[\"credential\"] = \"organization\"\n",
    "        \n",
    "    doctor[\"enumeration_date\"] = result[\"basic\"][\"enumeration_date\"]\n",
    "\n",
    "    doctor[\"taxonomy\"] = result[\"taxonomies\"][0][\"desc\"]\n",
    "    doctor[\"zipcode\"] = result[\"addresses\"][0][\"postal_code\"][:5]\n",
    "    doctor[\"address\"] = result[\"addresses\"][0][\"address_1\"]\n",
    "    doctor[\"address_purpose\"] = result[\"addresses\"][0][\"address_purpose\"]\n",
    "    doctor[\"phone\"] = result[\"addresses\"][0][\"telephone_number\"]\n",
    "    return doctor\n",
    "\n",
    "def configure_npi_request(npi_id):\n",
    "    request_str = f\"https://npiregistry.cms.hhs.gov/api/?version=2.1&number={npi_id}\"\n",
    "    return request_str"
   ]
  },
  {
   "cell_type": "code",
   "execution_count": 120,
   "id": "d5141b5a-9300-4448-b559-b6c3ba11658b",
   "metadata": {},
   "outputs": [],
   "source": [
    "def getHaversineDistance(p1, p2):\n",
    "    R = 6378137; # Earth’s mean radius in meter\n",
    "    dLat = rad(p2[0] - p1[0]);\n",
    "    dLong = rad(p2[1] - p1[1]);\n",
    "    a = (math.sin(dLat / 2) * math.sin(dLat / 2) + math.cos(rad(p1[0])) * math.cos(rad(p2[0])) * \n",
    "         math.sin(dLong / 2) * math.sin(dLong / 2))\n",
    "    c = 2 * math.atan2(math.sqrt(a), math.sqrt(1 - a))\n",
    "    d = R * c #\n",
    "    return d # // returns the distance in meter\n",
    "\n",
    "def meters2miles(meters):\n",
    "    return meters * 0.000621371\n",
    "\n",
    "def rad(x):\n",
    "    return x * math.pi / 180.0;\n",
    "\n",
    "def get_lat_long(zipcode):\n",
    "    uri = f'https://public.opendatasoft.com/api/records/1.0/search/?q={zipcode}&dataset=georef-united-states-of-america-zcta5'\n",
    "    return requests.get(uri).json()[\"records\"][0][\"fields\"][\"geo_point_2d\"]\n",
    "\n",
    "def get_distance(doctor_card, patient_card):\n",
    "    p_latlong = get_lat_long(patient_card[\"zipcode\"])\n",
    "    d_latlong = get_lat_long(doctor_card[\"zipcode\"])\n",
    "    \n",
    "    d = getHaversineDistance(p_latlong, d_latlong)\n",
    "    return meters2miles(d)\n",
    "    \n",
    "def find_matching_relations(procedure_name, price_df):\n",
    "    find_matches = []\n",
    "    for i, n in enumerate(price_df.name):\n",
    "        if n == procedure_name:\n",
    "            find_matches.append(True)\n",
    "        else:\n",
    "            find_matches.append(False)\n",
    "\n",
    "    matches = price_df.loc[find_matches]\n",
    "    print(f\"found {len(matches)} price points\")\n",
    "    return matches\n",
    "\n",
    "def get_cpt_name(cpt_code):\n",
    "    url = f\"https://www.aapc.com/codes/cpt-codes/{cpt_code}\"\n",
    "    html = urllib.request.urlopen(url).read()\n",
    "    soup = BS(html)\n",
    "    cpt_procuedure = soup.title.split(\"-\")[1][1:-1]\n",
    "    return cpt_procuedure\n",
    "    \n",
    "def get_icd10x_code(icd_code):\n",
    "    url = f\"https://www.icd10data.com/search?s={icd_code}\"\n",
    "    html = urllib.request.urlopen(url).read()\n",
    "    soup = BS(html)\n",
    "    diagnosis = str(soup.find_all(\"h2\"))\n",
    "    if diagnosis:\n",
    "        diagnosis = diagnosis.split(\">\")[1].split(\"<\")[0]\n",
    "    else:\n",
    "        print(\"code failure\")\n",
    "    return diagnosis\n",
    "\n",
    "def get_icd9_code(code):\n",
    "    url = f\"https://www.icd10data.com/Convert/{code}\"\n",
    "    html = urllib.request.urlopen(url).read()\n",
    "    soup = BS(html)\n",
    "    component = str(soup.find_all(\"ul\", {\"class\":\"ulConversion\"}))\n",
    "    diagnosis = component.split(\"</a>\")[1].split(\"<\")[0][1:]\n",
    "    return diagnosis"
   ]
  },
  {
   "cell_type": "code",
   "execution_count": 130,
   "id": "9ea37659-64f9-4def-955e-b4b13a642466",
   "metadata": {},
   "outputs": [],
   "source": [
    "providers = pd.read_csv(\"../../data/aetna_piecewise/provider_references.csv\")\n",
    "prices = pd.read_csv(\"../../data/aetna_piecewise/procedure_costs_100000.csv\", skiprows=range(1, 40000), nrows=40000)"
   ]
  },
  {
   "cell_type": "code",
   "execution_count": 132,
   "id": "a881baf7-c1fd-46b1-abbb-eabff3e8e852",
   "metadata": {},
   "outputs": [
    {
     "name": "stdout",
     "output_type": "stream",
     "text": [
      "147 40000\n"
     ]
    },
    {
     "data": {
      "text/plain": [
       "array(['REVISION,FEMORAL ANASTOMOSIS',\n",
       "       'DILATION OF AORTIC VALVE WITH INTRALUM DEV, PERC APPROACH',\n",
       "       'REPAIR CAST PARTIAL FRAMEWORK, MANDIBULAR',\n",
       "       '142/REV AND 75.8 ICD9', '110/REV AND 75.7 ICD9',\n",
       "       'PART HOSP-PSYCH REV 912 &  ICD10DX  F93.8',\n",
       "       'STER CEFUR SOD PR 750MG/12MX', 'ADULT SIZE DISP INCONT-XLARG',\n",
       "       'REPAIR OF HIP DISLOCATION', '151/REV & 72.7/ICD9',\n",
       "       'PROS REP VENTRC DEF-CLOS', 'IP Detox REV 128 & ICD10 F11.259',\n",
       "       'BYPASS L COM CAROTID TO R EXTRACRAN ART W SYNTH SUB, OPEN',\n",
       "       'BYPASS R POPLIT ART TO PERON ART W AUTOL ART, PERC ENDO',\n",
       "       'DRUG TEST PRSMV DIR OPT OBS', 'ANESTH,CARDIAC ELECTROP',\n",
       "       'DILATE R EXT CAROTID W DRUG-ELUT INTRA, PERC ENDO',\n",
       "       'BYPASS PORTAL VEIN TO LOWER VEIN, OPEN APPROACH',\n",
       "       'BYPASS L FEMOR ART TO POST TIB ART W AUTOL VN, PERC ENDO',\n",
       "       'BYPASS L INT ILIAC ART TO R EXT ILIA W AUTOL ART, OPEN',\n",
       "       'REMOVAL OF MONITORING DEVICE FROM UPPER VEIN, OPEN APPROACH',\n",
       "       'INSERTION OF INTRALUM DEV INTO L VERTEB VEIN, OPEN APPROACH',\n",
       "       'SUPPLEMENT INNOMINATE ARTERY WITH SYNTH SUB, PERC APPROACH',\n",
       "       'Restriction of R Com Carotid with Flow Divert, Open Approach',\n",
       "       'PART HOSP-PSYCH', 'STOMACH, ESOPHAGEAL & DUODEN',\n",
       "       'REV 762 AND ICD10DX F90.9', 'SCREEN C/V THIN LAYER BY MD',\n",
       "       'PART HOSP-PSYCH REV 913 &  ICD10DX  F40.291',\n",
       "       'DILATION OF R EXT CAROTID WITH 2 DRUG-ELUT, OPEN APPROACH',\n",
       "       'CHEMODENERVATION OF ABDUCTOR', 'PART HOSP-PSYCH REV 912 &',\n",
       "       'BYPASS L AXILLA ART TO LOW ARM VEIN W AUTOL ART, OPEN',\n",
       "       'CARE MAN HOME CARE PLAN 30 M', 'REPAIR PALATE',\n",
       "       '141/REV & 73.21/ICD9', 'IP Detox and ICD10PX HZ97ZZZ',\n",
       "       'FUSION RADIOULNAR JNT/ULNA', 'PELVIC BELT/HARNESS/BOOT',\n",
       "       'SUPPLEMENT STOMACH WITH NONAUT SUB, OPEN APPROACH',\n",
       "       'PROS SOCK SINGLE PLY AK',\n",
       "       'DILATION OF L COLIC ART WITH 4+ INTRALUM DEV, PERC APPROACH',\n",
       "       'PART HOSP-PSYCH REV 913 &  ICD10DX  F40.10',\n",
       "       'TRANSFUSION MEDICINE', '120/REV & 72.7/ICD9',\n",
       "       'BYPASS L TEMPORAL ART TO INTRACRAN ART W SYNTH SUB, OPEN',\n",
       "       'REPAIR INNOMINATE ARTERY, PERCUTANEOUS ENDOSCOPIC APPROACH',\n",
       "       'EXCISION OF LEFT LOWER LUNG LOBE, OPEN APPROACH, DIAGNOSTIC',\n",
       "       'CT/CTA/MRI/A NO FOLLUP IMAG', '122/REV & 59620/CPT4',\n",
       "       'EXTIRPATION OF MATTER FROM LEFT RADIAL ARTERY, PERC APPROACH',\n",
       "       'ULTRASONOGRAPHY OF RIGHT LOWER EXTREMITY VEINS, INTRAVASC',\n",
       "       'MRI BREAST C-+ W/CAD BILYS', 'EXTENSIVE SURGERY OF THROAT',\n",
       "       'ELBOW ARTHROSCOPY', 'HEARING AID, MONAURAL, CIC',\n",
       "       '150/REV & 73.59/ICD9', 'PERCUTANEOUS INTRADISCAL',\n",
       "       'CYTOPATH REPORT-NONGYN SPCMN', 'PT ASKED RE SYMP AUTO DYSFXN',\n",
       "       'IP Detox REV 158 & ICD10 F14.24', '101/REV & 59622/CPT4',\n",
       "       'PROLONG PREV SVCS, FIRST 30M', 'DYSPNEA NOT SCREENED',\n",
       "       'REV 148 & ICD9 305.33',\n",
       "       'BYPASS ABD AORTA TO MESENT ART WITH AUTOL ART, OPEN APPROACH',\n",
       "       'RELEASE RIGHT TEMPORAL ARTERY, PERC ENDO APPROACH',\n",
       "       'MED ASSIST TX BUPRE ORAL',\n",
       "       'EXTIRPATION OF MATTER FROM ATRIAL SEPTUM, PERC APPROACH',\n",
       "       'MOG-IGG1 ANTB CBA EACH', 'PART HOSP - REV 912 & ICD10DX F10.20',\n",
       "       'RELOCATION OF TESTIS(ES)', 'NUTRITION CLASS',\n",
       "       'BYPASS R ATRIUM TO PULM TRUNK WITH NONAUT SUB, OPEN APPROACH',\n",
       "       'MEDIASTINOSCPY W/LMPH NOD BX',\n",
       "       'CORROSION OF FIRST DEGREE OF BACK OF UNSP HAND, INIT ENCNTR',\n",
       "       'BURN OF UNSP DEGREE OF LEFT HAND, UNSP SITE, INIT ENCNTR',\n",
       "       'DILATION OF RIGHT AXILLARY ARTERY, PERC ENDO APPROACH',\n",
       "       'BYPASS 1 COR ART FROM THOR ART W AUTOL ART, PERC ENDO',\n",
       "       'REV 762 AND ICD10DX F10.14', 'HYDROGEL DSG>16<=48 SQ IN',\n",
       "       'BYPASS 2 COR ART FROM AORTA W SYNTH SUB, PERC ENDO',\n",
       "       'SUPPLEMENT R BASILIC VEIN W NONAUT SUB, PERC ENDO',\n",
       "       'REV 204 & ICD10PX HZ51ZZZ',\n",
       "       'CORROS SECOND DEGREE OF UNSP MULT FNGR, INC THUMB, SQLA',\n",
       "       'OPEN CHEST HEART MASSAGE',\n",
       "       'BYPASS R COM ILIAC ART TO B FEMOR A W AUTOL ART, PERC ENDO',\n",
       "       'MED REAS NO RPT HISTO TYPE',\n",
       "       'RESTRICT L EXT JUGULAR VEIN W EXTRALUM DEV, OPEN',\n",
       "       'DILATE R ULNAR ART W INTRALUM DEV, DRUG BLLN, PERC',\n",
       "       'BIOPSY OF UPPER NOSE/THROAT', 'LUNG TRANSPLANT, SINGLE', nan,\n",
       "       'REV 118 &  ICD10PX HZ97ZZZ', 'REVJ/RPLCMT OI IMPLT PRQ ESP',\n",
       "       'BYPASS RIGHT VENTRICLE TO R INT MAMMARY, PERC ENDO APPROACH',\n",
       "       'ANESTH, BICEPS TENDON RE5+TM',\n",
       "       'BH Observation REV 762 & ICD10 F13.251',\n",
       "       'BYPASS LEFT RADIAL ARTERY TO LOWER ARM VEIN, OPEN APPROACH',\n",
       "       'REPAIR LEFT SUBMAXILLARY GLAND, PERCUTANEOUS APPROACH',\n",
       "       'BYPASS L COM ILIAC ART TO L COM ILIA W AUTOL VN, OPEN',\n",
       "       'Observation Services - Beh..', 'VEEG 2-12 HR UNMONITORED',\n",
       "       'IP Detox REV 118 & ICD10 F14.220', 'REV 118 &  ICD10PX HZ3BZZZ',\n",
       "       'ANESTH, WRIST REPLACEMEN6+TM', 'IP Detox REV 118 & ICD10 F12.288',\n",
       "       'REMOVE EYE LESION', 'NOT REF FOR OTO EVAL',\n",
       "       'PT EDUC RE APPROP FT CARE +',\n",
       "       'DRAINAGE OF RIGHT INNOMINATE VEIN, PERC APPROACH, DIAGN',\n",
       "       'INSERTION OF CATHETER, VEIN', '3RD DEG BURN ANKLE',\n",
       "       'SUPPLEMENT R SUBCLAV VEIN WITH SYNTH SUB, PERC APPROACH',\n",
       "       'INSERT INTRALUM DEV IN R VERTEB VEIN, PERC ENDO',\n",
       "       'IP Detox and ICD10DX F55.0',\n",
       "       'INSERT INFUSION DEV IN L COM CAROTID, PERC ENDO',\n",
       "       '140/REV & 72.9/ICD9',\n",
       "       'BYPASS 2 COR ART FROM ABD ART WITH AUTOL VN, OPEN APPROACH',\n",
       "       'INJECTION, ANTERIOR CHAMBER', '111/REV & 481/REV',\n",
       "       'NUCLEAR SCAN OF SKELETON', 'ABDUCTION AND ROTATION BARS',\n",
       "       '130/REV AND 75.37 ICD9',\n",
       "       'DILATION OF L HAND ART WITH 4+ INTRALUM DEV, OPEN APPROACH',\n",
       "       'BYPASS L SUBCLAV ART TO L LOW ARM ART W AUTOL ART, OPEN',\n",
       "       'DILATE R BRACH ART W INTRALUM DEV, DRUG BLLN, OPEN',\n",
       "       'EXCISION OF L EXT CAROTID, OPEN APPROACH, DIAGN',\n",
       "       'REMOVAL OF SKULL LESION',\n",
       "       'PART HOSP-PSYCH REV 912 &  ICD10DX  F15.281',\n",
       "       'BYPASS INNOM ART TO R UP ARM ART W SYNTH SUB, OPEN',\n",
       "       'EXTIRPATION OF MATTER FROM L BRACH ART, OPEN APPROACH',\n",
       "       'HIB-MENCY VACCINE 4 DOSE IM',\n",
       "       'DRAINAGE OF RIGHT COMMON CAROTID ARTERY, PERC ENDO APPROACH',\n",
       "       'INSERTION OF OTHER DEVICE INTO HEART, PERCUTANEOUS APPROACH',\n",
       "       'EXTIRPATE MATTER FROM L INT JUGULAR VEIN, PERC ENDO',\n",
       "       'BYPASS R AXILLA ART TO ABD ART WITH AUTOL ART, OPEN APPROACH',\n",
       "       'VAGINAL HYSTERECTOMY', 'PART HOSP - REV 912 & ICD10DX F55.0',\n",
       "       'SOCKET INSERT W LOCK MECH', 'CARE MANAG H VST NEW PT 60 M',\n",
       "       'DILATION OF R THYROID ART WITH 3 INTRALUM DEV, PERC APPROACH',\n",
       "       '132/REV AND 75.2 ICD9', 'REV 148 & ICD9 94.61',\n",
       "       'PARTIAL REMOVAL OF TOE', 'REV 138 & ICD10PX HZ97ZZZ',\n",
       "       'NO DOC CUR FUNCT ASSESS'], dtype=object)"
      ]
     },
     "execution_count": 132,
     "metadata": {},
     "output_type": "execute_result"
    }
   ],
   "source": [
    "print(len(prices.name.unique()), len(prices))\n",
    "prices.name.unique()"
   ]
  },
  {
   "cell_type": "code",
   "execution_count": 133,
   "id": "01d34e81-e9f4-4e16-8bfc-480cacf35338",
   "metadata": {},
   "outputs": [
    {
     "name": "stdout",
     "output_type": "stream",
     "text": [
      "found 75 price points\n"
     ]
    }
   ],
   "source": [
    "matches = find_matching_relations('HIB-MENCY VACCINE 4 DOSE IM', prices)"
   ]
  },
  {
   "cell_type": "code",
   "execution_count": 135,
   "id": "e11e9960-bb0f-40d5-8e05-ff964cfc07e6",
   "metadata": {},
   "outputs": [
    {
     "data": {
      "text/html": [
       "<div>\n",
       "<style scoped>\n",
       "    .dataframe tbody tr th:only-of-type {\n",
       "        vertical-align: middle;\n",
       "    }\n",
       "\n",
       "    .dataframe tbody tr th {\n",
       "        vertical-align: top;\n",
       "    }\n",
       "\n",
       "    .dataframe thead th {\n",
       "        text-align: right;\n",
       "    }\n",
       "</style>\n",
       "<table border=\"1\" class=\"dataframe\">\n",
       "  <thead>\n",
       "    <tr style=\"text-align: right;\">\n",
       "      <th></th>\n",
       "      <th>negotiated_rate</th>\n",
       "      <th>provider_references</th>\n",
       "    </tr>\n",
       "  </thead>\n",
       "  <tbody>\n",
       "    <tr>\n",
       "      <th>27166</th>\n",
       "      <td>24.95</td>\n",
       "      <td>[505156]</td>\n",
       "    </tr>\n",
       "    <tr>\n",
       "      <th>27201</th>\n",
       "      <td>24.95</td>\n",
       "      <td>[337195]</td>\n",
       "    </tr>\n",
       "    <tr>\n",
       "      <th>27239</th>\n",
       "      <td>24.95</td>\n",
       "      <td>[605142]</td>\n",
       "    </tr>\n",
       "    <tr>\n",
       "      <th>27204</th>\n",
       "      <td>24.95</td>\n",
       "      <td>[360648]</td>\n",
       "    </tr>\n",
       "    <tr>\n",
       "      <th>27205</th>\n",
       "      <td>24.95</td>\n",
       "      <td>[305930, 762874]</td>\n",
       "    </tr>\n",
       "    <tr>\n",
       "      <th>...</th>\n",
       "      <td>...</td>\n",
       "      <td>...</td>\n",
       "    </tr>\n",
       "    <tr>\n",
       "      <th>27186</th>\n",
       "      <td>60.90</td>\n",
       "      <td>[393401, 433573, 469487, 499111, 524415, 679713]</td>\n",
       "    </tr>\n",
       "    <tr>\n",
       "      <th>27234</th>\n",
       "      <td>60.90</td>\n",
       "      <td>[109952]</td>\n",
       "    </tr>\n",
       "    <tr>\n",
       "      <th>27191</th>\n",
       "      <td>60.90</td>\n",
       "      <td>[350168]</td>\n",
       "    </tr>\n",
       "    <tr>\n",
       "      <th>27237</th>\n",
       "      <td>60.90</td>\n",
       "      <td>[605009]</td>\n",
       "    </tr>\n",
       "    <tr>\n",
       "      <th>27198</th>\n",
       "      <td>60.90</td>\n",
       "      <td>[122546, 338187]</td>\n",
       "    </tr>\n",
       "  </tbody>\n",
       "</table>\n",
       "<p>75 rows × 2 columns</p>\n",
       "</div>"
      ],
      "text/plain": [
       "       negotiated_rate                               provider_references\n",
       "27166            24.95                                          [505156]\n",
       "27201            24.95                                          [337195]\n",
       "27239            24.95                                          [605142]\n",
       "27204            24.95                                          [360648]\n",
       "27205            24.95                                  [305930, 762874]\n",
       "...                ...                                               ...\n",
       "27186            60.90  [393401, 433573, 469487, 499111, 524415, 679713]\n",
       "27234            60.90                                          [109952]\n",
       "27191            60.90                                          [350168]\n",
       "27237            60.90                                          [605009]\n",
       "27198            60.90                                  [122546, 338187]\n",
       "\n",
       "[75 rows x 2 columns]"
      ]
     },
     "execution_count": 135,
     "metadata": {},
     "output_type": "execute_result"
    }
   ],
   "source": [
    "sorted_matches = matches.sort_values(\"negotiated_rate\")\n",
    "sorted_matches[[\"negotiated_rate\", \"provider_references\"]]"
   ]
  },
  {
   "cell_type": "code",
   "execution_count": 167,
   "id": "81bef4a6-f076-4ce7-b7da-e2e4f1e41073",
   "metadata": {},
   "outputs": [
    {
     "name": "stdout",
     "output_type": "stream",
     "text": [
      "There are 1 providers for this provider reference id\n",
      "There are 1 providers for this NPI\n",
      "1225569643\n"
     ]
    }
   ],
   "source": [
    "provider_ids = json.loads(list(sorted_matches[\"provider_references\"])[5])\n",
    "print(f\"There are {len(provider_ids)} providers for this provider reference id\")\n",
    "npis = list(providers.loc[providers.provider_id.isin(provider_ids)][\"npi_list\"])\n",
    "print(f\"There are {len(npis)} providers for this NPI\")\n",
    "npi = json.loads(npis[0])[0]\n",
    "print(npi)\n"
   ]
  },
  {
   "cell_type": "code",
   "execution_count": 168,
   "id": "5bcaa2d7-5528-4109-a8da-b39dc9a2a9f0",
   "metadata": {},
   "outputs": [],
   "source": [
    "r = requests.get(configure_npi_request(npi))\n",
    "doctor = extract_doctor_card(r.json())"
   ]
  },
  {
   "cell_type": "code",
   "execution_count": 169,
   "id": "458642a4-965f-4553-abbe-88386c9e9537",
   "metadata": {},
   "outputs": [
    {
     "data": {
      "text/plain": [
       "{'name': 'ROUNDYS SUPERMARKETS INC',\n",
       " 'credential': 'organization',\n",
       " 'enumeration_date': '2017-03-27',\n",
       " 'taxonomy': 'Durable Medical Equipment & Medical Supplies',\n",
       " 'zipcode': '53089',\n",
       " 'address': 'N65W24838 MAIN ST',\n",
       " 'address_purpose': 'LOCATION',\n",
       " 'phone': '414-231-5959'}"
      ]
     },
     "execution_count": 169,
     "metadata": {},
     "output_type": "execute_result"
    }
   ],
   "source": [
    "doctor"
   ]
  },
  {
   "cell_type": "code",
   "execution_count": 146,
   "id": "12870cf8-b0ee-4dec-b0bf-5e3c46873180",
   "metadata": {},
   "outputs": [],
   "source": [
    "input_card = {\"zipcode\": 94086, \"insurance\": \"Aetna\", \"procedure\": \"ELBOW\"}"
   ]
  },
  {
   "cell_type": "code",
   "execution_count": 121,
   "id": "e802259e-89fb-44cd-91e7-c2b60a5fbf59",
   "metadata": {},
   "outputs": [
    {
     "data": {
      "text/plain": [
       "379.7142673439573"
      ]
     },
     "execution_count": 121,
     "metadata": {},
     "output_type": "execute_result"
    }
   ],
   "source": [
    "get_distance(doctor, input_card)"
   ]
  },
  {
   "cell_type": "code",
   "execution_count": 145,
   "id": "cad10a77-12b2-4e5f-9d70-a14c96bb9ac9",
   "metadata": {},
   "outputs": [
    {
     "data": {
      "text/plain": [
       "{'name': 'MONICA CECILE NICHOLS',\n",
       " 'credential': 'MD',\n",
       " 'enumeration_date': '2006-10-10',\n",
       " 'gender': 'F',\n",
       " 'taxonomy': 'Psychiatry & Neurology, Psychiatry',\n",
       " 'zipcode': '92563',\n",
       " 'address': '28078 BAXTER RD STE 230',\n",
       " 'address_purpose': 'LOCATION',\n",
       " 'phone': '951-824-6116'}"
      ]
     },
     "execution_count": 145,
     "metadata": {},
     "output_type": "execute_result"
    }
   ],
   "source": [
    "doctor"
   ]
  },
  {
   "cell_type": "code",
   "execution_count": 97,
   "id": "49df20b4-833a-45ad-b554-6f428c57392c",
   "metadata": {},
   "outputs": [],
   "source": []
  },
  {
   "cell_type": "code",
   "execution_count": 95,
   "id": "d5c5151e-40f9-4b88-b0cd-b597c04122ad",
   "metadata": {},
   "outputs": [
    {
     "data": {
      "text/plain": [
       "'Cocaine dependence with cocaine-induced mood disorder'"
      ]
     },
     "execution_count": 95,
     "metadata": {},
     "output_type": "execute_result"
    }
   ],
   "source": []
  },
  {
   "cell_type": "code",
   "execution_count": 90,
   "id": "acade3c3-815d-4ca3-8b29-05dfc4977c42",
   "metadata": {},
   "outputs": [
    {
     "data": {
      "text/plain": [
       "['\\n\\n\\nSearch Page 1/1: F10.20\\n\\n\\n\\n\\n\\n\\n\\n\\n\\n\\n\\n\\n\\n\\n\\n\\n\\n\\n\\n\\n\\n\\n\\nToggle navigation\\n\\n\\n\\n\\n\\n\\n\\n\\n\\n\\n\\n\\n\\n\\n\\n\\nSearch All ICD-10\\n\\nToggle Dropdown\\n\\n\\n\\nSearch All ICD-10\\n\\n\\nICD-10-CM Diagnosis Codes\\nICD-10-PCS Procedure Codes\\n\\nICD-10-CM Diagnosis Index\\nICD-10-CM External Causes Index\\n\\nICD-10-CM Table of Drugs\\nICD-10-CM Table of Neoplasms\\n\\nHCPCS Codes\\n\\nICD-9-CM Diagnosis Codes\\nICD-9-CM Procedure Codes\\n\\nSearch All Data\\n\\n\\n\\n\\n\\n\\n\\n\\n\\n2023/2022\\n\\n\\n\\nCodes \\n\\nICD-10-CM Codes\\nICD-10-PCS Codes\\nLegacy ICD-9-CM Codes\\n\\n\\n\\nIndexes \\n\\nICD-10-CM Index\\nICD-10-CM External Causes Index\\n\\nTable of Drugs\\nTable of Neoplasms\\n\\n\\nConversion\\nDRG\\n\\nRules \\n\\nICD-10-CM\\nNewborn Codes\\nPediatric Codes\\nAdult Codes\\nMaternity Codes\\nFemale Only Diagnosis Codes\\nMale Only Diagnosis Codes\\nManifestation Codes\\nPOA Exempt Codes\\nQuestionable Admission Codes\\nBillable/Specific Codes\\nNon-Billable/Non-Specific Codes\\nICD-10-PCS\\nFemale Only Procedure Codes\\nMale Only Procedure Codes\\n\\n\\n\\nAnalytics \\n\\nApplicable To Crosswalk\\nCode Also Crosswalk\\nCode First Crosswalk\\nIncludes Crosswalk\\nNote Crosswalk\\nType 1 Excludes Crosswalk\\nType 2 Excludes Crosswalk\\nUse Additional Crosswalk\\n\\n\\n\\nChanges \\n\\nICD-10-CM\\nNew 2023 Codes\\nCodes Revised in 2023\\nCodes Deleted in 2023\\nICD-10-PCS\\nNew 2023 Codes\\nCodes Revised in 2023\\nCodes Deleted in 2023\\n\\n\\n\\nHCPCS \\n\\nCodes\\nModifiers\\n\\n\\nLicense Data Files\\nDisclaimer\\n\\n\\n\\n\\n\\n\\n\\n\\n1 result found:\\n\\n  \\n\\n\\n ICD-10-CM Diagnosis Code F10.20  [convert to ICD-9-CM]Alcohol dependence, uncomplicatedICD-10-CM Diagnosis Code F10.20Alcohol dependence, uncomplicated2016 2017 2018 2019 2020 2021 2022 2023 Billable/Specific Code Applicable ToAlcohol use disorder, moderateAlcohol use disorder, severe\\n\\n\\n\\n\\n\\n\\n  \\n\\n\\n\\n  \\n\\n\\n\\n\\n\\n\\n\\n\\n\\n\\nAdvertise with Us  |  License ICD10 Data\\n\\n\\n\\n\\r\\n                        Copyright ©   |  ICD10data.com\\r\\n                    \\n\\n\\n\\n\\n\\n\\n  \\n\\n\\n\\n\\n\\n']"
      ]
     },
     "execution_count": 90,
     "metadata": {},
     "output_type": "execute_result"
    }
   ],
   "source": [
    "str(soup.get_text()).split(\"F14.24\")"
   ]
  },
  {
   "cell_type": "code",
   "execution_count": 119,
   "id": "f6699d1e-5675-4236-a02d-26ce2b0ef648",
   "metadata": {},
   "outputs": [],
   "source": []
  },
  {
   "cell_type": "code",
   "execution_count": 117,
   "id": "98476ad4-7ecb-4b9a-b0c1-802f5e2b921b",
   "metadata": {},
   "outputs": [],
   "source": []
  },
  {
   "cell_type": "code",
   "execution_count": 118,
   "id": "ca91c96e-1b9c-4e32-834c-d05851c2868c",
   "metadata": {},
   "outputs": [
    {
     "data": {
      "text/plain": [
       "'Delivery of Products of Conception, External Approach'"
      ]
     },
     "execution_count": 118,
     "metadata": {},
     "output_type": "execute_result"
    }
   ],
   "source": [
    "diagnosis"
   ]
  },
  {
   "cell_type": "code",
   "execution_count": null,
   "id": "dc0b0555-2720-422d-9f2e-49a1d1ebdaf1",
   "metadata": {},
   "outputs": [],
   "source": []
  }
 ],
 "metadata": {
  "kernelspec": {
   "display_name": "Python 3 (ipykernel)",
   "language": "python",
   "name": "python3"
  },
  "language_info": {
   "codemirror_mode": {
    "name": "ipython",
    "version": 3
   },
   "file_extension": ".py",
   "mimetype": "text/x-python",
   "name": "python",
   "nbconvert_exporter": "python",
   "pygments_lexer": "ipython3",
   "version": "3.10.4"
  }
 },
 "nbformat": 4,
 "nbformat_minor": 5
}
